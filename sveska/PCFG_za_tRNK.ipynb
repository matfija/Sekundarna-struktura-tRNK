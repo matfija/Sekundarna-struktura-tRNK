{
 "cells": [
  {
   "cell_type": "markdown",
   "id": "9464aad9",
   "metadata": {},
   "source": [
    "## *PCFG* za *tRNK*<a id=\"par:toc\"></a>"
   ]
  },
  {
   "cell_type": "markdown",
   "id": "e4e96962",
   "metadata": {},
   "source": [
    "U radu je razmotrena primena [probabilističkih kontekstno slobodnih gramatika](https://en.wikipedia.org/wiki/Probabilistic_context-free_grammar) (*PCFG*) u predviđanju sekundarne strukture [transportne ribonukleinske kiseline](https://en.wikipedia.org/wiki/Transfer_RNA) (*tRNK*). Preuzet je [skup *tRNK* sa pridruženim strukturama](http://trna.bioinf.uni-leipzig.de/DataOutput/), nakon čega je na delu podataka obučeno nekoliko stohastičkih gramatika. Modeli su vrednovani prema ponašanju na drugom delu podataka, odnosno sličnosti predviđene strukture sa stvarnom. Upoređeni su kako međusobno, tako i sa [literaturom](https://bmcbioinformatics.biomedcentral.com/articles/10.1186/1471-2105-5-71)."
   ]
  },
  {
   "cell_type": "markdown",
   "id": "0497f578",
   "metadata": {},
   "source": [
    "## Sadržaj"
   ]
  },
  {
   "cell_type": "markdown",
   "id": "309073d8",
   "metadata": {},
   "source": [
    "1. [Primarna struktura](#par:prim)\n",
    "2. [Sekundarna struktura](#par:sekund)\n",
    "3. [Gramatika *Nussinov*](#par:nuss)\n",
    "4. [Gramatika *KH-99*](#par:kh99)\n",
    "5. [Model kovarijacije](#par:kovar)\n",
    "6. [Baza podataka *tRNAdb*](#par:trnadb)\n",
    "7. [Konstrukcija modela](#par:konstr)\n",
    "8. [Poređenje modela](#par:poredj)\n",
    "9. [Zaključne odredbe](#par:zaklj)"
   ]
  },
  {
   "cell_type": "markdown",
   "id": "32a5b1b0",
   "metadata": {},
   "source": [
    "## 1. Primarna struktura [⮭]<a id=\"par:prim\"></a>\n",
    "\n",
    "[⮭]: #par:toc"
   ]
  },
  {
   "cell_type": "markdown",
   "id": "6eb1fc45",
   "metadata": {},
   "source": [
    "Sekundarnoj strukturi, naravno, prethodni [primarna](https://en.wikipedia.org/wiki/Nucleic_acid_sequence). *RNK* se najčešće predstavlja kao niska nad azbukom ribonukleotida $\\{A, U, C, G\\}$."
   ]
  },
  {
   "cell_type": "markdown",
   "id": "6540df2f",
   "metadata": {},
   "source": [
    "<img src='../slike/RNK.png' width='40%'>"
   ]
  },
  {
   "cell_type": "markdown",
   "id": "af980983",
   "metadata": {},
   "source": [
    "Pored $A-U$ i $C-G$ prema [Votsonu i Kriku](https://en.wikipedia.org/wiki/Base_pair), zbog povoljne termodinamičke konfiguracije ponekad se uparuje i [nekanonski](https://en.wikipedia.org/wiki/Non-canonical_base_pairing) ([*wobble*](https://en.wikipedia.org/wiki/Wobble_base_pair)) par $U-G$."
   ]
  },
  {
   "cell_type": "code",
   "execution_count": 1,
   "id": "cf4ab486",
   "metadata": {},
   "outputs": [],
   "source": [
    "# Azbuka ribonukleotida\n",
    "A, U, C, G = 'AUCG'\n",
    "\n",
    "# Pamćenje azbuke kao skupa\n",
    "azbuka = {A, U, C, G}\n",
    "\n",
    "# Moguća uparivanja ribonukleotida\n",
    "parovi = [(A, U), (U, A), (C, G), (G, C), (U, G), (G, U)]\n",
    "\n",
    "# Provera korektnosti uparivanja\n",
    "def par(*rns):\n",
    "    return rns in parovi"
   ]
  },
  {
   "cell_type": "code",
   "execution_count": 2,
   "id": "66171dcb",
   "metadata": {},
   "outputs": [
    {
     "data": {
      "text/plain": [
       "True"
      ]
     },
     "execution_count": 2,
     "metadata": {},
     "output_type": "execute_result"
    }
   ],
   "source": [
    "# Adenin se uparuje sa uracilom\n",
    "par(A, U)"
   ]
  },
  {
   "cell_type": "code",
   "execution_count": 3,
   "id": "fcdf6560",
   "metadata": {},
   "outputs": [
    {
     "data": {
      "text/plain": [
       "False"
      ]
     },
     "execution_count": 3,
     "metadata": {},
     "output_type": "execute_result"
    }
   ],
   "source": [
    "# Adenin se ne uparuje sa guaninon\n",
    "par(A, G)"
   ]
  },
  {
   "cell_type": "markdown",
   "id": "90eb911d",
   "metadata": {},
   "source": [
    "Specijalno, sekvencu mogu činiti i drugi karakteri, koji predstavljaju [modifikovane baze](https://en.wikipedia.org/wiki/Nucleobase#Modified_nucleobases). Na primer, pseudouridin (*P*) predstavlja izmenjeni uridin (*U*). Jednostavnosti radi, a usled ograničenja uparivanja koje sama sekundarna struktura nameće, ovakva modifikovanost može se slobodno zanemariti."
   ]
  },
  {
   "cell_type": "code",
   "execution_count": 4,
   "id": "40f0c26d",
   "metadata": {},
   "outputs": [],
   "source": [
    "# Biblioteka za regularne izraze\n",
    "import re\n",
    "\n",
    "# Svođenje sekvence na četiri ribonukleotida\n",
    "def standardizuj(sekvenca):\n",
    "    # Standardizacija svih modifikacija adenina\n",
    "    sekvenca = re.sub('[H\"/+*=6E[:IO^`]', A, sekvenca)\n",
    "    \n",
    "    # Standardizacija svih modifikacija uracila\n",
    "    sekvenca = re.sub(r'[tN{2J4&1S3V5!$X,)~DP\\]ZTF\\\\]', U, sekvenca)\n",
    "    \n",
    "    # Standardizacija svih modifikacija citozina\n",
    "    sekvenca = re.sub(\"[<%BM?'}>°]\", C, sekvenca)\n",
    "    \n",
    "    # Standardizacija svih modifikacija guanina\n",
    "    sekvenca = re.sub('[;KL#R|7(Q89YW]', G, sekvenca)\n",
    "    \n",
    "    # Vraćanje standardizovane sekvence\n",
    "    return sekvenca"
   ]
  },
  {
   "cell_type": "code",
   "execution_count": 5,
   "id": "084fe566",
   "metadata": {},
   "outputs": [
    {
     "data": {
      "text/plain": [
       "('LUGJA4G', 'GUGUAUG')"
      ]
     },
     "execution_count": 5,
     "metadata": {},
     "output_type": "execute_result"
    }
   ],
   "source": [
    "# Primer jedne nestandarnde sekvence\n",
    "sekvenca1 = 'LUGJA4G'\n",
    "\n",
    "# Standardizacija te sekvence\n",
    "sekvenca2 = standardizuj('LUGJA4G')\n",
    "\n",
    "# Prikaz obe verzije sekvence\n",
    "sekvenca1, sekvenca2"
   ]
  },
  {
   "cell_type": "markdown",
   "id": "05550471",
   "metadata": {},
   "source": [
    "Nakon standardizacije, sekvenca stvarno može sadržati samo četiri različita karaktera iz osnovnog skupa [ribonukleotida](https://en.wikipedia.org/wiki/Ribonucleotide), odnosno njegov je podskup."
   ]
  },
  {
   "cell_type": "code",
   "execution_count": 6,
   "id": "f85080fe",
   "metadata": {},
   "outputs": [],
   "source": [
    "# Provera da li je sekvenca korektna\n",
    "def proveri_sekvencu(sekvenca):\n",
    "    # Standardizacija ulazne sekvence\n",
    "    sekvenca = standardizuj(sekvenca)\n",
    "    \n",
    "    # Provera da li je azbuka dobra\n",
    "    return set(sekvenca) <= azbuka, sekvenca"
   ]
  },
  {
   "cell_type": "code",
   "execution_count": 7,
   "id": "78052a18",
   "metadata": {},
   "outputs": [
    {
     "data": {
      "text/plain": [
       "('LUGJA4G', (True, 'GUGUAUG'))"
      ]
     },
     "execution_count": 7,
     "metadata": {},
     "output_type": "execute_result"
    }
   ],
   "source": [
    "# Korektna sekvenca\n",
    "sekvenca1, proveri_sekvencu(sekvenca1)"
   ]
  },
  {
   "cell_type": "code",
   "execution_count": 8,
   "id": "e3010b17",
   "metadata": {},
   "outputs": [
    {
     "data": {
      "text/plain": [
       "False"
      ]
     },
     "execution_count": 8,
     "metadata": {},
     "output_type": "execute_result"
    }
   ],
   "source": [
    "# Nekorektna sekvenca\n",
    "proveri_sekvencu('AUGC0')[0]"
   ]
  },
  {
   "cell_type": "markdown",
   "id": "8ff7b04f",
   "metadata": {},
   "source": [
    "## 2. Sekundarna struktura [⮭]<a id=\"par:sekund\"></a>\n",
    "\n",
    "[⮭]: #par:toc"
   ]
  },
  {
   "cell_type": "markdown",
   "id": "00d00fc4",
   "metadata": {},
   "source": [
    "[Transportna *RNK*](https://en.wikipedia.org/wiki/Transfer_RNA) ima karakterističnu [sekundarnu strukturu](https://en.wikipedia.org/wiki/Nucleic_acid_secondary_structure) u obliku [deteline sa tri lista](https://en.wikipedia.org/wiki/Cloverleaf_model_of_tRNA). Listove (petlje, *loop*) čine neuparene baze, dok se kao veza između njih nalaze četiri zavojnice (drške, *stem*) i umetnuti nukleotidi. Na drugom [listu](https://en.wikipedia.org/wiki/Stem-loop), otprilike u sredini sekvence, nalazi se antikodon aminokiseline koja se prenosi."
   ]
  },
  {
   "cell_type": "markdown",
   "id": "598a5948",
   "metadata": {},
   "source": [
    "<img src='../slike/tRNK.jpg' width='40%'>"
   ]
  },
  {
   "cell_type": "markdown",
   "id": "3f8b8b94",
   "metadata": {},
   "source": [
    "I sekundarnu strukturu moguće je predstaviti kao nisku, i to nad azbukom koja se sastoji od [tačke i zagrada](https://eprints.soton.ac.uk/267292/1/RamlanEI08ExtDotBracRNA.pdf). U ovakvoj notaciji, tačka predstavlja neuparenu bazu, dok zagrade označavaju parove. Uparivanje baza, očekivano, prati matematičko i jezičko pravilo uparivanja zagrada, uz dodatni mininalni razmak."
   ]
  },
  {
   "cell_type": "code",
   "execution_count": 9,
   "id": "13f806c5",
   "metadata": {},
   "outputs": [],
   "source": [
    "# Azbuka strukture\n",
    "zagrade = {'(', '.', ')'}\n",
    "\n",
    "# Provera da li je struktura korektna\n",
    "def proveri_strukturu(struktura, razmak=0):\n",
    "    # Inicijalizacija uparivanja\n",
    "    uparivanje = {}\n",
    "    \n",
    "    # Provera da li je azbuka dobra\n",
    "    if not set(struktura) <= zagrade:\n",
    "        return False, uparivanje\n",
    "    \n",
    "    # Inicijalizacija steka indeksa\n",
    "    stek = []\n",
    "    \n",
    "    # Prolazak kroz celu strukturu\n",
    "    for j, c in enumerate(struktura):\n",
    "        # Stavljanje prvog člana uparivanja na stek\n",
    "        if c == '(':          \n",
    "            stek.append(j)\n",
    "        \n",
    "        # Provera da li je stek neprazan\n",
    "        elif c == ')':\n",
    "            if not stek:\n",
    "                return False, uparivanje\n",
    "            \n",
    "            # Dohvatanje prvog člana uparivanja\n",
    "            i = stek.pop()\n",
    "            \n",
    "            # Provera korektnosti razmaka uparivanja\n",
    "            if j - i <= razmak:\n",
    "                return False, uparivanje\n",
    "            \n",
    "            # Uparivanje prvog i drugog člana\n",
    "            uparivanje[i] = j\n",
    "    \n",
    "    # Provera da li je stek prazan\n",
    "    return not stek, uparivanje"
   ]
  },
  {
   "cell_type": "code",
   "execution_count": 10,
   "id": "d9750da3",
   "metadata": {},
   "outputs": [
    {
     "data": {
      "text/plain": [
       "(True, {2: 5, 1: 6})"
      ]
     },
     "execution_count": 10,
     "metadata": {},
     "output_type": "execute_result"
    }
   ],
   "source": [
    "# Korektna struktura\n",
    "proveri_strukturu('.((..))')"
   ]
  },
  {
   "cell_type": "code",
   "execution_count": 11,
   "id": "add12214",
   "metadata": {},
   "outputs": [
    {
     "data": {
      "text/plain": [
       "False"
      ]
     },
     "execution_count": 11,
     "metadata": {},
     "output_type": "execute_result"
    }
   ],
   "source": [
    "# Nekorektna struktura: neuparene zagrade\n",
    "proveri_strukturu('.(..))')[0]"
   ]
  },
  {
   "cell_type": "code",
   "execution_count": 12,
   "id": "a8b96e38",
   "metadata": {},
   "outputs": [
    {
     "data": {
      "text/plain": [
       "False"
      ]
     },
     "execution_count": 12,
     "metadata": {},
     "output_type": "execute_result"
    }
   ],
   "source": [
    "# Nekorektna struktura: pogrešna azbuka\n",
    "proveri_strukturu('.?')[0]"
   ]
  },
  {
   "cell_type": "code",
   "execution_count": 13,
   "id": "43eb48cb",
   "metadata": {},
   "outputs": [
    {
     "data": {
      "text/plain": [
       "False"
      ]
     },
     "execution_count": 13,
     "metadata": {},
     "output_type": "execute_result"
    }
   ],
   "source": [
    "# Polukorektna struktura: mali razmak\n",
    "proveri_strukturu('.((..))', 3)[0]"
   ]
  },
  {
   "cell_type": "markdown",
   "id": "6d2d1aa0",
   "metadata": {},
   "source": [
    "Podrazumevano, niske koje predstavljaju primarnu (sekvencu) i sekundarnu (uparivanje) strukturu iste *RNK* moraju biti saglasne."
   ]
  },
  {
   "cell_type": "code",
   "execution_count": 14,
   "id": "42ae6231",
   "metadata": {},
   "outputs": [],
   "source": [
    "# Provera saglasnosti sekvence i strukture\n",
    "def proveri_uparenost(sekvenca, struktura, razmak=0, uparivanje=None):\n",
    "    # Inicijalizacija mape broja parova\n",
    "    uparenost = {rn_i: {rn_j: 0 for rn_j in azbuka} for rn_i in azbuka}\n",
    "    \n",
    "    # Sekvenca i struktura moraju biti iste dužine\n",
    "    if len(sekvenca) != len(struktura):\n",
    "        return False, uparenost\n",
    "    \n",
    "    # Određivanje uparivanja ukoliko nije poznato\n",
    "    if uparivanje is None:\n",
    "        ok, uparivanje = proveri_strukturu(struktura, razmak)\n",
    "        \n",
    "        # Provera da li je struktura dobra\n",
    "        if not ok: return False, uparenost\n",
    "    \n",
    "    # Prolazak kroz sva uparivanja\n",
    "    for i, j in uparivanje.items():\n",
    "        rn_i = sekvenca[i]\n",
    "        rn_j = sekvenca[j]\n",
    "        \n",
    "        # Nukleotidi moraju biti korektan par\n",
    "        if not par(rn_i, rn_j):\n",
    "            return False, uparenost\n",
    "        \n",
    "        # Uvećavanje brojača parova\n",
    "        uparenost[rn_i][rn_j] += 1\n",
    "    \n",
    "    # Vraćanje mape broja parova\n",
    "    return True, uparenost"
   ]
  },
  {
   "cell_type": "code",
   "execution_count": 15,
   "id": "99966bdc",
   "metadata": {},
   "outputs": [
    {
     "data": {
      "text/plain": [
       "(True,\n",
       " {'U': {'U': 0, 'A': 0, 'G': 1, 'C': 0},\n",
       "  'A': {'U': 0, 'A': 0, 'G': 0, 'C': 0},\n",
       "  'G': {'U': 1, 'A': 0, 'G': 0, 'C': 0},\n",
       "  'C': {'U': 0, 'A': 0, 'G': 0, 'C': 0}})"
      ]
     },
     "execution_count": 15,
     "metadata": {},
     "output_type": "execute_result"
    }
   ],
   "source": [
    "# Primer sekvence\n",
    "sekvenca = 'GUGUAUG'\n",
    "\n",
    "# Korektna struktura\n",
    "proveri_uparenost(sekvenca, '.((..))')"
   ]
  },
  {
   "cell_type": "code",
   "execution_count": 16,
   "id": "86486f57",
   "metadata": {},
   "outputs": [
    {
     "data": {
      "text/plain": [
       "False"
      ]
     },
     "execution_count": 16,
     "metadata": {},
     "output_type": "execute_result"
    }
   ],
   "source": [
    "# Nekorektna struktura: par G-G\n",
    "proveri_uparenost(sekvenca, '(.....)')[0]"
   ]
  },
  {
   "cell_type": "code",
   "execution_count": 17,
   "id": "a2b1ab97",
   "metadata": {},
   "outputs": [
    {
     "data": {
      "text/plain": [
       "False"
      ]
     },
     "execution_count": 17,
     "metadata": {},
     "output_type": "execute_result"
    }
   ],
   "source": [
    "# Nekorektna struktura: loša zagrada\n",
    "proveri_uparenost(sekvenca, '(......')[0]"
   ]
  },
  {
   "cell_type": "code",
   "execution_count": 18,
   "id": "768d078a",
   "metadata": {},
   "outputs": [
    {
     "data": {
      "text/plain": [
       "False"
      ]
     },
     "execution_count": 18,
     "metadata": {},
     "output_type": "execute_result"
    }
   ],
   "source": [
    "# Nekorektna struktura: loša dužina\n",
    "proveri_uparenost(sekvenca, '(....)')[0]"
   ]
  },
  {
   "cell_type": "markdown",
   "id": "bb5a60d9",
   "metadata": {},
   "source": [
    "Sa svime dosad iznesenim u vidu, moguće je definisati klasu koja predstavlja sekvencu sa pridruženom sekundarnom strukturom."
   ]
  },
  {
   "cell_type": "code",
   "execution_count": 19,
   "id": "cc8a2649",
   "metadata": {},
   "outputs": [],
   "source": [
    "# Biblioteka za rad sa stablima\n",
    "from nltk import Tree\n",
    "\n",
    "# Biblioteka za crtanje\n",
    "from ipynb.draw import draw_struct\n",
    "\n",
    "# Primarna sekvenca sa pridruženom sekundarnom strukturom\n",
    "class Struktura2D:\n",
    "    def __init__(self, sekvenca, struktura, razmak=2):\n",
    "        # Provera i standardizacija sekvence\n",
    "        self.proveri_sekvencu(sekvenca)\n",
    "        \n",
    "        # Provera strukture i uparivanja\n",
    "        self.proveri_strukturu(struktura, razmak)\n",
    "        \n",
    "        # Provera tačnog uparivanja baza\n",
    "        self.proveri_uparenost()\n",
    "        \n",
    "        # Određivanje drveta izvođenja sekvence\n",
    "        self.drvo = self.S(0, self.n - 1)\n",
    "    \n",
    "    # SVG prikaz drveta izvođenja sekvence\n",
    "    def _repr_svg_(self):\n",
    "        return self.drvo._repr_svg_()\n",
    "    \n",
    "    # Provera i standardizacija sekvence\n",
    "    def proveri_sekvencu(self, sekvenca):\n",
    "        ok, self.sekvenca = proveri_sekvencu(sekvenca)\n",
    "        \n",
    "        # Izuzetak ako nešto nije u redu\n",
    "        if not ok: raise ValueError\n",
    "        \n",
    "        # Čuvanje dužine sekvence\n",
    "        self.n = len(sekvenca)\n",
    "    \n",
    "    # Provera strukture i uparivanja\n",
    "    def proveri_strukturu(self, struktura, razmak):\n",
    "        ok, self.uparivanje = proveri_strukturu(struktura, razmak)\n",
    "        \n",
    "        # Izuzetak ako nešto nije u redu\n",
    "        if not ok: raise ValueError\n",
    "        \n",
    "        # Čuvanje razmaka\n",
    "        self.razmak = razmak\n",
    "        \n",
    "        # Čuvanje strukture\n",
    "        self.struktura = struktura\n",
    "    \n",
    "    # Provera tačnog uparivanja baza\n",
    "    def proveri_uparenost(self):\n",
    "        ok, self.uparenost = proveri_uparenost(self.sekvenca, self.struktura,\n",
    "                                               self.razmak, self.uparivanje)\n",
    "        \n",
    "        # Izuzetak ako nešto nije u redu\n",
    "        if not ok: raise ValueError\n",
    "    \n",
    "    # Drvo bazne klase je prost niz strukturiranih baza\n",
    "    def S(self, *args):\n",
    "        return Tree('S', zip(self.sekvenca, self.struktura))\n",
    "    \n",
    "    # Crtanje enkapsulirane sekundarne strukture\n",
    "    def nacrtaj(self):\n",
    "        draw_struct(self.sekvenca, self.struktura)"
   ]
  },
  {
   "cell_type": "code",
   "execution_count": 20,
   "id": "9b3dd648",
   "metadata": {},
   "outputs": [
    {
     "data": {
      "text/plain": [
       "('GUUAGCAUCGCGGGAACCUUUGGAACCAUG',\n",
       " '((..((...)).((..))...((..)))).',\n",
       " 30,\n",
       " {5: 9, 4: 10, 13: 16, 12: 17, 22: 25, 21: 26, 1: 27, 0: 28},\n",
       " {'U': {'U': 0, 'A': 1, 'G': 0, 'C': 0},\n",
       "  'A': {'U': 0, 'A': 0, 'G': 0, 'C': 0},\n",
       "  'G': {'U': 1, 'A': 0, 'G': 0, 'C': 5},\n",
       "  'C': {'U': 0, 'A': 0, 'G': 1, 'C': 0}},\n",
       " Tree('S', [('G', '('), ('U', '('), ('U', '.'), ('A', '.'), ('G', '('), ('C', '('), ('A', '.'), ('U', '.'), ('C', '.'), ('G', ')'), ('C', ')'), ('G', '.'), ('G', '('), ('G', '('), ('A', '.'), ('A', '.'), ('C', ')'), ('C', ')'), ('U', '.'), ('U', '.'), ('U', '.'), ('G', '('), ('G', '('), ('A', '.'), ('A', '.'), ('C', ')'), ('C', ')'), ('A', ')'), ('U', ')'), ('G', '.')]))"
      ]
     },
     "execution_count": 20,
     "metadata": {},
     "output_type": "execute_result"
    }
   ],
   "source": [
    "# Primer sekvence RNK\n",
    "sekvenca = 'GUUAGCAUCGCGGGAACCUUUGGAACCAUG'\n",
    "\n",
    "# Primer strukture RNK\n",
    "struktura = '((..((...)).((..))...((..)))).'\n",
    "\n",
    "# Enkapsulacija sekvence i strukture\n",
    "rnk = Struktura2D(sekvenca, struktura)\n",
    "\n",
    "# Prikaz svih atributa klase\n",
    "rnk.sekvenca, rnk.struktura, rnk.n, rnk.uparivanje, rnk.uparenost, rnk.drvo"
   ]
  },
  {
   "cell_type": "markdown",
   "id": "e4cc7aaa",
   "metadata": {},
   "source": [
    "Strukturu je moguće lepo vizuelizovati, kako u formi [grafa](https://github.com/DasLab/draw_rna), tako i u formi [drveta](https://www.nltk.org/api/nltk.tree.tree.html), odnosno stabla izvođenja. Drugi oblik, doduše, još nije razrađen."
   ]
  },
  {
   "cell_type": "code",
   "execution_count": 21,
   "id": "a544cf25",
   "metadata": {},
   "outputs": [
    {
     "data": {
      "image/png": "[encoded data removed]",
      "text/plain": [
       "<Figure size 275.253x275.253 with 1 Axes>"
      ]
     },
     "metadata": {
      "needs_background": "light"
     },
     "output_type": "display_data"
    }
   ],
   "source": [
    "# Crtanje sekundarne strukture\n",
    "rnk.nacrtaj()"
   ]
  },
  {
   "cell_type": "code",
   "execution_count": 22,
   "id": "ac87a3c9",
   "metadata": {},
   "outputs": [
    {
     "data": {
      "image/svg+xml": [
       "<svg baseProfile=\"full\" height=\"120px\" preserveAspectRatio=\"xMidYMid meet\" style=\"font-family: times, serif; font-weight:normal; font-style: normal; font-size: 16px;\" version=\"1.1\" viewBox=\"0,0,720.0,120.0\" width=\"720px\" xmlns=\"http://www.w3.org/2000/svg\" xmlns:ev=\"http://www.w3.org/2001/xml-events\" xmlns:xlink=\"http://www.w3.org/1999/xlink\"><defs /><svg width=\"100%\" x=\"0\" y=\"0em\"><defs /><text text-anchor=\"middle\" x=\"50%\" y=\"1em\">S</text></svg><svg width=\"3.33333%\" x=\"0%\" y=\"3em\"><defs /><svg width=\"100%\" x=\"0\" y=\"0em\"><defs /><text text-anchor=\"middle\" x=\"50%\" y=\"1em\">G</text></svg><svg width=\"100%\" x=\"0%\" y=\"3em\"><defs /><svg width=\"100%\" x=\"0\" y=\"0em\"><defs /><text text-anchor=\"middle\" x=\"50%\" y=\"1em\">(</text></svg></svg><line stroke=\"black\" x1=\"50%\" x2=\"50%\" y1=\"1.2em\" y2=\"3em\" /></svg><line stroke=\"black\" x1=\"50%\" x2=\"1.66667%\" y1=\"1.2em\" y2=\"3em\" /><svg width=\"3.33333%\" x=\"3.33333%\" y=\"3em\"><defs /><svg width=\"100%\" x=\"0\" y=\"0em\"><defs /><text text-anchor=\"middle\" x=\"50%\" y=\"1em\">U</text></svg><svg width=\"100%\" x=\"0%\" y=\"3em\"><defs /><svg width=\"100%\" x=\"0\" y=\"0em\"><defs /><text text-anchor=\"middle\" x=\"50%\" y=\"1em\">(</text></svg></svg><line stroke=\"black\" x1=\"50%\" x2=\"50%\" y1=\"1.2em\" y2=\"3em\" /></svg><line stroke=\"black\" x1=\"50%\" x2=\"5%\" y1=\"1.2em\" y2=\"3em\" /><svg width=\"3.33333%\" x=\"6.66667%\" y=\"3em\"><defs /><svg width=\"100%\" x=\"0\" y=\"0em\"><defs /><text text-anchor=\"middle\" x=\"50%\" y=\"1em\">U</text></svg><svg width=\"100%\" x=\"0%\" y=\"3em\"><defs /><svg width=\"100%\" x=\"0\" y=\"0em\"><defs /><text text-anchor=\"middle\" x=\"50%\" y=\"1em\">.</text></svg></svg><line stroke=\"black\" x1=\"50%\" x2=\"50%\" y1=\"1.2em\" y2=\"3em\" /></svg><line stroke=\"black\" x1=\"50%\" x2=\"8.33333%\" y1=\"1.2em\" y2=\"3em\" /><svg width=\"3.33333%\" x=\"10%\" y=\"3em\"><defs /><svg width=\"100%\" x=\"0\" y=\"0em\"><defs /><text text-anchor=\"middle\" x=\"50%\" y=\"1em\">A</text></svg><svg width=\"100%\" x=\"0%\" y=\"3em\"><defs /><svg width=\"100%\" x=\"0\" y=\"0em\"><defs /><text text-anchor=\"middle\" x=\"50%\" y=\"1em\">.</text></svg></svg><line stroke=\"black\" x1=\"50%\" x2=\"50%\" y1=\"1.2em\" y2=\"3em\" /></svg><line stroke=\"black\" x1=\"50%\" x2=\"11.6667%\" y1=\"1.2em\" y2=\"3em\" /><svg width=\"3.33333%\" x=\"13.3333%\" y=\"3em\"><defs /><svg width=\"100%\" x=\"0\" y=\"0em\"><defs /><text text-anchor=\"middle\" x=\"50%\" y=\"1em\">G</text></svg><svg width=\"100%\" x=\"0%\" y=\"3em\"><defs /><svg width=\"100%\" x=\"0\" y=\"0em\"><defs /><text text-anchor=\"middle\" x=\"50%\" y=\"1em\">(</text></svg></svg><line stroke=\"black\" x1=\"50%\" x2=\"50%\" y1=\"1.2em\" y2=\"3em\" /></svg><line stroke=\"black\" x1=\"50%\" x2=\"15%\" y1=\"1.2em\" y2=\"3em\" /><svg width=\"3.33333%\" x=\"16.6667%\" y=\"3em\"><defs /><svg width=\"100%\" x=\"0\" y=\"0em\"><defs /><text text-anchor=\"middle\" x=\"50%\" y=\"1em\">C</text></svg><svg width=\"100%\" x=\"0%\" y=\"3em\"><defs /><svg width=\"100%\" x=\"0\" y=\"0em\"><defs /><text text-anchor=\"middle\" x=\"50%\" y=\"1em\">(</text></svg></svg><line stroke=\"black\" x1=\"50%\" x2=\"50%\" y1=\"1.2em\" y2=\"3em\" /></svg><line stroke=\"black\" x1=\"50%\" x2=\"18.3333%\" y1=\"1.2em\" y2=\"3em\" /><svg width=\"3.33333%\" x=\"20%\" y=\"3em\"><defs /><svg width=\"100%\" x=\"0\" y=\"0em\"><defs /><text text-anchor=\"middle\" x=\"50%\" y=\"1em\">A</text></svg><svg width=\"100%\" x=\"0%\" y=\"3em\"><defs /><svg width=\"100%\" x=\"0\" y=\"0em\"><defs /><text text-anchor=\"middle\" x=\"50%\" y=\"1em\">.</text></svg></svg><line stroke=\"black\" x1=\"50%\" x2=\"50%\" y1=\"1.2em\" y2=\"3em\" /></svg><line stroke=\"black\" x1=\"50%\" x2=\"21.6667%\" y1=\"1.2em\" y2=\"3em\" /><svg width=\"3.33333%\" x=\"23.3333%\" y=\"3em\"><defs /><svg width=\"100%\" x=\"0\" y=\"0em\"><defs /><text text-anchor=\"middle\" x=\"50%\" y=\"1em\">U</text></svg><svg width=\"100%\" x=\"0%\" y=\"3em\"><defs /><svg width=\"100%\" x=\"0\" y=\"0em\"><defs /><text text-anchor=\"middle\" x=\"50%\" y=\"1em\">.</text></svg></svg><line stroke=\"black\" x1=\"50%\" x2=\"50%\" y1=\"1.2em\" y2=\"3em\" /></svg><line stroke=\"black\" x1=\"50%\" x2=\"25%\" y1=\"1.2em\" y2=\"3em\" /><svg width=\"3.33333%\" x=\"26.6667%\" y=\"3em\"><defs /><svg width=\"100%\" x=\"0\" y=\"0em\"><defs /><text text-anchor=\"middle\" x=\"50%\" y=\"1em\">C</text></svg><svg width=\"100%\" x=\"0%\" y=\"3em\"><defs /><svg width=\"100%\" x=\"0\" y=\"0em\"><defs /><text text-anchor=\"middle\" x=\"50%\" y=\"1em\">.</text></svg></svg><line stroke=\"black\" x1=\"50%\" x2=\"50%\" y1=\"1.2em\" y2=\"3em\" /></svg><line stroke=\"black\" x1=\"50%\" x2=\"28.3333%\" y1=\"1.2em\" y2=\"3em\" /><svg width=\"3.33333%\" x=\"30%\" y=\"3em\"><defs /><svg width=\"100%\" x=\"0\" y=\"0em\"><defs /><text text-anchor=\"middle\" x=\"50%\" y=\"1em\">G</text></svg><svg width=\"100%\" x=\"0%\" y=\"3em\"><defs /><svg width=\"100%\" x=\"0\" y=\"0em\"><defs /><text text-anchor=\"middle\" x=\"50%\" y=\"1em\">)</text></svg></svg><line stroke=\"black\" x1=\"50%\" x2=\"50%\" y1=\"1.2em\" y2=\"3em\" /></svg><line stroke=\"black\" x1=\"50%\" x2=\"31.6667%\" y1=\"1.2em\" y2=\"3em\" /><svg width=\"3.33333%\" x=\"33.3333%\" y=\"3em\"><defs /><svg width=\"100%\" x=\"0\" y=\"0em\"><defs /><text text-anchor=\"middle\" x=\"50%\" y=\"1em\">C</text></svg><svg width=\"100%\" x=\"0%\" y=\"3em\"><defs /><svg width=\"100%\" x=\"0\" y=\"0em\"><defs /><text text-anchor=\"middle\" x=\"50%\" y=\"1em\">)</text></svg></svg><line stroke=\"black\" x1=\"50%\" x2=\"50%\" y1=\"1.2em\" y2=\"3em\" /></svg><line stroke=\"black\" x1=\"50%\" x2=\"35%\" y1=\"1.2em\" y2=\"3em\" /><svg width=\"3.33333%\" x=\"36.6667%\" y=\"3em\"><defs /><svg width=\"100%\" x=\"0\" y=\"0em\"><defs /><text text-anchor=\"middle\" x=\"50%\" y=\"1em\">G</text></svg><svg width=\"100%\" x=\"0%\" y=\"3em\"><defs /><svg width=\"100%\" x=\"0\" y=\"0em\"><defs /><text text-anchor=\"middle\" x=\"50%\" y=\"1em\">.</text></svg></svg><line stroke=\"black\" x1=\"50%\" x2=\"50%\" y1=\"1.2em\" y2=\"3em\" /></svg><line stroke=\"black\" x1=\"50%\" x2=\"38.3333%\" y1=\"1.2em\" y2=\"3em\" /><svg width=\"3.33333%\" x=\"40%\" y=\"3em\"><defs /><svg width=\"100%\" x=\"0\" y=\"0em\"><defs /><text text-anchor=\"middle\" x=\"50%\" y=\"1em\">G</text></svg><svg width=\"100%\" x=\"0%\" y=\"3em\"><defs /><svg width=\"100%\" x=\"0\" y=\"0em\"><defs /><text text-anchor=\"middle\" x=\"50%\" y=\"1em\">(</text></svg></svg><line stroke=\"black\" x1=\"50%\" x2=\"50%\" y1=\"1.2em\" y2=\"3em\" /></svg><line stroke=\"black\" x1=\"50%\" x2=\"41.6667%\" y1=\"1.2em\" y2=\"3em\" /><svg width=\"3.33333%\" x=\"43.3333%\" y=\"3em\"><defs /><svg width=\"100%\" x=\"0\" y=\"0em\"><defs /><text text-anchor=\"middle\" x=\"50%\" y=\"1em\">G</text></svg><svg width=\"100%\" x=\"0%\" y=\"3em\"><defs /><svg width=\"100%\" x=\"0\" y=\"0em\"><defs /><text text-anchor=\"middle\" x=\"50%\" y=\"1em\">(</text></svg></svg><line stroke=\"black\" x1=\"50%\" x2=\"50%\" y1=\"1.2em\" y2=\"3em\" /></svg><line stroke=\"black\" x1=\"50%\" x2=\"45%\" y1=\"1.2em\" y2=\"3em\" /><svg width=\"3.33333%\" x=\"46.6667%\" y=\"3em\"><defs /><svg width=\"100%\" x=\"0\" y=\"0em\"><defs /><text text-anchor=\"middle\" x=\"50%\" y=\"1em\">A</text></svg><svg width=\"100%\" x=\"0%\" y=\"3em\"><defs /><svg width=\"100%\" x=\"0\" y=\"0em\"><defs /><text text-anchor=\"middle\" x=\"50%\" y=\"1em\">.</text></svg></svg><line stroke=\"black\" x1=\"50%\" x2=\"50%\" y1=\"1.2em\" y2=\"3em\" /></svg><line stroke=\"black\" x1=\"50%\" x2=\"48.3333%\" y1=\"1.2em\" y2=\"3em\" /><svg width=\"3.33333%\" x=\"50%\" y=\"3em\"><defs /><svg width=\"100%\" x=\"0\" y=\"0em\"><defs /><text text-anchor=\"middle\" x=\"50%\" y=\"1em\">A</text></svg><svg width=\"100%\" x=\"0%\" y=\"3em\"><defs /><svg width=\"100%\" x=\"0\" y=\"0em\"><defs /><text text-anchor=\"middle\" x=\"50%\" y=\"1em\">.</text></svg></svg><line stroke=\"black\" x1=\"50%\" x2=\"50%\" y1=\"1.2em\" y2=\"3em\" /></svg><line stroke=\"black\" x1=\"50%\" x2=\"51.6667%\" y1=\"1.2em\" y2=\"3em\" /><svg width=\"3.33333%\" x=\"53.3333%\" y=\"3em\"><defs /><svg width=\"100%\" x=\"0\" y=\"0em\"><defs /><text text-anchor=\"middle\" x=\"50%\" y=\"1em\">C</text></svg><svg width=\"100%\" x=\"0%\" y=\"3em\"><defs /><svg width=\"100%\" x=\"0\" y=\"0em\"><defs /><text text-anchor=\"middle\" x=\"50%\" y=\"1em\">)</text></svg></svg><line stroke=\"black\" x1=\"50%\" x2=\"50%\" y1=\"1.2em\" y2=\"3em\" /></svg><line stroke=\"black\" x1=\"50%\" x2=\"55%\" y1=\"1.2em\" y2=\"3em\" /><svg width=\"3.33333%\" x=\"56.6667%\" y=\"3em\"><defs /><svg width=\"100%\" x=\"0\" y=\"0em\"><defs /><text text-anchor=\"middle\" x=\"50%\" y=\"1em\">C</text></svg><svg width=\"100%\" x=\"0%\" y=\"3em\"><defs /><svg width=\"100%\" x=\"0\" y=\"0em\"><defs /><text text-anchor=\"middle\" x=\"50%\" y=\"1em\">)</text></svg></svg><line stroke=\"black\" x1=\"50%\" x2=\"50%\" y1=\"1.2em\" y2=\"3em\" /></svg><line stroke=\"black\" x1=\"50%\" x2=\"58.3333%\" y1=\"1.2em\" y2=\"3em\" /><svg width=\"3.33333%\" x=\"60%\" y=\"3em\"><defs /><svg width=\"100%\" x=\"0\" y=\"0em\"><defs /><text text-anchor=\"middle\" x=\"50%\" y=\"1em\">U</text></svg><svg width=\"100%\" x=\"0%\" y=\"3em\"><defs /><svg width=\"100%\" x=\"0\" y=\"0em\"><defs /><text text-anchor=\"middle\" x=\"50%\" y=\"1em\">.</text></svg></svg><line stroke=\"black\" x1=\"50%\" x2=\"50%\" y1=\"1.2em\" y2=\"3em\" /></svg><line stroke=\"black\" x1=\"50%\" x2=\"61.6667%\" y1=\"1.2em\" y2=\"3em\" /><svg width=\"3.33333%\" x=\"63.3333%\" y=\"3em\"><defs /><svg width=\"100%\" x=\"0\" y=\"0em\"><defs /><text text-anchor=\"middle\" x=\"50%\" y=\"1em\">U</text></svg><svg width=\"100%\" x=\"0%\" y=\"3em\"><defs /><svg width=\"100%\" x=\"0\" y=\"0em\"><defs /><text text-anchor=\"middle\" x=\"50%\" y=\"1em\">.</text></svg></svg><line stroke=\"black\" x1=\"50%\" x2=\"50%\" y1=\"1.2em\" y2=\"3em\" /></svg><line stroke=\"black\" x1=\"50%\" x2=\"65%\" y1=\"1.2em\" y2=\"3em\" /><svg width=\"3.33333%\" x=\"66.6667%\" y=\"3em\"><defs /><svg width=\"100%\" x=\"0\" y=\"0em\"><defs /><text text-anchor=\"middle\" x=\"50%\" y=\"1em\">U</text></svg><svg width=\"100%\" x=\"0%\" y=\"3em\"><defs /><svg width=\"100%\" x=\"0\" y=\"0em\"><defs /><text text-anchor=\"middle\" x=\"50%\" y=\"1em\">.</text></svg></svg><line stroke=\"black\" x1=\"50%\" x2=\"50%\" y1=\"1.2em\" y2=\"3em\" /></svg><line stroke=\"black\" x1=\"50%\" x2=\"68.3333%\" y1=\"1.2em\" y2=\"3em\" /><svg width=\"3.33333%\" x=\"70%\" y=\"3em\"><defs /><svg width=\"100%\" x=\"0\" y=\"0em\"><defs /><text text-anchor=\"middle\" x=\"50%\" y=\"1em\">G</text></svg><svg width=\"100%\" x=\"0%\" y=\"3em\"><defs /><svg width=\"100%\" x=\"0\" y=\"0em\"><defs /><text text-anchor=\"middle\" x=\"50%\" y=\"1em\">(</text></svg></svg><line stroke=\"black\" x1=\"50%\" x2=\"50%\" y1=\"1.2em\" y2=\"3em\" /></svg><line stroke=\"black\" x1=\"50%\" x2=\"71.6667%\" y1=\"1.2em\" y2=\"3em\" /><svg width=\"3.33333%\" x=\"73.3333%\" y=\"3em\"><defs /><svg width=\"100%\" x=\"0\" y=\"0em\"><defs /><text text-anchor=\"middle\" x=\"50%\" y=\"1em\">G</text></svg><svg width=\"100%\" x=\"0%\" y=\"3em\"><defs /><svg width=\"100%\" x=\"0\" y=\"0em\"><defs /><text text-anchor=\"middle\" x=\"50%\" y=\"1em\">(</text></svg></svg><line stroke=\"black\" x1=\"50%\" x2=\"50%\" y1=\"1.2em\" y2=\"3em\" /></svg><line stroke=\"black\" x1=\"50%\" x2=\"75%\" y1=\"1.2em\" y2=\"3em\" /><svg width=\"3.33333%\" x=\"76.6667%\" y=\"3em\"><defs /><svg width=\"100%\" x=\"0\" y=\"0em\"><defs /><text text-anchor=\"middle\" x=\"50%\" y=\"1em\">A</text></svg><svg width=\"100%\" x=\"0%\" y=\"3em\"><defs /><svg width=\"100%\" x=\"0\" y=\"0em\"><defs /><text text-anchor=\"middle\" x=\"50%\" y=\"1em\">.</text></svg></svg><line stroke=\"black\" x1=\"50%\" x2=\"50%\" y1=\"1.2em\" y2=\"3em\" /></svg><line stroke=\"black\" x1=\"50%\" x2=\"78.3333%\" y1=\"1.2em\" y2=\"3em\" /><svg width=\"3.33333%\" x=\"80%\" y=\"3em\"><defs /><svg width=\"100%\" x=\"0\" y=\"0em\"><defs /><text text-anchor=\"middle\" x=\"50%\" y=\"1em\">A</text></svg><svg width=\"100%\" x=\"0%\" y=\"3em\"><defs /><svg width=\"100%\" x=\"0\" y=\"0em\"><defs /><text text-anchor=\"middle\" x=\"50%\" y=\"1em\">.</text></svg></svg><line stroke=\"black\" x1=\"50%\" x2=\"50%\" y1=\"1.2em\" y2=\"3em\" /></svg><line stroke=\"black\" x1=\"50%\" x2=\"81.6667%\" y1=\"1.2em\" y2=\"3em\" /><svg width=\"3.33333%\" x=\"83.3333%\" y=\"3em\"><defs /><svg width=\"100%\" x=\"0\" y=\"0em\"><defs /><text text-anchor=\"middle\" x=\"50%\" y=\"1em\">C</text></svg><svg width=\"100%\" x=\"0%\" y=\"3em\"><defs /><svg width=\"100%\" x=\"0\" y=\"0em\"><defs /><text text-anchor=\"middle\" x=\"50%\" y=\"1em\">)</text></svg></svg><line stroke=\"black\" x1=\"50%\" x2=\"50%\" y1=\"1.2em\" y2=\"3em\" /></svg><line stroke=\"black\" x1=\"50%\" x2=\"85%\" y1=\"1.2em\" y2=\"3em\" /><svg width=\"3.33333%\" x=\"86.6667%\" y=\"3em\"><defs /><svg width=\"100%\" x=\"0\" y=\"0em\"><defs /><text text-anchor=\"middle\" x=\"50%\" y=\"1em\">C</text></svg><svg width=\"100%\" x=\"0%\" y=\"3em\"><defs /><svg width=\"100%\" x=\"0\" y=\"0em\"><defs /><text text-anchor=\"middle\" x=\"50%\" y=\"1em\">)</text></svg></svg><line stroke=\"black\" x1=\"50%\" x2=\"50%\" y1=\"1.2em\" y2=\"3em\" /></svg><line stroke=\"black\" x1=\"50%\" x2=\"88.3333%\" y1=\"1.2em\" y2=\"3em\" /><svg width=\"3.33333%\" x=\"90%\" y=\"3em\"><defs /><svg width=\"100%\" x=\"0\" y=\"0em\"><defs /><text text-anchor=\"middle\" x=\"50%\" y=\"1em\">A</text></svg><svg width=\"100%\" x=\"0%\" y=\"3em\"><defs /><svg width=\"100%\" x=\"0\" y=\"0em\"><defs /><text text-anchor=\"middle\" x=\"50%\" y=\"1em\">)</text></svg></svg><line stroke=\"black\" x1=\"50%\" x2=\"50%\" y1=\"1.2em\" y2=\"3em\" /></svg><line stroke=\"black\" x1=\"50%\" x2=\"91.6667%\" y1=\"1.2em\" y2=\"3em\" /><svg width=\"3.33333%\" x=\"93.3333%\" y=\"3em\"><defs /><svg width=\"100%\" x=\"0\" y=\"0em\"><defs /><text text-anchor=\"middle\" x=\"50%\" y=\"1em\">U</text></svg><svg width=\"100%\" x=\"0%\" y=\"3em\"><defs /><svg width=\"100%\" x=\"0\" y=\"0em\"><defs /><text text-anchor=\"middle\" x=\"50%\" y=\"1em\">)</text></svg></svg><line stroke=\"black\" x1=\"50%\" x2=\"50%\" y1=\"1.2em\" y2=\"3em\" /></svg><line stroke=\"black\" x1=\"50%\" x2=\"95%\" y1=\"1.2em\" y2=\"3em\" /><svg width=\"3.33333%\" x=\"96.6667%\" y=\"3em\"><defs /><svg width=\"100%\" x=\"0\" y=\"0em\"><defs /><text text-anchor=\"middle\" x=\"50%\" y=\"1em\">G</text></svg><svg width=\"100%\" x=\"0%\" y=\"3em\"><defs /><svg width=\"100%\" x=\"0\" y=\"0em\"><defs /><text text-anchor=\"middle\" x=\"50%\" y=\"1em\">.</text></svg></svg><line stroke=\"black\" x1=\"50%\" x2=\"50%\" y1=\"1.2em\" y2=\"3em\" /></svg><line stroke=\"black\" x1=\"50%\" x2=\"98.3333%\" y1=\"1.2em\" y2=\"3em\" /></svg>"
      ],
      "text/plain": [
       "<__main__.Struktura2D at 0x1717082cdf0>"
      ]
     },
     "execution_count": 22,
     "metadata": {},
     "output_type": "execute_result"
    }
   ],
   "source": [
    "# Drvo kao prost niz baza\n",
    "rnk"
   ]
  },
  {
   "cell_type": "markdown",
   "id": "dfa2d92d",
   "metadata": {},
   "source": [
    "## 3. Gramatika *Nussinov* [⮭]<a id=\"par:nuss\"></a>\n",
    "\n",
    "[⮭]: #par:toc"
   ]
  },
  {
   "cell_type": "markdown",
   "id": "226a5c55",
   "metadata": {},
   "source": [
    "Najjednostavnije kontekstno slobodne gramatike za modelovanje strukture *RNK* nadahnute su [algoritmom Nusinov](https://en.wikipedia.org/wiki/Nussinov_algorithm) za maksimizaciju broja uparivanja, objavljenim [1980](https://www.ncbi.nlm.nih.gov/pmc/articles/PMC350273/). Ukoliko su dozvoljena prazna (epsilon) pravila izvođenja, moguća je sledeća kompaktna forma: $S → dSd | SS | s | \\epsilon$. Pritom $d$ označava uparene baze, $s$ neuparene, dok $\\epsilon$ predstavlja kraj izvođenja. Pravilo $S → SS$ omogućava grananje, a time i postojanje većeg broja zavojnica i petlji."
   ]
  },
  {
   "cell_type": "markdown",
   "id": "0ffb1d7f",
   "metadata": {},
   "source": [
    "<img src='../slike/Nussinov.jpg' width='55%'>"
   ]
  },
  {
   "cell_type": "markdown",
   "id": "41cf8e8c",
   "metadata": {},
   "source": [
    "Usled ograničenja korišćene [biblioteke](https://www.nltk.org/index.html) za rad sa stohastičkim kontekstno slobodnim [gramatikama](https://www.nltk.org/api/nltk.grammar.html), implementirana je verzija bez praznih pravila. Epsilon izvođenja, naime, onemogućavaju primenu ugrađene klase za [maksimizaciju verovatnoće drveta](https://www.nltk.org/api/nltk.parse.viterbi.html). Konačna gramatika je: $S → dSd$ (uparivanje) $| SS$ (grananje) $| s$ (neuparena baza). Minimalna dužina petlje je jedan, a višeznačnost grananja (odluka gde tačno dolazi do preseka) programatski je razrešena."
   ]
  },
  {
   "cell_type": "code",
   "execution_count": 23,
   "id": "de7a59c9",
   "metadata": {},
   "outputs": [],
   "source": [
    "# Kontekstno slobodna gramatika Nussinov\n",
    "class Nussinov(Struktura2D):\n",
    "    def __init__(self, sekvenca, struktura):\n",
    "        super().__init__(sekvenca, struktura, 1)\n",
    "    \n",
    "    # Obrada neterminala S[i:j]\n",
    "    def S(self, i, j):\n",
    "        # Najlevlji (tekući) ribonukleotid\n",
    "        rn_i = self.sekvenca[i]\n",
    "        \n",
    "        # Jedan karakter mora biti neuparena baza\n",
    "        # na završnoj poziciji: S[i:j] → s\n",
    "        if i == j:\n",
    "            return Tree('S', [rn_i])\n",
    "        \n",
    "        # Neuparena baza je u suprotnom u petlji,\n",
    "        # pa je izvođenje S[i:j] → S[i:i] S[i+1:j]\n",
    "        if self.struktura[i] == '.':\n",
    "            return Tree('S', [self.S(i, i), self.S(i+1, j)])\n",
    "        \n",
    "        # Određivanje uparene baze\n",
    "        k = self.uparivanje[i]\n",
    "        rn_k = self.sekvenca[k]\n",
    "        \n",
    "        # Potpuno uparivanje znači da je izvođenje\n",
    "        # u zavojnici: S[i:j] → d S[i+1:j-1] d\n",
    "        if j == k:\n",
    "            return Tree('S', [rn_i, self.S(i+1, j-1), rn_k])\n",
    "        \n",
    "        # Nepotpuno uparivanje uslovljava grananje,\n",
    "        # pa je izvođenje S[i:j] → S[i:k] S[k+1:j]\n",
    "        return Tree('S', [self.S(i, k), self.S(k+1, j)])"
   ]
  },
  {
   "cell_type": "markdown",
   "id": "36288f3d",
   "metadata": {},
   "source": [
    "Kako su strukture predstavljene kao niske tačaka i zagrada, neophodno je transformisati ih u odgovarajuća stabla izvođenja prema gramatici. Upravo to je i učinjeno modifikovanom tehnikom rekurzivnog spusta. Enkapsulacija anotirane *RNK* gramatikom, dakle, podrazumeva izračunavanje pretpostavljenog drveta."
   ]
  },
  {
   "cell_type": "code",
   "execution_count": 24,
   "id": "623a1e65",
   "metadata": {},
   "outputs": [
    {
     "data": {
      "image/svg+xml": [
       "<svg baseProfile=\"full\" height=\"744px\" preserveAspectRatio=\"xMidYMid meet\" style=\"font-family: times, serif; font-weight:normal; font-style: normal; font-size: 16px;\" version=\"1.1\" viewBox=\"0,0,720.0,744.0\" width=\"720px\" xmlns=\"http://www.w3.org/2000/svg\" xmlns:ev=\"http://www.w3.org/2001/xml-events\" xmlns:xlink=\"http://www.w3.org/1999/xlink\"><defs /><svg width=\"100%\" x=\"0\" y=\"0em\"><defs /><text text-anchor=\"middle\" x=\"50%\" y=\"1em\">S</text></svg><svg width=\"96.6667%\" x=\"0%\" y=\"3em\"><defs /><svg width=\"100%\" x=\"0\" y=\"0em\"><defs /><text text-anchor=\"middle\" x=\"50%\" y=\"1em\">S</text></svg><svg width=\"3.44828%\" x=\"0%\" y=\"3em\"><defs /><svg width=\"100%\" x=\"0\" y=\"0em\"><defs /><text text-anchor=\"middle\" x=\"50%\" y=\"1em\">G</text></svg></svg><line stroke=\"black\" x1=\"50%\" x2=\"1.72414%\" y1=\"1.2em\" y2=\"3em\" /><svg width=\"93.1034%\" x=\"3.44828%\" y=\"3em\"><defs /><svg width=\"100%\" x=\"0\" y=\"0em\"><defs /><text text-anchor=\"middle\" x=\"50%\" y=\"1em\">S</text></svg><svg width=\"3.7037%\" x=\"0%\" y=\"3em\"><defs /><svg width=\"100%\" x=\"0\" y=\"0em\"><defs /><text text-anchor=\"middle\" x=\"50%\" y=\"1em\">U</text></svg></svg><line stroke=\"black\" x1=\"50%\" x2=\"1.85185%\" y1=\"1.2em\" y2=\"3em\" /><svg width=\"92.5926%\" x=\"3.7037%\" y=\"3em\"><defs /><svg width=\"100%\" x=\"0\" y=\"0em\"><defs /><text text-anchor=\"middle\" x=\"50%\" y=\"1em\">S</text></svg><svg width=\"4%\" x=\"0%\" y=\"3em\"><defs /><svg width=\"100%\" x=\"0\" y=\"0em\"><defs /><text text-anchor=\"middle\" x=\"50%\" y=\"1em\">S</text></svg><svg width=\"100%\" x=\"0%\" y=\"3em\"><defs /><svg width=\"100%\" x=\"0\" y=\"0em\"><defs /><text text-anchor=\"middle\" x=\"50%\" y=\"1em\">U</text></svg></svg><line stroke=\"black\" x1=\"50%\" x2=\"50%\" y1=\"1.2em\" y2=\"3em\" /></svg><line stroke=\"black\" x1=\"50%\" x2=\"2%\" y1=\"1.2em\" y2=\"3em\" /><svg width=\"96%\" x=\"4%\" y=\"3em\"><defs /><svg width=\"100%\" x=\"0\" y=\"0em\"><defs /><text text-anchor=\"middle\" x=\"50%\" y=\"1em\">S</text></svg><svg width=\"4.16667%\" x=\"0%\" y=\"3em\"><defs /><svg width=\"100%\" x=\"0\" y=\"0em\"><defs /><text text-anchor=\"middle\" x=\"50%\" y=\"1em\">S</text></svg><svg width=\"100%\" x=\"0%\" y=\"3em\"><defs /><svg width=\"100%\" x=\"0\" y=\"0em\"><defs /><text text-anchor=\"middle\" x=\"50%\" y=\"1em\">A</text></svg></svg><line stroke=\"black\" x1=\"50%\" x2=\"50%\" y1=\"1.2em\" y2=\"3em\" /></svg><line stroke=\"black\" x1=\"50%\" x2=\"2.08333%\" y1=\"1.2em\" y2=\"3em\" /><svg width=\"95.8333%\" x=\"4.16667%\" y=\"3em\"><defs /><svg width=\"100%\" x=\"0\" y=\"0em\"><defs /><text text-anchor=\"middle\" x=\"50%\" y=\"1em\">S</text></svg><svg width=\"30.4348%\" x=\"0%\" y=\"3em\"><defs /><svg width=\"100%\" x=\"0\" y=\"0em\"><defs /><text text-anchor=\"middle\" x=\"50%\" y=\"1em\">S</text></svg><svg width=\"14.2857%\" x=\"0%\" y=\"3em\"><defs /><svg width=\"100%\" x=\"0\" y=\"0em\"><defs /><text text-anchor=\"middle\" x=\"50%\" y=\"1em\">G</text></svg></svg><line stroke=\"black\" x1=\"50%\" x2=\"7.14286%\" y1=\"1.2em\" y2=\"3em\" /><svg width=\"71.4286%\" x=\"14.2857%\" y=\"3em\"><defs /><svg width=\"100%\" x=\"0\" y=\"0em\"><defs /><text text-anchor=\"middle\" x=\"50%\" y=\"1em\">S</text></svg><svg width=\"20%\" x=\"0%\" y=\"3em\"><defs /><svg width=\"100%\" x=\"0\" y=\"0em\"><defs /><text text-anchor=\"middle\" x=\"50%\" y=\"1em\">C</text></svg></svg><line stroke=\"black\" x1=\"50%\" x2=\"10%\" y1=\"1.2em\" y2=\"3em\" /><svg width=\"60%\" x=\"20%\" y=\"3em\"><defs /><svg width=\"100%\" x=\"0\" y=\"0em\"><defs /><text text-anchor=\"middle\" x=\"50%\" y=\"1em\">S</text></svg><svg width=\"33.3333%\" x=\"0%\" y=\"3em\"><defs /><svg width=\"100%\" x=\"0\" y=\"0em\"><defs /><text text-anchor=\"middle\" x=\"50%\" y=\"1em\">S</text></svg><svg width=\"100%\" x=\"0%\" y=\"3em\"><defs /><svg width=\"100%\" x=\"0\" y=\"0em\"><defs /><text text-anchor=\"middle\" x=\"50%\" y=\"1em\">A</text></svg></svg><line stroke=\"black\" x1=\"50%\" x2=\"50%\" y1=\"1.2em\" y2=\"3em\" /></svg><line stroke=\"black\" x1=\"50%\" x2=\"16.6667%\" y1=\"1.2em\" y2=\"3em\" /><svg width=\"66.6667%\" x=\"33.3333%\" y=\"3em\"><defs /><svg width=\"100%\" x=\"0\" y=\"0em\"><defs /><text text-anchor=\"middle\" x=\"50%\" y=\"1em\">S</text></svg><svg width=\"50%\" x=\"0%\" y=\"3em\"><defs /><svg width=\"100%\" x=\"0\" y=\"0em\"><defs /><text text-anchor=\"middle\" x=\"50%\" y=\"1em\">S</text></svg><svg width=\"100%\" x=\"0%\" y=\"3em\"><defs /><svg width=\"100%\" x=\"0\" y=\"0em\"><defs /><text text-anchor=\"middle\" x=\"50%\" y=\"1em\">U</text></svg></svg><line stroke=\"black\" x1=\"50%\" x2=\"50%\" y1=\"1.2em\" y2=\"3em\" /></svg><line stroke=\"black\" x1=\"50%\" x2=\"25%\" y1=\"1.2em\" y2=\"3em\" /><svg width=\"50%\" x=\"50%\" y=\"3em\"><defs /><svg width=\"100%\" x=\"0\" y=\"0em\"><defs /><text text-anchor=\"middle\" x=\"50%\" y=\"1em\">S</text></svg><svg width=\"100%\" x=\"0%\" y=\"3em\"><defs /><svg width=\"100%\" x=\"0\" y=\"0em\"><defs /><text text-anchor=\"middle\" x=\"50%\" y=\"1em\">C</text></svg></svg><line stroke=\"black\" x1=\"50%\" x2=\"50%\" y1=\"1.2em\" y2=\"3em\" /></svg><line stroke=\"black\" x1=\"50%\" x2=\"75%\" y1=\"1.2em\" y2=\"3em\" /></svg><line stroke=\"black\" x1=\"50%\" x2=\"66.6667%\" y1=\"1.2em\" y2=\"3em\" /></svg><line stroke=\"black\" x1=\"50%\" x2=\"50%\" y1=\"1.2em\" y2=\"3em\" /><svg width=\"20%\" x=\"80%\" y=\"3em\"><defs /><svg width=\"100%\" x=\"0\" y=\"0em\"><defs /><text text-anchor=\"middle\" x=\"50%\" y=\"1em\">G</text></svg></svg><line stroke=\"black\" x1=\"50%\" x2=\"90%\" y1=\"1.2em\" y2=\"3em\" /></svg><line stroke=\"black\" x1=\"50%\" x2=\"50%\" y1=\"1.2em\" y2=\"3em\" /><svg width=\"14.2857%\" x=\"85.7143%\" y=\"3em\"><defs /><svg width=\"100%\" x=\"0\" y=\"0em\"><defs /><text text-anchor=\"middle\" x=\"50%\" y=\"1em\">C</text></svg></svg><line stroke=\"black\" x1=\"50%\" x2=\"92.8571%\" y1=\"1.2em\" y2=\"3em\" /></svg><line stroke=\"black\" x1=\"50%\" x2=\"15.2174%\" y1=\"1.2em\" y2=\"3em\" /><svg width=\"69.5652%\" x=\"30.4348%\" y=\"3em\"><defs /><svg width=\"100%\" x=\"0\" y=\"0em\"><defs /><text text-anchor=\"middle\" x=\"50%\" y=\"1em\">S</text></svg><svg width=\"6.25%\" x=\"0%\" y=\"3em\"><defs /><svg width=\"100%\" x=\"0\" y=\"0em\"><defs /><text text-anchor=\"middle\" x=\"50%\" y=\"1em\">S</text></svg><svg width=\"100%\" x=\"0%\" y=\"3em\"><defs /><svg width=\"100%\" x=\"0\" y=\"0em\"><defs /><text text-anchor=\"middle\" x=\"50%\" y=\"1em\">G</text></svg></svg><line stroke=\"black\" x1=\"50%\" x2=\"50%\" y1=\"1.2em\" y2=\"3em\" /></svg><line stroke=\"black\" x1=\"50%\" x2=\"3.125%\" y1=\"1.2em\" y2=\"3em\" /><svg width=\"93.75%\" x=\"6.25%\" y=\"3em\"><defs /><svg width=\"100%\" x=\"0\" y=\"0em\"><defs /><text text-anchor=\"middle\" x=\"50%\" y=\"1em\">S</text></svg><svg width=\"40%\" x=\"0%\" y=\"3em\"><defs /><svg width=\"100%\" x=\"0\" y=\"0em\"><defs /><text text-anchor=\"middle\" x=\"50%\" y=\"1em\">S</text></svg><svg width=\"16.6667%\" x=\"0%\" y=\"3em\"><defs /><svg width=\"100%\" x=\"0\" y=\"0em\"><defs /><text text-anchor=\"middle\" x=\"50%\" y=\"1em\">G</text></svg></svg><line stroke=\"black\" x1=\"50%\" x2=\"8.33333%\" y1=\"1.2em\" y2=\"3em\" /><svg width=\"66.6667%\" x=\"16.6667%\" y=\"3em\"><defs /><svg width=\"100%\" x=\"0\" y=\"0em\"><defs /><text text-anchor=\"middle\" x=\"50%\" y=\"1em\">S</text></svg><svg width=\"25%\" x=\"0%\" y=\"3em\"><defs /><svg width=\"100%\" x=\"0\" y=\"0em\"><defs /><text text-anchor=\"middle\" x=\"50%\" y=\"1em\">G</text></svg></svg><line stroke=\"black\" x1=\"50%\" x2=\"12.5%\" y1=\"1.2em\" y2=\"3em\" /><svg width=\"50%\" x=\"25%\" y=\"3em\"><defs /><svg width=\"100%\" x=\"0\" y=\"0em\"><defs /><text text-anchor=\"middle\" x=\"50%\" y=\"1em\">S</text></svg><svg width=\"50%\" x=\"0%\" y=\"3em\"><defs /><svg width=\"100%\" x=\"0\" y=\"0em\"><defs /><text text-anchor=\"middle\" x=\"50%\" y=\"1em\">S</text></svg><svg width=\"100%\" x=\"0%\" y=\"3em\"><defs /><svg width=\"100%\" x=\"0\" y=\"0em\"><defs /><text text-anchor=\"middle\" x=\"50%\" y=\"1em\">A</text></svg></svg><line stroke=\"black\" x1=\"50%\" x2=\"50%\" y1=\"1.2em\" y2=\"3em\" /></svg><line stroke=\"black\" x1=\"50%\" x2=\"25%\" y1=\"1.2em\" y2=\"3em\" /><svg width=\"50%\" x=\"50%\" y=\"3em\"><defs /><svg width=\"100%\" x=\"0\" y=\"0em\"><defs /><text text-anchor=\"middle\" x=\"50%\" y=\"1em\">S</text></svg><svg width=\"100%\" x=\"0%\" y=\"3em\"><defs /><svg width=\"100%\" x=\"0\" y=\"0em\"><defs /><text text-anchor=\"middle\" x=\"50%\" y=\"1em\">A</text></svg></svg><line stroke=\"black\" x1=\"50%\" x2=\"50%\" y1=\"1.2em\" y2=\"3em\" /></svg><line stroke=\"black\" x1=\"50%\" x2=\"75%\" y1=\"1.2em\" y2=\"3em\" /></svg><line stroke=\"black\" x1=\"50%\" x2=\"50%\" y1=\"1.2em\" y2=\"3em\" /><svg width=\"25%\" x=\"75%\" y=\"3em\"><defs /><svg width=\"100%\" x=\"0\" y=\"0em\"><defs /><text text-anchor=\"middle\" x=\"50%\" y=\"1em\">C</text></svg></svg><line stroke=\"black\" x1=\"50%\" x2=\"87.5%\" y1=\"1.2em\" y2=\"3em\" /></svg><line stroke=\"black\" x1=\"50%\" x2=\"50%\" y1=\"1.2em\" y2=\"3em\" /><svg width=\"16.6667%\" x=\"83.3333%\" y=\"3em\"><defs /><svg width=\"100%\" x=\"0\" y=\"0em\"><defs /><text text-anchor=\"middle\" x=\"50%\" y=\"1em\">C</text></svg></svg><line stroke=\"black\" x1=\"50%\" x2=\"91.6667%\" y1=\"1.2em\" y2=\"3em\" /></svg><line stroke=\"black\" x1=\"50%\" x2=\"20%\" y1=\"1.2em\" y2=\"3em\" /><svg width=\"60%\" x=\"40%\" y=\"3em\"><defs /><svg width=\"100%\" x=\"0\" y=\"0em\"><defs /><text text-anchor=\"middle\" x=\"50%\" y=\"1em\">S</text></svg><svg width=\"11.1111%\" x=\"0%\" y=\"3em\"><defs /><svg width=\"100%\" x=\"0\" y=\"0em\"><defs /><text text-anchor=\"middle\" x=\"50%\" y=\"1em\">S</text></svg><svg width=\"100%\" x=\"0%\" y=\"3em\"><defs /><svg width=\"100%\" x=\"0\" y=\"0em\"><defs /><text text-anchor=\"middle\" x=\"50%\" y=\"1em\">U</text></svg></svg><line stroke=\"black\" x1=\"50%\" x2=\"50%\" y1=\"1.2em\" y2=\"3em\" /></svg><line stroke=\"black\" x1=\"50%\" x2=\"5.55556%\" y1=\"1.2em\" y2=\"3em\" /><svg width=\"88.8889%\" x=\"11.1111%\" y=\"3em\"><defs /><svg width=\"100%\" x=\"0\" y=\"0em\"><defs /><text text-anchor=\"middle\" x=\"50%\" y=\"1em\">S</text></svg><svg width=\"12.5%\" x=\"0%\" y=\"3em\"><defs /><svg width=\"100%\" x=\"0\" y=\"0em\"><defs /><text text-anchor=\"middle\" x=\"50%\" y=\"1em\">S</text></svg><svg width=\"100%\" x=\"0%\" y=\"3em\"><defs /><svg width=\"100%\" x=\"0\" y=\"0em\"><defs /><text text-anchor=\"middle\" x=\"50%\" y=\"1em\">U</text></svg></svg><line stroke=\"black\" x1=\"50%\" x2=\"50%\" y1=\"1.2em\" y2=\"3em\" /></svg><line stroke=\"black\" x1=\"50%\" x2=\"6.25%\" y1=\"1.2em\" y2=\"3em\" /><svg width=\"87.5%\" x=\"12.5%\" y=\"3em\"><defs /><svg width=\"100%\" x=\"0\" y=\"0em\"><defs /><text text-anchor=\"middle\" x=\"50%\" y=\"1em\">S</text></svg><svg width=\"14.2857%\" x=\"0%\" y=\"3em\"><defs /><svg width=\"100%\" x=\"0\" y=\"0em\"><defs /><text text-anchor=\"middle\" x=\"50%\" y=\"1em\">S</text></svg><svg width=\"100%\" x=\"0%\" y=\"3em\"><defs /><svg width=\"100%\" x=\"0\" y=\"0em\"><defs /><text text-anchor=\"middle\" x=\"50%\" y=\"1em\">U</text></svg></svg><line stroke=\"black\" x1=\"50%\" x2=\"50%\" y1=\"1.2em\" y2=\"3em\" /></svg><line stroke=\"black\" x1=\"50%\" x2=\"7.14286%\" y1=\"1.2em\" y2=\"3em\" /><svg width=\"85.7143%\" x=\"14.2857%\" y=\"3em\"><defs /><svg width=\"100%\" x=\"0\" y=\"0em\"><defs /><text text-anchor=\"middle\" x=\"50%\" y=\"1em\">S</text></svg><svg width=\"16.6667%\" x=\"0%\" y=\"3em\"><defs /><svg width=\"100%\" x=\"0\" y=\"0em\"><defs /><text text-anchor=\"middle\" x=\"50%\" y=\"1em\">G</text></svg></svg><line stroke=\"black\" x1=\"50%\" x2=\"8.33333%\" y1=\"1.2em\" y2=\"3em\" /><svg width=\"66.6667%\" x=\"16.6667%\" y=\"3em\"><defs /><svg width=\"100%\" x=\"0\" y=\"0em\"><defs /><text text-anchor=\"middle\" x=\"50%\" y=\"1em\">S</text></svg><svg width=\"25%\" x=\"0%\" y=\"3em\"><defs /><svg width=\"100%\" x=\"0\" y=\"0em\"><defs /><text text-anchor=\"middle\" x=\"50%\" y=\"1em\">G</text></svg></svg><line stroke=\"black\" x1=\"50%\" x2=\"12.5%\" y1=\"1.2em\" y2=\"3em\" /><svg width=\"50%\" x=\"25%\" y=\"3em\"><defs /><svg width=\"100%\" x=\"0\" y=\"0em\"><defs /><text text-anchor=\"middle\" x=\"50%\" y=\"1em\">S</text></svg><svg width=\"50%\" x=\"0%\" y=\"3em\"><defs /><svg width=\"100%\" x=\"0\" y=\"0em\"><defs /><text text-anchor=\"middle\" x=\"50%\" y=\"1em\">S</text></svg><svg width=\"100%\" x=\"0%\" y=\"3em\"><defs /><svg width=\"100%\" x=\"0\" y=\"0em\"><defs /><text text-anchor=\"middle\" x=\"50%\" y=\"1em\">A</text></svg></svg><line stroke=\"black\" x1=\"50%\" x2=\"50%\" y1=\"1.2em\" y2=\"3em\" /></svg><line stroke=\"black\" x1=\"50%\" x2=\"25%\" y1=\"1.2em\" y2=\"3em\" /><svg width=\"50%\" x=\"50%\" y=\"3em\"><defs /><svg width=\"100%\" x=\"0\" y=\"0em\"><defs /><text text-anchor=\"middle\" x=\"50%\" y=\"1em\">S</text></svg><svg width=\"100%\" x=\"0%\" y=\"3em\"><defs /><svg width=\"100%\" x=\"0\" y=\"0em\"><defs /><text text-anchor=\"middle\" x=\"50%\" y=\"1em\">A</text></svg></svg><line stroke=\"black\" x1=\"50%\" x2=\"50%\" y1=\"1.2em\" y2=\"3em\" /></svg><line stroke=\"black\" x1=\"50%\" x2=\"75%\" y1=\"1.2em\" y2=\"3em\" /></svg><line stroke=\"black\" x1=\"50%\" x2=\"50%\" y1=\"1.2em\" y2=\"3em\" /><svg width=\"25%\" x=\"75%\" y=\"3em\"><defs /><svg width=\"100%\" x=\"0\" y=\"0em\"><defs /><text text-anchor=\"middle\" x=\"50%\" y=\"1em\">C</text></svg></svg><line stroke=\"black\" x1=\"50%\" x2=\"87.5%\" y1=\"1.2em\" y2=\"3em\" /></svg><line stroke=\"black\" x1=\"50%\" x2=\"50%\" y1=\"1.2em\" y2=\"3em\" /><svg width=\"16.6667%\" x=\"83.3333%\" y=\"3em\"><defs /><svg width=\"100%\" x=\"0\" y=\"0em\"><defs /><text text-anchor=\"middle\" x=\"50%\" y=\"1em\">C</text></svg></svg><line stroke=\"black\" x1=\"50%\" x2=\"91.6667%\" y1=\"1.2em\" y2=\"3em\" /></svg><line stroke=\"black\" x1=\"50%\" x2=\"57.1429%\" y1=\"1.2em\" y2=\"3em\" /></svg><line stroke=\"black\" x1=\"50%\" x2=\"56.25%\" y1=\"1.2em\" y2=\"3em\" /></svg><line stroke=\"black\" x1=\"50%\" x2=\"55.5556%\" y1=\"1.2em\" y2=\"3em\" /></svg><line stroke=\"black\" x1=\"50%\" x2=\"70%\" y1=\"1.2em\" y2=\"3em\" /></svg><line stroke=\"black\" x1=\"50%\" x2=\"53.125%\" y1=\"1.2em\" y2=\"3em\" /></svg><line stroke=\"black\" x1=\"50%\" x2=\"65.2174%\" y1=\"1.2em\" y2=\"3em\" /></svg><line stroke=\"black\" x1=\"50%\" x2=\"52.0833%\" y1=\"1.2em\" y2=\"3em\" /></svg><line stroke=\"black\" x1=\"50%\" x2=\"52%\" y1=\"1.2em\" y2=\"3em\" /></svg><line stroke=\"black\" x1=\"50%\" x2=\"50%\" y1=\"1.2em\" y2=\"3em\" /><svg width=\"3.7037%\" x=\"96.2963%\" y=\"3em\"><defs /><svg width=\"100%\" x=\"0\" y=\"0em\"><defs /><text text-anchor=\"middle\" x=\"50%\" y=\"1em\">A</text></svg></svg><line stroke=\"black\" x1=\"50%\" x2=\"98.1481%\" y1=\"1.2em\" y2=\"3em\" /></svg><line stroke=\"black\" x1=\"50%\" x2=\"50%\" y1=\"1.2em\" y2=\"3em\" /><svg width=\"3.44828%\" x=\"96.5517%\" y=\"3em\"><defs /><svg width=\"100%\" x=\"0\" y=\"0em\"><defs /><text text-anchor=\"middle\" x=\"50%\" y=\"1em\">U</text></svg></svg><line stroke=\"black\" x1=\"50%\" x2=\"98.2759%\" y1=\"1.2em\" y2=\"3em\" /></svg><line stroke=\"black\" x1=\"50%\" x2=\"48.3333%\" y1=\"1.2em\" y2=\"3em\" /><svg width=\"3.33333%\" x=\"96.6667%\" y=\"3em\"><defs /><svg width=\"100%\" x=\"0\" y=\"0em\"><defs /><text text-anchor=\"middle\" x=\"50%\" y=\"1em\">S</text></svg><svg width=\"100%\" x=\"0%\" y=\"3em\"><defs /><svg width=\"100%\" x=\"0\" y=\"0em\"><defs /><text text-anchor=\"middle\" x=\"50%\" y=\"1em\">G</text></svg></svg><line stroke=\"black\" x1=\"50%\" x2=\"50%\" y1=\"1.2em\" y2=\"3em\" /></svg><line stroke=\"black\" x1=\"50%\" x2=\"98.3333%\" y1=\"1.2em\" y2=\"3em\" /></svg>"
      ],
      "text/plain": [
       "<__main__.Nussinov at 0x17113db65b0>"
      ]
     },
     "execution_count": 24,
     "metadata": {},
     "output_type": "execute_result"
    }
   ],
   "source": [
    "# Enkapsulacija RNK gramatikom Nussinov\n",
    "Nussinov(sekvenca, struktura)"
   ]
  },
  {
   "cell_type": "markdown",
   "id": "5af99f71",
   "metadata": {},
   "source": [
    "## 4. Gramatika *KH-99* [⮭]<a id=\"par:kh99\"></a>\n",
    "\n",
    "[⮭]: #par:toc"
   ]
  },
  {
   "cell_type": "markdown",
   "id": "2bf7e9de",
   "metadata": {},
   "source": [
    "Iako su kontekstno slobodne gramatike, sasvim prirodno, oslobođene od konteksta, on im se može donekle pridodati pažljivo smišljenim pravilima izvođenja. Primera radi, pravilo $S → kS$ može se prepisati kao $S → kS^k$. Novi neterminal $S^k$ uvodi se za svaki terminal $k$ i u suštini poznaje svoj kontekst: u pitanju je $S$ koje se nalazi upravo iza simbola $k$. Ovakvo usložnjavanje gramatike naziva se [markovizacija](https://www3.nd.edu/~dchiang/teaching/nlp/2016/notes/chapter13v2.pdf) i predstavlja jedan od načina za povećavanje opisne moći."
   ]
  },
  {
   "cell_type": "markdown",
   "id": "46fc88bf",
   "metadata": {},
   "source": [
    "Markovizacija, međutim, može proizvesti vrlo složenu gramatiku, a da pritom ne donese srazmerno značajnu dobit. Stoga se često pribegava nešto jednostavnijim metodama za dodavanje konteksta. Jedna takva gramatika za predviđanje sekundarne strukture *RNK* zasnovana je na [algoritmu *KH-99*](https://en.wikipedia.org/wiki/Probabilistic_context-free_grammar), koji su 1999. predstavili [Knudsen i Hejn](https://pubmed.ncbi.nlm.nih.gov/10383470/). Pored poznatih simbola gramatike Nusinov, ova gramatika poznaje i neterminale $L$ i $F$, koji joj upravo pridodaju kontekst."
   ]
  },
  {
   "cell_type": "markdown",
   "id": "a5819573",
   "metadata": {},
   "source": [
    "$$ \\large S → LS \\scriptsize\\text{ (nizanje elemenata) } \\large| L \\scriptsize\\text{ (poslednji element) } $$\n",
    "$$ \\large L → s \\scriptsize\\text{ (neuparena baza) } \\large| dFd \\scriptsize\\text{ (početak zavojnice) } $$\n",
    "$$ \\large F → dFd \\scriptsize\\text{ (nastavak zavojnice) } \\large| LS \\scriptsize\\text{ (unutrašnjost zavojnice) } $$"
   ]
  },
  {
   "cell_type": "markdown",
   "id": "16687c1e",
   "metadata": {},
   "source": [
    "Primetno je da se uparivanja ocenjuju afino: različito ona na početku zavojnice i ona unutar nje. Na taj način uveden je osnovni, ali značajan kontekst, što se ogleda u dobrim rezultatima. Minimalna dužina petlje je dva, sa izvođenjem $F → LS → sS → sL → ss$, a gramatika je jednoznačna za poznatu strukturu. Autori su, inače, 2003. kroz softver [*Pfold*](https://pubmed.ncbi.nlm.nih.gov/12824339/) proširili i poboljšali svoj metod uključivanjem u priču evolutivnih informacija o razmatranim sekvencama."
   ]
  },
  {
   "cell_type": "code",
   "execution_count": 25,
   "id": "92f68981",
   "metadata": {},
   "outputs": [],
   "source": [
    "# Kontekstno slobodna gramatika KH-99\n",
    "class KH99(Struktura2D):\n",
    "    def __init__(self, sekvenca, struktura):\n",
    "        super().__init__(sekvenca, struktura)\n",
    "    \n",
    "    # Obrada startnog neterminala S[i:j]\n",
    "    def S(self, i, j):\n",
    "        # Jedan karakter mora biti neuparena baza\n",
    "        # pa je izvođenje S[i:j] → L[i:j]\n",
    "        if i == j:\n",
    "            return Tree('S', [self.L(i, j)])\n",
    "        \n",
    "        # Neuparena baza je u suprotnom u petlji,\n",
    "        # pa je izvođenje S[i:j] → L[i:i] S[i+1:j]\n",
    "        if self.struktura[i] == '.':\n",
    "            return Tree('S', [self.L(i, i), self.S(i+1, j)])\n",
    "        \n",
    "        # Određivanje uparene baze\n",
    "        k = self.uparivanje[i]\n",
    "        \n",
    "        # Potpuno uparivanje znači da je izvođenje\n",
    "        # u nekoj zavojnici: S[i:j] → L[i:j]\n",
    "        if j == k:\n",
    "            return Tree('S', [self.L(i, j)])\n",
    "        \n",
    "        # Nepotpuno uparivanje uslovljava grananje,\n",
    "        # pa je izvođenje S[i:j] → L[i:k] S[k+1:j]\n",
    "        return Tree('S', [self.L(i, k), self.S(k+1, j)])\n",
    "    \n",
    "    # Obrada neterminala petlje L[i:j]\n",
    "    def L(self, i, j):\n",
    "        # Najlevlji (tekući) ribonukleotid\n",
    "        rn_i = self.sekvenca[i]\n",
    "        \n",
    "        # Jedan karakter mora biti neuparena baza,\n",
    "        # pa je izvođenje tipa L[i:j] → s\n",
    "        if i == j:\n",
    "            return Tree('L', [rn_i])\n",
    "        \n",
    "        # Određivanje uparene baze\n",
    "        rn_j = self.sekvenca[j]\n",
    "        \n",
    "        # Potpuno uparivanje znači da je izvođenje\n",
    "        # u zavojnici: L[i:j] → d F[i+1:j-1] d\n",
    "        return Tree('L', [rn_i, self.F(i+1, j-1), rn_j])\n",
    "    \n",
    "    # Obrada neterminala zavojnice F[i:j]\n",
    "    def F(self, i, j):\n",
    "        # Neuparena baza je u unutrašnjosti heliksa,\n",
    "        # pa je izvođenje F[i:j] → L[i:i] S[i+1:j]\n",
    "        if self.struktura[i] == '.':\n",
    "            return Tree('F', [self.L(i, i), self.S(i+1, j)])\n",
    "\n",
    "        # Najlevlji (tekući) ribonukleotid\n",
    "        rn_i = self.sekvenca[i]\n",
    "        \n",
    "        # Određivanje uparene baze\n",
    "        k = self.uparivanje[i]\n",
    "        rn_k = self.sekvenca[k]\n",
    "        \n",
    "        # Potpuno uparivanje znači da je izvođenje\n",
    "        # u zavojnici: F[i:j] → d F[i+1:j-1] d\n",
    "        if j == k:\n",
    "            return Tree('F', [rn_i, self.F(i+1, j-1), rn_k])\n",
    "        \n",
    "        # Nepotpuno uparivanje uslovljava grananje,\n",
    "        # pa je izvođenje F[i:j] → L[i:k] S[k+1:j]\n",
    "        return Tree('F', [self.L(i, k), self.S(k+1, j)])"
   ]
  },
  {
   "cell_type": "code",
   "execution_count": 26,
   "id": "edfa9fd7",
   "metadata": {},
   "outputs": [
    {
     "data": {
      "image/svg+xml": [
       "<svg baseProfile=\"full\" height=\"840px\" preserveAspectRatio=\"xMidYMid meet\" style=\"font-family: times, serif; font-weight:normal; font-style: normal; font-size: 16px;\" version=\"1.1\" viewBox=\"0,0,720.0,840.0\" width=\"720px\" xmlns=\"http://www.w3.org/2000/svg\" xmlns:ev=\"http://www.w3.org/2001/xml-events\" xmlns:xlink=\"http://www.w3.org/1999/xlink\"><defs /><svg width=\"100%\" x=\"0\" y=\"0em\"><defs /><text text-anchor=\"middle\" x=\"50%\" y=\"1em\">S</text></svg><svg width=\"96.6667%\" x=\"0%\" y=\"3em\"><defs /><svg width=\"100%\" x=\"0\" y=\"0em\"><defs /><text text-anchor=\"middle\" x=\"50%\" y=\"1em\">L</text></svg><svg width=\"3.44828%\" x=\"0%\" y=\"3em\"><defs /><svg width=\"100%\" x=\"0\" y=\"0em\"><defs /><text text-anchor=\"middle\" x=\"50%\" y=\"1em\">G</text></svg></svg><line stroke=\"black\" x1=\"50%\" x2=\"1.72414%\" y1=\"1.2em\" y2=\"3em\" /><svg width=\"93.1034%\" x=\"3.44828%\" y=\"3em\"><defs /><svg width=\"100%\" x=\"0\" y=\"0em\"><defs /><text text-anchor=\"middle\" x=\"50%\" y=\"1em\">F</text></svg><svg width=\"3.7037%\" x=\"0%\" y=\"3em\"><defs /><svg width=\"100%\" x=\"0\" y=\"0em\"><defs /><text text-anchor=\"middle\" x=\"50%\" y=\"1em\">U</text></svg></svg><line stroke=\"black\" x1=\"50%\" x2=\"1.85185%\" y1=\"1.2em\" y2=\"3em\" /><svg width=\"92.5926%\" x=\"3.7037%\" y=\"3em\"><defs /><svg width=\"100%\" x=\"0\" y=\"0em\"><defs /><text text-anchor=\"middle\" x=\"50%\" y=\"1em\">F</text></svg><svg width=\"4%\" x=\"0%\" y=\"3em\"><defs /><svg width=\"100%\" x=\"0\" y=\"0em\"><defs /><text text-anchor=\"middle\" x=\"50%\" y=\"1em\">L</text></svg><svg width=\"100%\" x=\"0%\" y=\"3em\"><defs /><svg width=\"100%\" x=\"0\" y=\"0em\"><defs /><text text-anchor=\"middle\" x=\"50%\" y=\"1em\">U</text></svg></svg><line stroke=\"black\" x1=\"50%\" x2=\"50%\" y1=\"1.2em\" y2=\"3em\" /></svg><line stroke=\"black\" x1=\"50%\" x2=\"2%\" y1=\"1.2em\" y2=\"3em\" /><svg width=\"96%\" x=\"4%\" y=\"3em\"><defs /><svg width=\"100%\" x=\"0\" y=\"0em\"><defs /><text text-anchor=\"middle\" x=\"50%\" y=\"1em\">S</text></svg><svg width=\"4.16667%\" x=\"0%\" y=\"3em\"><defs /><svg width=\"100%\" x=\"0\" y=\"0em\"><defs /><text text-anchor=\"middle\" x=\"50%\" y=\"1em\">L</text></svg><svg width=\"100%\" x=\"0%\" y=\"3em\"><defs /><svg width=\"100%\" x=\"0\" y=\"0em\"><defs /><text text-anchor=\"middle\" x=\"50%\" y=\"1em\">A</text></svg></svg><line stroke=\"black\" x1=\"50%\" x2=\"50%\" y1=\"1.2em\" y2=\"3em\" /></svg><line stroke=\"black\" x1=\"50%\" x2=\"2.08333%\" y1=\"1.2em\" y2=\"3em\" /><svg width=\"95.8333%\" x=\"4.16667%\" y=\"3em\"><defs /><svg width=\"100%\" x=\"0\" y=\"0em\"><defs /><text text-anchor=\"middle\" x=\"50%\" y=\"1em\">S</text></svg><svg width=\"30.4348%\" x=\"0%\" y=\"3em\"><defs /><svg width=\"100%\" x=\"0\" y=\"0em\"><defs /><text text-anchor=\"middle\" x=\"50%\" y=\"1em\">L</text></svg><svg width=\"14.2857%\" x=\"0%\" y=\"3em\"><defs /><svg width=\"100%\" x=\"0\" y=\"0em\"><defs /><text text-anchor=\"middle\" x=\"50%\" y=\"1em\">G</text></svg></svg><line stroke=\"black\" x1=\"50%\" x2=\"7.14286%\" y1=\"1.2em\" y2=\"3em\" /><svg width=\"71.4286%\" x=\"14.2857%\" y=\"3em\"><defs /><svg width=\"100%\" x=\"0\" y=\"0em\"><defs /><text text-anchor=\"middle\" x=\"50%\" y=\"1em\">F</text></svg><svg width=\"20%\" x=\"0%\" y=\"3em\"><defs /><svg width=\"100%\" x=\"0\" y=\"0em\"><defs /><text text-anchor=\"middle\" x=\"50%\" y=\"1em\">C</text></svg></svg><line stroke=\"black\" x1=\"50%\" x2=\"10%\" y1=\"1.2em\" y2=\"3em\" /><svg width=\"60%\" x=\"20%\" y=\"3em\"><defs /><svg width=\"100%\" x=\"0\" y=\"0em\"><defs /><text text-anchor=\"middle\" x=\"50%\" y=\"1em\">F</text></svg><svg width=\"33.3333%\" x=\"0%\" y=\"3em\"><defs /><svg width=\"100%\" x=\"0\" y=\"0em\"><defs /><text text-anchor=\"middle\" x=\"50%\" y=\"1em\">L</text></svg><svg width=\"100%\" x=\"0%\" y=\"3em\"><defs /><svg width=\"100%\" x=\"0\" y=\"0em\"><defs /><text text-anchor=\"middle\" x=\"50%\" y=\"1em\">A</text></svg></svg><line stroke=\"black\" x1=\"50%\" x2=\"50%\" y1=\"1.2em\" y2=\"3em\" /></svg><line stroke=\"black\" x1=\"50%\" x2=\"16.6667%\" y1=\"1.2em\" y2=\"3em\" /><svg width=\"66.6667%\" x=\"33.3333%\" y=\"3em\"><defs /><svg width=\"100%\" x=\"0\" y=\"0em\"><defs /><text text-anchor=\"middle\" x=\"50%\" y=\"1em\">S</text></svg><svg width=\"50%\" x=\"0%\" y=\"3em\"><defs /><svg width=\"100%\" x=\"0\" y=\"0em\"><defs /><text text-anchor=\"middle\" x=\"50%\" y=\"1em\">L</text></svg><svg width=\"100%\" x=\"0%\" y=\"3em\"><defs /><svg width=\"100%\" x=\"0\" y=\"0em\"><defs /><text text-anchor=\"middle\" x=\"50%\" y=\"1em\">U</text></svg></svg><line stroke=\"black\" x1=\"50%\" x2=\"50%\" y1=\"1.2em\" y2=\"3em\" /></svg><line stroke=\"black\" x1=\"50%\" x2=\"25%\" y1=\"1.2em\" y2=\"3em\" /><svg width=\"50%\" x=\"50%\" y=\"3em\"><defs /><svg width=\"100%\" x=\"0\" y=\"0em\"><defs /><text text-anchor=\"middle\" x=\"50%\" y=\"1em\">S</text></svg><svg width=\"100%\" x=\"0%\" y=\"3em\"><defs /><svg width=\"100%\" x=\"0\" y=\"0em\"><defs /><text text-anchor=\"middle\" x=\"50%\" y=\"1em\">L</text></svg><svg width=\"100%\" x=\"0%\" y=\"3em\"><defs /><svg width=\"100%\" x=\"0\" y=\"0em\"><defs /><text text-anchor=\"middle\" x=\"50%\" y=\"1em\">C</text></svg></svg><line stroke=\"black\" x1=\"50%\" x2=\"50%\" y1=\"1.2em\" y2=\"3em\" /></svg><line stroke=\"black\" x1=\"50%\" x2=\"50%\" y1=\"1.2em\" y2=\"3em\" /></svg><line stroke=\"black\" x1=\"50%\" x2=\"75%\" y1=\"1.2em\" y2=\"3em\" /></svg><line stroke=\"black\" x1=\"50%\" x2=\"66.6667%\" y1=\"1.2em\" y2=\"3em\" /></svg><line stroke=\"black\" x1=\"50%\" x2=\"50%\" y1=\"1.2em\" y2=\"3em\" /><svg width=\"20%\" x=\"80%\" y=\"3em\"><defs /><svg width=\"100%\" x=\"0\" y=\"0em\"><defs /><text text-anchor=\"middle\" x=\"50%\" y=\"1em\">G</text></svg></svg><line stroke=\"black\" x1=\"50%\" x2=\"90%\" y1=\"1.2em\" y2=\"3em\" /></svg><line stroke=\"black\" x1=\"50%\" x2=\"50%\" y1=\"1.2em\" y2=\"3em\" /><svg width=\"14.2857%\" x=\"85.7143%\" y=\"3em\"><defs /><svg width=\"100%\" x=\"0\" y=\"0em\"><defs /><text text-anchor=\"middle\" x=\"50%\" y=\"1em\">C</text></svg></svg><line stroke=\"black\" x1=\"50%\" x2=\"92.8571%\" y1=\"1.2em\" y2=\"3em\" /></svg><line stroke=\"black\" x1=\"50%\" x2=\"15.2174%\" y1=\"1.2em\" y2=\"3em\" /><svg width=\"69.5652%\" x=\"30.4348%\" y=\"3em\"><defs /><svg width=\"100%\" x=\"0\" y=\"0em\"><defs /><text text-anchor=\"middle\" x=\"50%\" y=\"1em\">S</text></svg><svg width=\"6.25%\" x=\"0%\" y=\"3em\"><defs /><svg width=\"100%\" x=\"0\" y=\"0em\"><defs /><text text-anchor=\"middle\" x=\"50%\" y=\"1em\">L</text></svg><svg width=\"100%\" x=\"0%\" y=\"3em\"><defs /><svg width=\"100%\" x=\"0\" y=\"0em\"><defs /><text text-anchor=\"middle\" x=\"50%\" y=\"1em\">G</text></svg></svg><line stroke=\"black\" x1=\"50%\" x2=\"50%\" y1=\"1.2em\" y2=\"3em\" /></svg><line stroke=\"black\" x1=\"50%\" x2=\"3.125%\" y1=\"1.2em\" y2=\"3em\" /><svg width=\"93.75%\" x=\"6.25%\" y=\"3em\"><defs /><svg width=\"100%\" x=\"0\" y=\"0em\"><defs /><text text-anchor=\"middle\" x=\"50%\" y=\"1em\">S</text></svg><svg width=\"40%\" x=\"0%\" y=\"3em\"><defs /><svg width=\"100%\" x=\"0\" y=\"0em\"><defs /><text text-anchor=\"middle\" x=\"50%\" y=\"1em\">L</text></svg><svg width=\"16.6667%\" x=\"0%\" y=\"3em\"><defs /><svg width=\"100%\" x=\"0\" y=\"0em\"><defs /><text text-anchor=\"middle\" x=\"50%\" y=\"1em\">G</text></svg></svg><line stroke=\"black\" x1=\"50%\" x2=\"8.33333%\" y1=\"1.2em\" y2=\"3em\" /><svg width=\"66.6667%\" x=\"16.6667%\" y=\"3em\"><defs /><svg width=\"100%\" x=\"0\" y=\"0em\"><defs /><text text-anchor=\"middle\" x=\"50%\" y=\"1em\">F</text></svg><svg width=\"25%\" x=\"0%\" y=\"3em\"><defs /><svg width=\"100%\" x=\"0\" y=\"0em\"><defs /><text text-anchor=\"middle\" x=\"50%\" y=\"1em\">G</text></svg></svg><line stroke=\"black\" x1=\"50%\" x2=\"12.5%\" y1=\"1.2em\" y2=\"3em\" /><svg width=\"50%\" x=\"25%\" y=\"3em\"><defs /><svg width=\"100%\" x=\"0\" y=\"0em\"><defs /><text text-anchor=\"middle\" x=\"50%\" y=\"1em\">F</text></svg><svg width=\"50%\" x=\"0%\" y=\"3em\"><defs /><svg width=\"100%\" x=\"0\" y=\"0em\"><defs /><text text-anchor=\"middle\" x=\"50%\" y=\"1em\">L</text></svg><svg width=\"100%\" x=\"0%\" y=\"3em\"><defs /><svg width=\"100%\" x=\"0\" y=\"0em\"><defs /><text text-anchor=\"middle\" x=\"50%\" y=\"1em\">A</text></svg></svg><line stroke=\"black\" x1=\"50%\" x2=\"50%\" y1=\"1.2em\" y2=\"3em\" /></svg><line stroke=\"black\" x1=\"50%\" x2=\"25%\" y1=\"1.2em\" y2=\"3em\" /><svg width=\"50%\" x=\"50%\" y=\"3em\"><defs /><svg width=\"100%\" x=\"0\" y=\"0em\"><defs /><text text-anchor=\"middle\" x=\"50%\" y=\"1em\">S</text></svg><svg width=\"100%\" x=\"0%\" y=\"3em\"><defs /><svg width=\"100%\" x=\"0\" y=\"0em\"><defs /><text text-anchor=\"middle\" x=\"50%\" y=\"1em\">L</text></svg><svg width=\"100%\" x=\"0%\" y=\"3em\"><defs /><svg width=\"100%\" x=\"0\" y=\"0em\"><defs /><text text-anchor=\"middle\" x=\"50%\" y=\"1em\">A</text></svg></svg><line stroke=\"black\" x1=\"50%\" x2=\"50%\" y1=\"1.2em\" y2=\"3em\" /></svg><line stroke=\"black\" x1=\"50%\" x2=\"50%\" y1=\"1.2em\" y2=\"3em\" /></svg><line stroke=\"black\" x1=\"50%\" x2=\"75%\" y1=\"1.2em\" y2=\"3em\" /></svg><line stroke=\"black\" x1=\"50%\" x2=\"50%\" y1=\"1.2em\" y2=\"3em\" /><svg width=\"25%\" x=\"75%\" y=\"3em\"><defs /><svg width=\"100%\" x=\"0\" y=\"0em\"><defs /><text text-anchor=\"middle\" x=\"50%\" y=\"1em\">C</text></svg></svg><line stroke=\"black\" x1=\"50%\" x2=\"87.5%\" y1=\"1.2em\" y2=\"3em\" /></svg><line stroke=\"black\" x1=\"50%\" x2=\"50%\" y1=\"1.2em\" y2=\"3em\" /><svg width=\"16.6667%\" x=\"83.3333%\" y=\"3em\"><defs /><svg width=\"100%\" x=\"0\" y=\"0em\"><defs /><text text-anchor=\"middle\" x=\"50%\" y=\"1em\">C</text></svg></svg><line stroke=\"black\" x1=\"50%\" x2=\"91.6667%\" y1=\"1.2em\" y2=\"3em\" /></svg><line stroke=\"black\" x1=\"50%\" x2=\"20%\" y1=\"1.2em\" y2=\"3em\" /><svg width=\"60%\" x=\"40%\" y=\"3em\"><defs /><svg width=\"100%\" x=\"0\" y=\"0em\"><defs /><text text-anchor=\"middle\" x=\"50%\" y=\"1em\">S</text></svg><svg width=\"11.1111%\" x=\"0%\" y=\"3em\"><defs /><svg width=\"100%\" x=\"0\" y=\"0em\"><defs /><text text-anchor=\"middle\" x=\"50%\" y=\"1em\">L</text></svg><svg width=\"100%\" x=\"0%\" y=\"3em\"><defs /><svg width=\"100%\" x=\"0\" y=\"0em\"><defs /><text text-anchor=\"middle\" x=\"50%\" y=\"1em\">U</text></svg></svg><line stroke=\"black\" x1=\"50%\" x2=\"50%\" y1=\"1.2em\" y2=\"3em\" /></svg><line stroke=\"black\" x1=\"50%\" x2=\"5.55556%\" y1=\"1.2em\" y2=\"3em\" /><svg width=\"88.8889%\" x=\"11.1111%\" y=\"3em\"><defs /><svg width=\"100%\" x=\"0\" y=\"0em\"><defs /><text text-anchor=\"middle\" x=\"50%\" y=\"1em\">S</text></svg><svg width=\"12.5%\" x=\"0%\" y=\"3em\"><defs /><svg width=\"100%\" x=\"0\" y=\"0em\"><defs /><text text-anchor=\"middle\" x=\"50%\" y=\"1em\">L</text></svg><svg width=\"100%\" x=\"0%\" y=\"3em\"><defs /><svg width=\"100%\" x=\"0\" y=\"0em\"><defs /><text text-anchor=\"middle\" x=\"50%\" y=\"1em\">U</text></svg></svg><line stroke=\"black\" x1=\"50%\" x2=\"50%\" y1=\"1.2em\" y2=\"3em\" /></svg><line stroke=\"black\" x1=\"50%\" x2=\"6.25%\" y1=\"1.2em\" y2=\"3em\" /><svg width=\"87.5%\" x=\"12.5%\" y=\"3em\"><defs /><svg width=\"100%\" x=\"0\" y=\"0em\"><defs /><text text-anchor=\"middle\" x=\"50%\" y=\"1em\">S</text></svg><svg width=\"14.2857%\" x=\"0%\" y=\"3em\"><defs /><svg width=\"100%\" x=\"0\" y=\"0em\"><defs /><text text-anchor=\"middle\" x=\"50%\" y=\"1em\">L</text></svg><svg width=\"100%\" x=\"0%\" y=\"3em\"><defs /><svg width=\"100%\" x=\"0\" y=\"0em\"><defs /><text text-anchor=\"middle\" x=\"50%\" y=\"1em\">U</text></svg></svg><line stroke=\"black\" x1=\"50%\" x2=\"50%\" y1=\"1.2em\" y2=\"3em\" /></svg><line stroke=\"black\" x1=\"50%\" x2=\"7.14286%\" y1=\"1.2em\" y2=\"3em\" /><svg width=\"85.7143%\" x=\"14.2857%\" y=\"3em\"><defs /><svg width=\"100%\" x=\"0\" y=\"0em\"><defs /><text text-anchor=\"middle\" x=\"50%\" y=\"1em\">S</text></svg><svg width=\"100%\" x=\"0%\" y=\"3em\"><defs /><svg width=\"100%\" x=\"0\" y=\"0em\"><defs /><text text-anchor=\"middle\" x=\"50%\" y=\"1em\">L</text></svg><svg width=\"16.6667%\" x=\"0%\" y=\"3em\"><defs /><svg width=\"100%\" x=\"0\" y=\"0em\"><defs /><text text-anchor=\"middle\" x=\"50%\" y=\"1em\">G</text></svg></svg><line stroke=\"black\" x1=\"50%\" x2=\"8.33333%\" y1=\"1.2em\" y2=\"3em\" /><svg width=\"66.6667%\" x=\"16.6667%\" y=\"3em\"><defs /><svg width=\"100%\" x=\"0\" y=\"0em\"><defs /><text text-anchor=\"middle\" x=\"50%\" y=\"1em\">F</text></svg><svg width=\"25%\" x=\"0%\" y=\"3em\"><defs /><svg width=\"100%\" x=\"0\" y=\"0em\"><defs /><text text-anchor=\"middle\" x=\"50%\" y=\"1em\">G</text></svg></svg><line stroke=\"black\" x1=\"50%\" x2=\"12.5%\" y1=\"1.2em\" y2=\"3em\" /><svg width=\"50%\" x=\"25%\" y=\"3em\"><defs /><svg width=\"100%\" x=\"0\" y=\"0em\"><defs /><text text-anchor=\"middle\" x=\"50%\" y=\"1em\">F</text></svg><svg width=\"50%\" x=\"0%\" y=\"3em\"><defs /><svg width=\"100%\" x=\"0\" y=\"0em\"><defs /><text text-anchor=\"middle\" x=\"50%\" y=\"1em\">L</text></svg><svg width=\"100%\" x=\"0%\" y=\"3em\"><defs /><svg width=\"100%\" x=\"0\" y=\"0em\"><defs /><text text-anchor=\"middle\" x=\"50%\" y=\"1em\">A</text></svg></svg><line stroke=\"black\" x1=\"50%\" x2=\"50%\" y1=\"1.2em\" y2=\"3em\" /></svg><line stroke=\"black\" x1=\"50%\" x2=\"25%\" y1=\"1.2em\" y2=\"3em\" /><svg width=\"50%\" x=\"50%\" y=\"3em\"><defs /><svg width=\"100%\" x=\"0\" y=\"0em\"><defs /><text text-anchor=\"middle\" x=\"50%\" y=\"1em\">S</text></svg><svg width=\"100%\" x=\"0%\" y=\"3em\"><defs /><svg width=\"100%\" x=\"0\" y=\"0em\"><defs /><text text-anchor=\"middle\" x=\"50%\" y=\"1em\">L</text></svg><svg width=\"100%\" x=\"0%\" y=\"3em\"><defs /><svg width=\"100%\" x=\"0\" y=\"0em\"><defs /><text text-anchor=\"middle\" x=\"50%\" y=\"1em\">A</text></svg></svg><line stroke=\"black\" x1=\"50%\" x2=\"50%\" y1=\"1.2em\" y2=\"3em\" /></svg><line stroke=\"black\" x1=\"50%\" x2=\"50%\" y1=\"1.2em\" y2=\"3em\" /></svg><line stroke=\"black\" x1=\"50%\" x2=\"75%\" y1=\"1.2em\" y2=\"3em\" /></svg><line stroke=\"black\" x1=\"50%\" x2=\"50%\" y1=\"1.2em\" y2=\"3em\" /><svg width=\"25%\" x=\"75%\" y=\"3em\"><defs /><svg width=\"100%\" x=\"0\" y=\"0em\"><defs /><text text-anchor=\"middle\" x=\"50%\" y=\"1em\">C</text></svg></svg><line stroke=\"black\" x1=\"50%\" x2=\"87.5%\" y1=\"1.2em\" y2=\"3em\" /></svg><line stroke=\"black\" x1=\"50%\" x2=\"50%\" y1=\"1.2em\" y2=\"3em\" /><svg width=\"16.6667%\" x=\"83.3333%\" y=\"3em\"><defs /><svg width=\"100%\" x=\"0\" y=\"0em\"><defs /><text text-anchor=\"middle\" x=\"50%\" y=\"1em\">C</text></svg></svg><line stroke=\"black\" x1=\"50%\" x2=\"91.6667%\" y1=\"1.2em\" y2=\"3em\" /></svg><line stroke=\"black\" x1=\"50%\" x2=\"50%\" y1=\"1.2em\" y2=\"3em\" /></svg><line stroke=\"black\" x1=\"50%\" x2=\"57.1429%\" y1=\"1.2em\" y2=\"3em\" /></svg><line stroke=\"black\" x1=\"50%\" x2=\"56.25%\" y1=\"1.2em\" y2=\"3em\" /></svg><line stroke=\"black\" x1=\"50%\" x2=\"55.5556%\" y1=\"1.2em\" y2=\"3em\" /></svg><line stroke=\"black\" x1=\"50%\" x2=\"70%\" y1=\"1.2em\" y2=\"3em\" /></svg><line stroke=\"black\" x1=\"50%\" x2=\"53.125%\" y1=\"1.2em\" y2=\"3em\" /></svg><line stroke=\"black\" x1=\"50%\" x2=\"65.2174%\" y1=\"1.2em\" y2=\"3em\" /></svg><line stroke=\"black\" x1=\"50%\" x2=\"52.0833%\" y1=\"1.2em\" y2=\"3em\" /></svg><line stroke=\"black\" x1=\"50%\" x2=\"52%\" y1=\"1.2em\" y2=\"3em\" /></svg><line stroke=\"black\" x1=\"50%\" x2=\"50%\" y1=\"1.2em\" y2=\"3em\" /><svg width=\"3.7037%\" x=\"96.2963%\" y=\"3em\"><defs /><svg width=\"100%\" x=\"0\" y=\"0em\"><defs /><text text-anchor=\"middle\" x=\"50%\" y=\"1em\">A</text></svg></svg><line stroke=\"black\" x1=\"50%\" x2=\"98.1481%\" y1=\"1.2em\" y2=\"3em\" /></svg><line stroke=\"black\" x1=\"50%\" x2=\"50%\" y1=\"1.2em\" y2=\"3em\" /><svg width=\"3.44828%\" x=\"96.5517%\" y=\"3em\"><defs /><svg width=\"100%\" x=\"0\" y=\"0em\"><defs /><text text-anchor=\"middle\" x=\"50%\" y=\"1em\">U</text></svg></svg><line stroke=\"black\" x1=\"50%\" x2=\"98.2759%\" y1=\"1.2em\" y2=\"3em\" /></svg><line stroke=\"black\" x1=\"50%\" x2=\"48.3333%\" y1=\"1.2em\" y2=\"3em\" /><svg width=\"3.33333%\" x=\"96.6667%\" y=\"3em\"><defs /><svg width=\"100%\" x=\"0\" y=\"0em\"><defs /><text text-anchor=\"middle\" x=\"50%\" y=\"1em\">S</text></svg><svg width=\"100%\" x=\"0%\" y=\"3em\"><defs /><svg width=\"100%\" x=\"0\" y=\"0em\"><defs /><text text-anchor=\"middle\" x=\"50%\" y=\"1em\">L</text></svg><svg width=\"100%\" x=\"0%\" y=\"3em\"><defs /><svg width=\"100%\" x=\"0\" y=\"0em\"><defs /><text text-anchor=\"middle\" x=\"50%\" y=\"1em\">G</text></svg></svg><line stroke=\"black\" x1=\"50%\" x2=\"50%\" y1=\"1.2em\" y2=\"3em\" /></svg><line stroke=\"black\" x1=\"50%\" x2=\"50%\" y1=\"1.2em\" y2=\"3em\" /></svg><line stroke=\"black\" x1=\"50%\" x2=\"98.3333%\" y1=\"1.2em\" y2=\"3em\" /></svg>"
      ],
      "text/plain": [
       "<__main__.KH99 at 0x17113db4d00>"
      ]
     },
     "execution_count": 26,
     "metadata": {},
     "output_type": "execute_result"
    }
   ],
   "source": [
    "# Enkapsulacija RNK gramatikom KH-99\n",
    "KH99(sekvenca, struktura)"
   ]
  },
  {
   "cell_type": "markdown",
   "id": "5c428f67",
   "metadata": {},
   "source": [
    "## 5. Model kovarijacije [⮭]<a id=\"par:kovar\"></a>\n",
    "\n",
    "[⮭]: #par:toc"
   ]
  },
  {
   "cell_type": "markdown",
   "id": "e3b287bf",
   "metadata": {},
   "source": [
    "Posebnu primenu u modelovanju familija *RNK* i njihove strukture imaju [modeli kovarijacije](https://pubmed.ncbi.nlm.nih.gov/8029015/) (*CM*). Reč je o gramatikama čija pravila izvođenja podrazumevaju postojanje dobro očuvanog skeleta strukture u familiji koja se modeluje. Ovakva pravila, očekivano, nose sa sobom najviše konteksta. Najpoznatija baza kovarijacionih modela sa pridruženim višestrukim poravnanjima, saglasnim strukturama i mnogim metodama analize i vizuelizacije jeste [Rfam](https://rfam.xfam.org/). Sadrži, naravno, i podatke o [*tRNK*](https://rfam.xfam.org/family/RF00005). Dodatan aktuelni resurs za rad i pretragu baza podataka pomoću kovarijansnih modela *tRNK* jeste [*tRNAscan-SE 2.0*](http://lowelab.ucsc.edu/tRNAscan-SE/)."
   ]
  },
  {
   "cell_type": "markdown",
   "id": "e9a8a8db",
   "metadata": {},
   "source": [
    "<img src='../slike/R-chie.png' width='60%'>"
   ]
  },
  {
   "cell_type": "markdown",
   "id": "5b06bd59",
   "metadata": {},
   "source": [
    "<img src='../slike/tRNAdb.png' width='62%'>"
   ]
  },
  {
   "cell_type": "markdown",
   "id": "f059b726",
   "metadata": {},
   "source": [
    "Već je pomenuto da je sekundarna struktura transportnih *RNK* karakteristična po tome što ima oblik [deteline sa tri lista](https://en.wikipedia.org/wiki/Cloverleaf_model_of_tRNA). Postoje, dakle, tačno tri važne petlje (redom $D$, $Ac$, $T$), tačno četiri zavojnice (redom $Acc$, $D$, $Ac$, $T$) i još neki dodatni elementi ($V$ petlja, $CCA$ rep). Štaviše, mnogi od ovih elemenata su fiksne dužine (npr. $Acc$ drška ima šest ili sedam parova), pa čak i sadržaja (npr. $CCA$ rep, ukoliko postoji), što *tRNK* čini posebno pogodnom za konstrukciju *CM*."
   ]
  },
  {
   "cell_type": "markdown",
   "id": "5854676a",
   "metadata": {},
   "source": [
    "$$ \\large G → s \\scriptsize\\text{ (glava je tačno jedan nukleotid) } $$\n",
    "$$ \\large R → Gcca \\scriptsize\\text{ (glava i $CCA$ rep) } \\large| G \\scriptsize\\text{ (samo glava) } $$\n",
    "$$ \\large S → GZ^SR \\scriptsize\\text{ (glava, zavojnica i rep) } \\large| Z^SR \\scriptsize\\text{ (zavojnica i rep) } $$\n",
    "$$ \\large Z^S → dZ^Sd \\scriptsize\\text{ (uparivanje) } \\large| GZ^SG \\scriptsize\\text{ (promašaj) } \\large| GGZ^UZ^ULZ^U \\scriptsize\\text{ (unutrašnjost) } $$\n",
    "$$ \\large Z^U → dZ^Ud \\scriptsize\\text{ (uparivanje) } \\large| GZ^UG \\scriptsize\\text{ (promašaj) } \\large| L \\scriptsize\\text{ (unutrašnjost) } $$\n",
    "$$ \\large L → GL \\scriptsize\\text{ (nizanje baza) } \\large| GG \\scriptsize\\text{ (dve baze) } $$"
   ]
  },
  {
   "cell_type": "markdown",
   "id": "ad6aab19",
   "metadata": {},
   "source": [
    "Ovakva gramatika nije pravi kovarijacioni model po definiciji, ali ipak prilično precizno oslikava strukturu transportne *RNK*. Prednost joj je što za obučavanje ne zahteva poznavanje višestrukog poravnanja trening skupa, mada je kao posledica toga nešto manje uspešna. Jednoznačna je za poznatu strukturu, uz napomenu da zahteva poznavanje cele sekvence u svakom trenutku. Minimalna dužina petlje je dva, sa izvođenjem $Z^U → L → GG → sG → ss$."
   ]
  },
  {
   "cell_type": "code",
   "execution_count": 27,
   "id": "e677abf7",
   "metadata": {},
   "outputs": [],
   "source": [
    "# Model kovarijacije tRNK\n",
    "class CM(Struktura2D):\n",
    "    def __init__(self, sekvenca, struktura):\n",
    "        super().__init__(sekvenca, struktura)\n",
    "    \n",
    "    # Obrada startnog neterminala S[i:j]\n",
    "    def S(self, i, j):\n",
    "        # Broj najdešnjih neuparenih baza\n",
    "        n = j - self.struktura.rfind(')')\n",
    "        \n",
    "        # Određivanje granice zavojnice i repa\n",
    "        k = j - n + int(n == 2 or n == 5)\n",
    "        \n",
    "        # Broj najlevljih neuparenih baza\n",
    "        m = self.struktura.find('(')\n",
    "        \n",
    "        # Ako je višak neuparenih jednak sa obe strane, nema\n",
    "        # glave, pa je izvođenje S[i:j] → Z^S[i:k] R[k+1:j]\n",
    "        if m == int(n == 2 or n == 5):\n",
    "            return Tree('S', [self.ZS(i, k), self.R(k+1, j)])\n",
    "        # U suprotnom postoji glava, strogo jednočlana, pa je\n",
    "        # izvođenje tipa S[i:j] → G[i:i] Z^S[i+1:k] R[k+1:j]\n",
    "        else:\n",
    "            return Tree('S', [self.G(i, i), self.ZS(i+1, k), self.R(k+1, j)])\n",
    "    \n",
    "    # Obrada neterminala glave G[i:j]\n",
    "    def G(self, i, j):\n",
    "        # Najlevlji (tekući) ribonukleotid\n",
    "        rn_i = self.sekvenca[i]\n",
    "        \n",
    "        # Izvođenje je uvek tipa G[i:j] → s\n",
    "        return Tree('G', [rn_i])\n",
    "    \n",
    "    # Obrada neterminala repa R[i:j]\n",
    "    def R(self, i, j):\n",
    "        # Jedan karakter mora biti glava,\n",
    "        # pa je izvođenje R[i:j] → G[i:j]\n",
    "        if i == j:\n",
    "            return Tree('R', [self.G(i, j)])\n",
    "        \n",
    "        # U suprotnom je CCA rep, pa je izvođenje\n",
    "        # tipa R[i:j] → G[i:i] 'C' 'C' 'A'\n",
    "        return Tree('R', [self.G(i, i), 'C', 'C', 'A'])\n",
    "    \n",
    "    # Određivanje kraja zavojnice\n",
    "    def zavojnica(self, i, j):\n",
    "        # Prolazak kroz sve indekse\n",
    "        for l in range(i, j):\n",
    "            # Odabir prvog uparivanja\n",
    "            if self.struktura[l] == '(':\n",
    "                k = self.uparivanje[l]\n",
    "                \n",
    "                # Dodavanje broja neuparenih\n",
    "                return k + l - i\n",
    "    \n",
    "    # Obrada neterminala spoljašnje\n",
    "    # zavojnice (drške) Z^S[i:j]\n",
    "    def ZS(self, i, j):\n",
    "        # Zavojnica se potencijalno nastavlja\n",
    "        if self.struktura[i] == '(':\n",
    "            # Granični (tekući) ribonukleotidi\n",
    "            rn_i = self.sekvenca[i]\n",
    "            rn_j = self.sekvenca[j]\n",
    "            \n",
    "            # Izvođenje je Z^S[i:j] → d Z^S[i+1:j-1] d\n",
    "            return Tree('Z^S', [rn_i, self.ZS(i+1, j-1), rn_j])\n",
    "        \n",
    "        # Zavojnica potencijalno ima prekid, pa je izvođenje\n",
    "        # tipa Z^S[i:j] → G[i:i] Z^S[i+1:j-1] G[j:j]\n",
    "        if self.struktura[i+1] == '(':\n",
    "            return Tree('Z^S', [self.G(i, i), self.ZS(i+1, j-1), self.G(j, j)])\n",
    "        \n",
    "        # U suprotom se stiglo do unutrašnjosti, koja ima složeno izvođenje tipa\n",
    "        # Z^S[i:j] → G[i:i] G[i+1:i+1] Z^U[i+2:k] Z^U[k+1:l] L[l+1:m-1] Z^U[m:j]\n",
    "        \n",
    "        # Određivanje slobodnih baza\n",
    "        g1 = self.G(i, i)\n",
    "        g2 = self.G(i+1, i+1)\n",
    "        \n",
    "        # Određivanje prve zavojnice\n",
    "        k = self.zavojnica(i+2, j)\n",
    "        z1 = self.ZU(i+2, k)\n",
    "        \n",
    "        # Određivanje druge zavojnice\n",
    "        l = self.zavojnica(k+1, j)\n",
    "        z2 = self.ZU(k+1, l)\n",
    "        \n",
    "        # Određivanje početka treće zavojnice\n",
    "        for m in range(l+2, j):\n",
    "            if self.struktura[m] == '(':\n",
    "                break\n",
    "        \n",
    "        # Pomeranje početka ako ima neuparenih\n",
    "        m -= j - self.uparivanje[m]\n",
    "        \n",
    "        # Određivanje treće zavojnice\n",
    "        z3 = self.ZU(m, j)\n",
    "        \n",
    "        # Određivanje varijabilne petlje\n",
    "        l = self.L(l+1, m-1)\n",
    "        \n",
    "        # Primena izvođenja unutrašnjosti, ali u prilagođenoj binarnoj formi:\n",
    "        # Z^S[i:j] → G[i:i] Z^S1[i+1:j], Z^S1[i+1:j] → G[i+1:i+1] Z^S2[i+2:j],\n",
    "        # Z^S2[i+2:j] → Z^U[i+2:k] Z^S3[k+1:j], Z^S3[k+1:j] → Z^U[k+1:l] Z^S4[l+1:j],\n",
    "        # Z^S4[l+1:j] → L[l+1:m-1] Z^U[m:j], koja je neophodna zbog algoritma\n",
    "        return Tree('Z^S', [g1, Tree('Z^S1', [g2, Tree('Z^S2', [z1,\n",
    "                    Tree('Z^S3', [z2, Tree('Z^S4', [l, z3])])])])])\n",
    "    \n",
    "    # Obrada neterminala unutrašnjih\n",
    "    # zavojnica (drški) Z^U[i:j]\n",
    "    def ZU(self, i, j):\n",
    "        # Zavojnica se potencijalno nastavlja\n",
    "        if self.struktura[i] == '(':\n",
    "            # Granični (tekući) ribonukleotidi\n",
    "            rn_i = self.sekvenca[i]\n",
    "            rn_j = self.sekvenca[j]\n",
    "            \n",
    "            # Izvođenje je Z^U[i:j] → d Z^U[i+1:j-1] d\n",
    "            return Tree('Z^U', [rn_i, self.ZU(i+1, j-1), rn_j])\n",
    "        \n",
    "        # Zavojnica potencijalno ima prekid, pa je izvođenje\n",
    "        # tipa Z^U[i:j] → G[i:i] Z^U[i+1:j-1] G[j:j]\n",
    "        if self.struktura[i+1] == '(':\n",
    "            return Tree('Z^U', [self.G(i, i), self.ZU(i+1, j-1), self.G(j, j)])\n",
    "        \n",
    "        # U suprotnom se stiglo do petlje, pa\n",
    "        # je izvođenje tipa Z^U[i:j] → L[i:j]\n",
    "        return Tree('Z^U', [self.L(i, j)])\n",
    "    \n",
    "    # Obrada neterminala petlje L[i:j]\n",
    "    def L(self, i, j):\n",
    "        # Dva karaktera moraju biti bazni slučaj,\n",
    "        # pa je izvođenje L[i:j] → G[i:i] G[j:j]\n",
    "        if i + 1 == j:\n",
    "            return Tree('L', [self.G(i, i), self.G(j, j)])\n",
    "        \n",
    "        # U suprotno se baze nižu, tako da je\n",
    "        # izvođenje tipa L[i:j] → G[i:i] L[i+1:j]\n",
    "        return Tree('L', [self.G(i, i), self.L(i+1, j)])"
   ]
  },
  {
   "cell_type": "code",
   "execution_count": 28,
   "id": "246cc7a8",
   "metadata": {},
   "outputs": [
    {
     "data": {
      "image/svg+xml": [
       "<svg baseProfile=\"full\" height=\"648px\" preserveAspectRatio=\"xMidYMid meet\" style=\"font-family: times, serif; font-weight:normal; font-style: normal; font-size: 16px;\" version=\"1.1\" viewBox=\"0,0,720.0,648.0\" width=\"720px\" xmlns=\"http://www.w3.org/2000/svg\" xmlns:ev=\"http://www.w3.org/2001/xml-events\" xmlns:xlink=\"http://www.w3.org/1999/xlink\"><defs /><svg width=\"100%\" x=\"0\" y=\"0em\"><defs /><text text-anchor=\"middle\" x=\"50%\" y=\"1em\">S</text></svg><svg width=\"96.6667%\" x=\"0%\" y=\"3em\"><defs /><svg width=\"100%\" x=\"0\" y=\"0em\"><defs /><text text-anchor=\"middle\" x=\"50%\" y=\"1em\">Z^S</text></svg><svg width=\"3.44828%\" x=\"0%\" y=\"3em\"><defs /><svg width=\"100%\" x=\"0\" y=\"0em\"><defs /><text text-anchor=\"middle\" x=\"50%\" y=\"1em\">G</text></svg></svg><line stroke=\"black\" x1=\"50%\" x2=\"1.72414%\" y1=\"1.2em\" y2=\"3em\" /><svg width=\"93.1034%\" x=\"3.44828%\" y=\"3em\"><defs /><svg width=\"100%\" x=\"0\" y=\"0em\"><defs /><text text-anchor=\"middle\" x=\"50%\" y=\"1em\">Z^S</text></svg><svg width=\"3.7037%\" x=\"0%\" y=\"3em\"><defs /><svg width=\"100%\" x=\"0\" y=\"0em\"><defs /><text text-anchor=\"middle\" x=\"50%\" y=\"1em\">U</text></svg></svg><line stroke=\"black\" x1=\"50%\" x2=\"1.85185%\" y1=\"1.2em\" y2=\"3em\" /><svg width=\"92.5926%\" x=\"3.7037%\" y=\"3em\"><defs /><svg width=\"100%\" x=\"0\" y=\"0em\"><defs /><text text-anchor=\"middle\" x=\"50%\" y=\"1em\">Z^S</text></svg><svg width=\"4%\" x=\"0%\" y=\"3em\"><defs /><svg width=\"100%\" x=\"0\" y=\"0em\"><defs /><text text-anchor=\"middle\" x=\"50%\" y=\"1em\">G</text></svg><svg width=\"100%\" x=\"0%\" y=\"3em\"><defs /><svg width=\"100%\" x=\"0\" y=\"0em\"><defs /><text text-anchor=\"middle\" x=\"50%\" y=\"1em\">U</text></svg></svg><line stroke=\"black\" x1=\"50%\" x2=\"50%\" y1=\"1.2em\" y2=\"3em\" /></svg><line stroke=\"black\" x1=\"50%\" x2=\"2%\" y1=\"1.2em\" y2=\"3em\" /><svg width=\"96%\" x=\"4%\" y=\"3em\"><defs /><svg width=\"100%\" x=\"0\" y=\"0em\"><defs /><text text-anchor=\"middle\" x=\"50%\" y=\"1em\">Z^S1</text></svg><svg width=\"4.16667%\" x=\"0%\" y=\"3em\"><defs /><svg width=\"100%\" x=\"0\" y=\"0em\"><defs /><text text-anchor=\"middle\" x=\"50%\" y=\"1em\">G</text></svg><svg width=\"100%\" x=\"0%\" y=\"3em\"><defs /><svg width=\"100%\" x=\"0\" y=\"0em\"><defs /><text text-anchor=\"middle\" x=\"50%\" y=\"1em\">A</text></svg></svg><line stroke=\"black\" x1=\"50%\" x2=\"50%\" y1=\"1.2em\" y2=\"3em\" /></svg><line stroke=\"black\" x1=\"50%\" x2=\"2.08333%\" y1=\"1.2em\" y2=\"3em\" /><svg width=\"95.8333%\" x=\"4.16667%\" y=\"3em\"><defs /><svg width=\"100%\" x=\"0\" y=\"0em\"><defs /><text text-anchor=\"middle\" x=\"50%\" y=\"1em\">Z^S2</text></svg><svg width=\"30.4348%\" x=\"0%\" y=\"3em\"><defs /><svg width=\"100%\" x=\"0\" y=\"0em\"><defs /><text text-anchor=\"middle\" x=\"50%\" y=\"1em\">Z^U</text></svg><svg width=\"14.2857%\" x=\"0%\" y=\"3em\"><defs /><svg width=\"100%\" x=\"0\" y=\"0em\"><defs /><text text-anchor=\"middle\" x=\"50%\" y=\"1em\">G</text></svg></svg><line stroke=\"black\" x1=\"50%\" x2=\"7.14286%\" y1=\"1.2em\" y2=\"3em\" /><svg width=\"71.4286%\" x=\"14.2857%\" y=\"3em\"><defs /><svg width=\"100%\" x=\"0\" y=\"0em\"><defs /><text text-anchor=\"middle\" x=\"50%\" y=\"1em\">Z^U</text></svg><svg width=\"20%\" x=\"0%\" y=\"3em\"><defs /><svg width=\"100%\" x=\"0\" y=\"0em\"><defs /><text text-anchor=\"middle\" x=\"50%\" y=\"1em\">C</text></svg></svg><line stroke=\"black\" x1=\"50%\" x2=\"10%\" y1=\"1.2em\" y2=\"3em\" /><svg width=\"60%\" x=\"20%\" y=\"3em\"><defs /><svg width=\"100%\" x=\"0\" y=\"0em\"><defs /><text text-anchor=\"middle\" x=\"50%\" y=\"1em\">Z^U</text></svg><svg width=\"100%\" x=\"0%\" y=\"3em\"><defs /><svg width=\"100%\" x=\"0\" y=\"0em\"><defs /><text text-anchor=\"middle\" x=\"50%\" y=\"1em\">L</text></svg><svg width=\"33.3333%\" x=\"0%\" y=\"3em\"><defs /><svg width=\"100%\" x=\"0\" y=\"0em\"><defs /><text text-anchor=\"middle\" x=\"50%\" y=\"1em\">G</text></svg><svg width=\"100%\" x=\"0%\" y=\"3em\"><defs /><svg width=\"100%\" x=\"0\" y=\"0em\"><defs /><text text-anchor=\"middle\" x=\"50%\" y=\"1em\">A</text></svg></svg><line stroke=\"black\" x1=\"50%\" x2=\"50%\" y1=\"1.2em\" y2=\"3em\" /></svg><line stroke=\"black\" x1=\"50%\" x2=\"16.6667%\" y1=\"1.2em\" y2=\"3em\" /><svg width=\"66.6667%\" x=\"33.3333%\" y=\"3em\"><defs /><svg width=\"100%\" x=\"0\" y=\"0em\"><defs /><text text-anchor=\"middle\" x=\"50%\" y=\"1em\">L</text></svg><svg width=\"50%\" x=\"0%\" y=\"3em\"><defs /><svg width=\"100%\" x=\"0\" y=\"0em\"><defs /><text text-anchor=\"middle\" x=\"50%\" y=\"1em\">G</text></svg><svg width=\"100%\" x=\"0%\" y=\"3em\"><defs /><svg width=\"100%\" x=\"0\" y=\"0em\"><defs /><text text-anchor=\"middle\" x=\"50%\" y=\"1em\">U</text></svg></svg><line stroke=\"black\" x1=\"50%\" x2=\"50%\" y1=\"1.2em\" y2=\"3em\" /></svg><line stroke=\"black\" x1=\"50%\" x2=\"25%\" y1=\"1.2em\" y2=\"3em\" /><svg width=\"50%\" x=\"50%\" y=\"3em\"><defs /><svg width=\"100%\" x=\"0\" y=\"0em\"><defs /><text text-anchor=\"middle\" x=\"50%\" y=\"1em\">G</text></svg><svg width=\"100%\" x=\"0%\" y=\"3em\"><defs /><svg width=\"100%\" x=\"0\" y=\"0em\"><defs /><text text-anchor=\"middle\" x=\"50%\" y=\"1em\">C</text></svg></svg><line stroke=\"black\" x1=\"50%\" x2=\"50%\" y1=\"1.2em\" y2=\"3em\" /></svg><line stroke=\"black\" x1=\"50%\" x2=\"75%\" y1=\"1.2em\" y2=\"3em\" /></svg><line stroke=\"black\" x1=\"50%\" x2=\"66.6667%\" y1=\"1.2em\" y2=\"3em\" /></svg><line stroke=\"black\" x1=\"50%\" x2=\"50%\" y1=\"1.2em\" y2=\"3em\" /></svg><line stroke=\"black\" x1=\"50%\" x2=\"50%\" y1=\"1.2em\" y2=\"3em\" /><svg width=\"20%\" x=\"80%\" y=\"3em\"><defs /><svg width=\"100%\" x=\"0\" y=\"0em\"><defs /><text text-anchor=\"middle\" x=\"50%\" y=\"1em\">G</text></svg></svg><line stroke=\"black\" x1=\"50%\" x2=\"90%\" y1=\"1.2em\" y2=\"3em\" /></svg><line stroke=\"black\" x1=\"50%\" x2=\"50%\" y1=\"1.2em\" y2=\"3em\" /><svg width=\"14.2857%\" x=\"85.7143%\" y=\"3em\"><defs /><svg width=\"100%\" x=\"0\" y=\"0em\"><defs /><text text-anchor=\"middle\" x=\"50%\" y=\"1em\">C</text></svg></svg><line stroke=\"black\" x1=\"50%\" x2=\"92.8571%\" y1=\"1.2em\" y2=\"3em\" /></svg><line stroke=\"black\" x1=\"50%\" x2=\"15.2174%\" y1=\"1.2em\" y2=\"3em\" /><svg width=\"69.5652%\" x=\"30.4348%\" y=\"3em\"><defs /><svg width=\"100%\" x=\"0\" y=\"0em\"><defs /><text text-anchor=\"middle\" x=\"50%\" y=\"1em\">Z^S3</text></svg><svg width=\"50%\" x=\"0%\" y=\"3em\"><defs /><svg width=\"100%\" x=\"0\" y=\"0em\"><defs /><text text-anchor=\"middle\" x=\"50%\" y=\"1em\">Z^U</text></svg><svg width=\"12.5%\" x=\"0%\" y=\"3em\"><defs /><svg width=\"100%\" x=\"0\" y=\"0em\"><defs /><text text-anchor=\"middle\" x=\"50%\" y=\"1em\">G</text></svg><svg width=\"100%\" x=\"0%\" y=\"3em\"><defs /><svg width=\"100%\" x=\"0\" y=\"0em\"><defs /><text text-anchor=\"middle\" x=\"50%\" y=\"1em\">G</text></svg></svg><line stroke=\"black\" x1=\"50%\" x2=\"50%\" y1=\"1.2em\" y2=\"3em\" /></svg><line stroke=\"black\" x1=\"50%\" x2=\"6.25%\" y1=\"1.2em\" y2=\"3em\" /><svg width=\"75%\" x=\"12.5%\" y=\"3em\"><defs /><svg width=\"100%\" x=\"0\" y=\"0em\"><defs /><text text-anchor=\"middle\" x=\"50%\" y=\"1em\">Z^U</text></svg><svg width=\"16.6667%\" x=\"0%\" y=\"3em\"><defs /><svg width=\"100%\" x=\"0\" y=\"0em\"><defs /><text text-anchor=\"middle\" x=\"50%\" y=\"1em\">G</text></svg></svg><line stroke=\"black\" x1=\"50%\" x2=\"8.33333%\" y1=\"1.2em\" y2=\"3em\" /><svg width=\"66.6667%\" x=\"16.6667%\" y=\"3em\"><defs /><svg width=\"100%\" x=\"0\" y=\"0em\"><defs /><text text-anchor=\"middle\" x=\"50%\" y=\"1em\">Z^U</text></svg><svg width=\"25%\" x=\"0%\" y=\"3em\"><defs /><svg width=\"100%\" x=\"0\" y=\"0em\"><defs /><text text-anchor=\"middle\" x=\"50%\" y=\"1em\">G</text></svg></svg><line stroke=\"black\" x1=\"50%\" x2=\"12.5%\" y1=\"1.2em\" y2=\"3em\" /><svg width=\"50%\" x=\"25%\" y=\"3em\"><defs /><svg width=\"100%\" x=\"0\" y=\"0em\"><defs /><text text-anchor=\"middle\" x=\"50%\" y=\"1em\">Z^U</text></svg><svg width=\"100%\" x=\"0%\" y=\"3em\"><defs /><svg width=\"100%\" x=\"0\" y=\"0em\"><defs /><text text-anchor=\"middle\" x=\"50%\" y=\"1em\">L</text></svg><svg width=\"50%\" x=\"0%\" y=\"3em\"><defs /><svg width=\"100%\" x=\"0\" y=\"0em\"><defs /><text text-anchor=\"middle\" x=\"50%\" y=\"1em\">G</text></svg><svg width=\"100%\" x=\"0%\" y=\"3em\"><defs /><svg width=\"100%\" x=\"0\" y=\"0em\"><defs /><text text-anchor=\"middle\" x=\"50%\" y=\"1em\">A</text></svg></svg><line stroke=\"black\" x1=\"50%\" x2=\"50%\" y1=\"1.2em\" y2=\"3em\" /></svg><line stroke=\"black\" x1=\"50%\" x2=\"25%\" y1=\"1.2em\" y2=\"3em\" /><svg width=\"50%\" x=\"50%\" y=\"3em\"><defs /><svg width=\"100%\" x=\"0\" y=\"0em\"><defs /><text text-anchor=\"middle\" x=\"50%\" y=\"1em\">G</text></svg><svg width=\"100%\" x=\"0%\" y=\"3em\"><defs /><svg width=\"100%\" x=\"0\" y=\"0em\"><defs /><text text-anchor=\"middle\" x=\"50%\" y=\"1em\">A</text></svg></svg><line stroke=\"black\" x1=\"50%\" x2=\"50%\" y1=\"1.2em\" y2=\"3em\" /></svg><line stroke=\"black\" x1=\"50%\" x2=\"75%\" y1=\"1.2em\" y2=\"3em\" /></svg><line stroke=\"black\" x1=\"50%\" x2=\"50%\" y1=\"1.2em\" y2=\"3em\" /></svg><line stroke=\"black\" x1=\"50%\" x2=\"50%\" y1=\"1.2em\" y2=\"3em\" /><svg width=\"25%\" x=\"75%\" y=\"3em\"><defs /><svg width=\"100%\" x=\"0\" y=\"0em\"><defs /><text text-anchor=\"middle\" x=\"50%\" y=\"1em\">C</text></svg></svg><line stroke=\"black\" x1=\"50%\" x2=\"87.5%\" y1=\"1.2em\" y2=\"3em\" /></svg><line stroke=\"black\" x1=\"50%\" x2=\"50%\" y1=\"1.2em\" y2=\"3em\" /><svg width=\"16.6667%\" x=\"83.3333%\" y=\"3em\"><defs /><svg width=\"100%\" x=\"0\" y=\"0em\"><defs /><text text-anchor=\"middle\" x=\"50%\" y=\"1em\">C</text></svg></svg><line stroke=\"black\" x1=\"50%\" x2=\"91.6667%\" y1=\"1.2em\" y2=\"3em\" /></svg><line stroke=\"black\" x1=\"50%\" x2=\"50%\" y1=\"1.2em\" y2=\"3em\" /><svg width=\"12.5%\" x=\"87.5%\" y=\"3em\"><defs /><svg width=\"100%\" x=\"0\" y=\"0em\"><defs /><text text-anchor=\"middle\" x=\"50%\" y=\"1em\">G</text></svg><svg width=\"100%\" x=\"0%\" y=\"3em\"><defs /><svg width=\"100%\" x=\"0\" y=\"0em\"><defs /><text text-anchor=\"middle\" x=\"50%\" y=\"1em\">U</text></svg></svg><line stroke=\"black\" x1=\"50%\" x2=\"50%\" y1=\"1.2em\" y2=\"3em\" /></svg><line stroke=\"black\" x1=\"50%\" x2=\"93.75%\" y1=\"1.2em\" y2=\"3em\" /></svg><line stroke=\"black\" x1=\"50%\" x2=\"25%\" y1=\"1.2em\" y2=\"3em\" /><svg width=\"50%\" x=\"50%\" y=\"3em\"><defs /><svg width=\"100%\" x=\"0\" y=\"0em\"><defs /><text text-anchor=\"middle\" x=\"50%\" y=\"1em\">Z^S4</text></svg><svg width=\"25%\" x=\"0%\" y=\"3em\"><defs /><svg width=\"100%\" x=\"0\" y=\"0em\"><defs /><text text-anchor=\"middle\" x=\"50%\" y=\"1em\">L</text></svg><svg width=\"50%\" x=\"0%\" y=\"3em\"><defs /><svg width=\"100%\" x=\"0\" y=\"0em\"><defs /><text text-anchor=\"middle\" x=\"50%\" y=\"1em\">G</text></svg><svg width=\"100%\" x=\"0%\" y=\"3em\"><defs /><svg width=\"100%\" x=\"0\" y=\"0em\"><defs /><text text-anchor=\"middle\" x=\"50%\" y=\"1em\">U</text></svg></svg><line stroke=\"black\" x1=\"50%\" x2=\"50%\" y1=\"1.2em\" y2=\"3em\" /></svg><line stroke=\"black\" x1=\"50%\" x2=\"25%\" y1=\"1.2em\" y2=\"3em\" /><svg width=\"50%\" x=\"50%\" y=\"3em\"><defs /><svg width=\"100%\" x=\"0\" y=\"0em\"><defs /><text text-anchor=\"middle\" x=\"50%\" y=\"1em\">G</text></svg><svg width=\"100%\" x=\"0%\" y=\"3em\"><defs /><svg width=\"100%\" x=\"0\" y=\"0em\"><defs /><text text-anchor=\"middle\" x=\"50%\" y=\"1em\">U</text></svg></svg><line stroke=\"black\" x1=\"50%\" x2=\"50%\" y1=\"1.2em\" y2=\"3em\" /></svg><line stroke=\"black\" x1=\"50%\" x2=\"75%\" y1=\"1.2em\" y2=\"3em\" /></svg><line stroke=\"black\" x1=\"50%\" x2=\"12.5%\" y1=\"1.2em\" y2=\"3em\" /><svg width=\"75%\" x=\"25%\" y=\"3em\"><defs /><svg width=\"100%\" x=\"0\" y=\"0em\"><defs /><text text-anchor=\"middle\" x=\"50%\" y=\"1em\">Z^U</text></svg><svg width=\"16.6667%\" x=\"0%\" y=\"3em\"><defs /><svg width=\"100%\" x=\"0\" y=\"0em\"><defs /><text text-anchor=\"middle\" x=\"50%\" y=\"1em\">G</text></svg></svg><line stroke=\"black\" x1=\"50%\" x2=\"8.33333%\" y1=\"1.2em\" y2=\"3em\" /><svg width=\"66.6667%\" x=\"16.6667%\" y=\"3em\"><defs /><svg width=\"100%\" x=\"0\" y=\"0em\"><defs /><text text-anchor=\"middle\" x=\"50%\" y=\"1em\">Z^U</text></svg><svg width=\"25%\" x=\"0%\" y=\"3em\"><defs /><svg width=\"100%\" x=\"0\" y=\"0em\"><defs /><text text-anchor=\"middle\" x=\"50%\" y=\"1em\">G</text></svg></svg><line stroke=\"black\" x1=\"50%\" x2=\"12.5%\" y1=\"1.2em\" y2=\"3em\" /><svg width=\"50%\" x=\"25%\" y=\"3em\"><defs /><svg width=\"100%\" x=\"0\" y=\"0em\"><defs /><text text-anchor=\"middle\" x=\"50%\" y=\"1em\">Z^U</text></svg><svg width=\"100%\" x=\"0%\" y=\"3em\"><defs /><svg width=\"100%\" x=\"0\" y=\"0em\"><defs /><text text-anchor=\"middle\" x=\"50%\" y=\"1em\">L</text></svg><svg width=\"50%\" x=\"0%\" y=\"3em\"><defs /><svg width=\"100%\" x=\"0\" y=\"0em\"><defs /><text text-anchor=\"middle\" x=\"50%\" y=\"1em\">G</text></svg><svg width=\"100%\" x=\"0%\" y=\"3em\"><defs /><svg width=\"100%\" x=\"0\" y=\"0em\"><defs /><text text-anchor=\"middle\" x=\"50%\" y=\"1em\">A</text></svg></svg><line stroke=\"black\" x1=\"50%\" x2=\"50%\" y1=\"1.2em\" y2=\"3em\" /></svg><line stroke=\"black\" x1=\"50%\" x2=\"25%\" y1=\"1.2em\" y2=\"3em\" /><svg width=\"50%\" x=\"50%\" y=\"3em\"><defs /><svg width=\"100%\" x=\"0\" y=\"0em\"><defs /><text text-anchor=\"middle\" x=\"50%\" y=\"1em\">G</text></svg><svg width=\"100%\" x=\"0%\" y=\"3em\"><defs /><svg width=\"100%\" x=\"0\" y=\"0em\"><defs /><text text-anchor=\"middle\" x=\"50%\" y=\"1em\">A</text></svg></svg><line stroke=\"black\" x1=\"50%\" x2=\"50%\" y1=\"1.2em\" y2=\"3em\" /></svg><line stroke=\"black\" x1=\"50%\" x2=\"75%\" y1=\"1.2em\" y2=\"3em\" /></svg><line stroke=\"black\" x1=\"50%\" x2=\"50%\" y1=\"1.2em\" y2=\"3em\" /></svg><line stroke=\"black\" x1=\"50%\" x2=\"50%\" y1=\"1.2em\" y2=\"3em\" /><svg width=\"25%\" x=\"75%\" y=\"3em\"><defs /><svg width=\"100%\" x=\"0\" y=\"0em\"><defs /><text text-anchor=\"middle\" x=\"50%\" y=\"1em\">C</text></svg></svg><line stroke=\"black\" x1=\"50%\" x2=\"87.5%\" y1=\"1.2em\" y2=\"3em\" /></svg><line stroke=\"black\" x1=\"50%\" x2=\"50%\" y1=\"1.2em\" y2=\"3em\" /><svg width=\"16.6667%\" x=\"83.3333%\" y=\"3em\"><defs /><svg width=\"100%\" x=\"0\" y=\"0em\"><defs /><text text-anchor=\"middle\" x=\"50%\" y=\"1em\">C</text></svg></svg><line stroke=\"black\" x1=\"50%\" x2=\"91.6667%\" y1=\"1.2em\" y2=\"3em\" /></svg><line stroke=\"black\" x1=\"50%\" x2=\"62.5%\" y1=\"1.2em\" y2=\"3em\" /></svg><line stroke=\"black\" x1=\"50%\" x2=\"75%\" y1=\"1.2em\" y2=\"3em\" /></svg><line stroke=\"black\" x1=\"50%\" x2=\"65.2174%\" y1=\"1.2em\" y2=\"3em\" /></svg><line stroke=\"black\" x1=\"50%\" x2=\"52.0833%\" y1=\"1.2em\" y2=\"3em\" /></svg><line stroke=\"black\" x1=\"50%\" x2=\"52%\" y1=\"1.2em\" y2=\"3em\" /></svg><line stroke=\"black\" x1=\"50%\" x2=\"50%\" y1=\"1.2em\" y2=\"3em\" /><svg width=\"3.7037%\" x=\"96.2963%\" y=\"3em\"><defs /><svg width=\"100%\" x=\"0\" y=\"0em\"><defs /><text text-anchor=\"middle\" x=\"50%\" y=\"1em\">A</text></svg></svg><line stroke=\"black\" x1=\"50%\" x2=\"98.1481%\" y1=\"1.2em\" y2=\"3em\" /></svg><line stroke=\"black\" x1=\"50%\" x2=\"50%\" y1=\"1.2em\" y2=\"3em\" /><svg width=\"3.44828%\" x=\"96.5517%\" y=\"3em\"><defs /><svg width=\"100%\" x=\"0\" y=\"0em\"><defs /><text text-anchor=\"middle\" x=\"50%\" y=\"1em\">U</text></svg></svg><line stroke=\"black\" x1=\"50%\" x2=\"98.2759%\" y1=\"1.2em\" y2=\"3em\" /></svg><line stroke=\"black\" x1=\"50%\" x2=\"48.3333%\" y1=\"1.2em\" y2=\"3em\" /><svg width=\"3.33333%\" x=\"96.6667%\" y=\"3em\"><defs /><svg width=\"100%\" x=\"0\" y=\"0em\"><defs /><text text-anchor=\"middle\" x=\"50%\" y=\"1em\">R</text></svg><svg width=\"100%\" x=\"0%\" y=\"3em\"><defs /><svg width=\"100%\" x=\"0\" y=\"0em\"><defs /><text text-anchor=\"middle\" x=\"50%\" y=\"1em\">G</text></svg><svg width=\"100%\" x=\"0%\" y=\"3em\"><defs /><svg width=\"100%\" x=\"0\" y=\"0em\"><defs /><text text-anchor=\"middle\" x=\"50%\" y=\"1em\">G</text></svg></svg><line stroke=\"black\" x1=\"50%\" x2=\"50%\" y1=\"1.2em\" y2=\"3em\" /></svg><line stroke=\"black\" x1=\"50%\" x2=\"50%\" y1=\"1.2em\" y2=\"3em\" /></svg><line stroke=\"black\" x1=\"50%\" x2=\"98.3333%\" y1=\"1.2em\" y2=\"3em\" /></svg>"
      ],
      "text/plain": [
       "<__main__.CM at 0x17113dc2430>"
      ]
     },
     "execution_count": 28,
     "metadata": {},
     "output_type": "execute_result"
    }
   ],
   "source": [
    "# Enkapsulacija RNK modelom kovarijacije\n",
    "CM(sekvenca, struktura)"
   ]
  },
  {
   "cell_type": "markdown",
   "id": "a305440a",
   "metadata": {},
   "source": [
    "## 6. Baza podataka *tRNAdb* [⮭]<a id=\"par:trnadb\"></a>\n",
    "\n",
    "[⮭]: #par:toc"
   ]
  },
  {
   "cell_type": "markdown",
   "id": "763189b8",
   "metadata": {},
   "source": [
    "Skup podataka preuzet je iz baze [*tRNAdb*](http://trna.bioinf.uni-leipzig.de/DataOutput/), koja sadrži $623$ različite anotirane *tRNK* sekvence. Konkretno, preuzete su $474$ sekvence koje ne potiču iz [mitohondrija](https://en.wikipedia.org/wiki/Mitochondrion) ili [plastida](https://en.wikipedia.org/wiki/Plastid). Zamisao je obraditi ih na način iznesen u nastavku. Priprema pred obučavanje – transformacija u stabla izvođenja – već je rešena."
   ]
  },
  {
   "cell_type": "markdown",
   "id": "69e27aec",
   "metadata": {},
   "source": [
    "<img src='../slike/pipeline.png' width='50%'>"
   ]
  },
  {
   "cell_type": "markdown",
   "id": "91076d00",
   "metadata": {},
   "source": [
    "Prvi korak prema nacrtanom planu jeste učitavanje podataka. Treba obraditi karekteristično formatirano zaglavlje, koje čuva podatke o organizmu i antikodonu."
   ]
  },
  {
   "cell_type": "code",
   "execution_count": 29,
   "id": "57f71657",
   "metadata": {},
   "outputs": [],
   "source": [
    "# Priprema zaglavlja iz baze\n",
    "def pripremi_zaglavlje(zaglavlje):\n",
    "    # Podela zaglavlja po separatoru\n",
    "    if isinstance(zaglavlje, str):\n",
    "        zaglavlje = zaglavlje.split('|')\n",
    "        \n",
    "        # Provera da li je sve u redu\n",
    "        if len(zaglavlje) != 5:\n",
    "            zaglavlje = None\n",
    "    else: zaglavlje = None\n",
    "    \n",
    "    # Skladištenje podataka u rečniku\n",
    "    return {'id': zaglavlje[0][1:] if zaglavlje else None,\n",
    "            'vrsta': zaglavlje[1] if zaglavlje else None,\n",
    "            'id_vrste': int(zaglavlje[2]) if zaglavlje else None,\n",
    "            'aminokiselina': zaglavlje[3] if zaglavlje else None,\n",
    "            'antikodon': zaglavlje[4] if zaglavlje else None}"
   ]
  },
  {
   "cell_type": "code",
   "execution_count": 30,
   "id": "db4f5430",
   "metadata": {},
   "outputs": [
    {
     "data": {
      "text/plain": [
       "{'id': 'tdbR00000589',\n",
       " 'vrsta': 'Aeropyrum_pernix',\n",
       " 'id_vrste': 56636,\n",
       " 'aminokiselina': 'Arg',\n",
       " 'antikodon': 'UCU'}"
      ]
     },
     "execution_count": 30,
     "metadata": {},
     "output_type": "execute_result"
    }
   ],
   "source": [
    "# Korektno zaglavlje\n",
    "pripremi_zaglavlje('>tdbR00000589|Aeropyrum_pernix|56636|Arg|UCU')"
   ]
  },
  {
   "cell_type": "code",
   "execution_count": 31,
   "id": "f39acb1f",
   "metadata": {},
   "outputs": [
    {
     "data": {
      "text/plain": [
       "{'id': None,\n",
       " 'vrsta': None,\n",
       " 'id_vrste': None,\n",
       " 'aminokiselina': None,\n",
       " 'antikodon': None}"
      ]
     },
     "execution_count": 31,
     "metadata": {},
     "output_type": "execute_result"
    }
   ],
   "source": [
    "# Nekorektno zaglavlje: nije niska\n",
    "pripremi_zaglavlje(None)"
   ]
  },
  {
   "cell_type": "markdown",
   "id": "870214a0",
   "metadata": {},
   "source": [
    "Klasa koja opisuje *tRNK* pored sekvence i strukture skladišti i opisno zaglavlje, kao i stabla izvođenja prema svim definisanim gramatikama."
   ]
  },
  {
   "cell_type": "code",
   "execution_count": 32,
   "id": "3bbc9a99",
   "metadata": {},
   "outputs": [],
   "source": [
    "# Transportna ribonukleinska kiselina\n",
    "class tRNK(Struktura2D):\n",
    "    def __init__(self, sekvenca, struktura, zaglavlje=None):\n",
    "        super().__init__(sekvenca, struktura)\n",
    "        \n",
    "        # Priprema zaglavlja iz baze\n",
    "        self.pripremi_zaglavlje(zaglavlje)\n",
    "        \n",
    "        # Određivanje svih stabala izvođenja\n",
    "        self.odredi_stabla()\n",
    "    \n",
    "    # Priprema zaglavlja iz baze\n",
    "    def pripremi_zaglavlje(self, zaglavlje):\n",
    "        # Čuvanje svih podataka iz zaglavlja\n",
    "        for atribut, vrednost in pripremi_zaglavlje(zaglavlje).items():\n",
    "            setattr(self, atribut, vrednost)\n",
    "        \n",
    "        # Čuvanje zaglavlja u originalu\n",
    "        self.zaglavlje = zaglavlje\n",
    "    \n",
    "    # Određivanje svih stabala izvođenja\n",
    "    def odredi_stabla(self):\n",
    "        # Stablo gramatike Nussinov\n",
    "        self.nussinov = Nussinov(self.sekvenca, self.struktura)\n",
    "        \n",
    "        # Stablo gramatike KH-99\n",
    "        self.kh99 = KH99(self.sekvenca, self.struktura)\n",
    "        \n",
    "        # Stablo modela kovarijacije\n",
    "        self.cm = CM(self.sekvenca, self.struktura)"
   ]
  },
  {
   "cell_type": "code",
   "execution_count": 33,
   "id": "2184b34f",
   "metadata": {},
   "outputs": [
    {
     "data": {
      "image/svg+xml": [
       "<svg baseProfile=\"full\" height=\"120px\" preserveAspectRatio=\"xMidYMid meet\" style=\"font-family: times, serif; font-weight:normal; font-style: normal; font-size: 16px;\" version=\"1.1\" viewBox=\"0,0,720.0,120.0\" width=\"720px\" xmlns=\"http://www.w3.org/2000/svg\" xmlns:ev=\"http://www.w3.org/2001/xml-events\" xmlns:xlink=\"http://www.w3.org/1999/xlink\"><defs /><svg width=\"100%\" x=\"0\" y=\"0em\"><defs /><text text-anchor=\"middle\" x=\"50%\" y=\"1em\">S</text></svg><svg width=\"3.33333%\" x=\"0%\" y=\"3em\"><defs /><svg width=\"100%\" x=\"0\" y=\"0em\"><defs /><text text-anchor=\"middle\" x=\"50%\" y=\"1em\">G</text></svg><svg width=\"100%\" x=\"0%\" y=\"3em\"><defs /><svg width=\"100%\" x=\"0\" y=\"0em\"><defs /><text text-anchor=\"middle\" x=\"50%\" y=\"1em\">(</text></svg></svg><line stroke=\"black\" x1=\"50%\" x2=\"50%\" y1=\"1.2em\" y2=\"3em\" /></svg><line stroke=\"black\" x1=\"50%\" x2=\"1.66667%\" y1=\"1.2em\" y2=\"3em\" /><svg width=\"3.33333%\" x=\"3.33333%\" y=\"3em\"><defs /><svg width=\"100%\" x=\"0\" y=\"0em\"><defs /><text text-anchor=\"middle\" x=\"50%\" y=\"1em\">U</text></svg><svg width=\"100%\" x=\"0%\" y=\"3em\"><defs /><svg width=\"100%\" x=\"0\" y=\"0em\"><defs /><text text-anchor=\"middle\" x=\"50%\" y=\"1em\">(</text></svg></svg><line stroke=\"black\" x1=\"50%\" x2=\"50%\" y1=\"1.2em\" y2=\"3em\" /></svg><line stroke=\"black\" x1=\"50%\" x2=\"5%\" y1=\"1.2em\" y2=\"3em\" /><svg width=\"3.33333%\" x=\"6.66667%\" y=\"3em\"><defs /><svg width=\"100%\" x=\"0\" y=\"0em\"><defs /><text text-anchor=\"middle\" x=\"50%\" y=\"1em\">U</text></svg><svg width=\"100%\" x=\"0%\" y=\"3em\"><defs /><svg width=\"100%\" x=\"0\" y=\"0em\"><defs /><text text-anchor=\"middle\" x=\"50%\" y=\"1em\">.</text></svg></svg><line stroke=\"black\" x1=\"50%\" x2=\"50%\" y1=\"1.2em\" y2=\"3em\" /></svg><line stroke=\"black\" x1=\"50%\" x2=\"8.33333%\" y1=\"1.2em\" y2=\"3em\" /><svg width=\"3.33333%\" x=\"10%\" y=\"3em\"><defs /><svg width=\"100%\" x=\"0\" y=\"0em\"><defs /><text text-anchor=\"middle\" x=\"50%\" y=\"1em\">A</text></svg><svg width=\"100%\" x=\"0%\" y=\"3em\"><defs /><svg width=\"100%\" x=\"0\" y=\"0em\"><defs /><text text-anchor=\"middle\" x=\"50%\" y=\"1em\">.</text></svg></svg><line stroke=\"black\" x1=\"50%\" x2=\"50%\" y1=\"1.2em\" y2=\"3em\" /></svg><line stroke=\"black\" x1=\"50%\" x2=\"11.6667%\" y1=\"1.2em\" y2=\"3em\" /><svg width=\"3.33333%\" x=\"13.3333%\" y=\"3em\"><defs /><svg width=\"100%\" x=\"0\" y=\"0em\"><defs /><text text-anchor=\"middle\" x=\"50%\" y=\"1em\">G</text></svg><svg width=\"100%\" x=\"0%\" y=\"3em\"><defs /><svg width=\"100%\" x=\"0\" y=\"0em\"><defs /><text text-anchor=\"middle\" x=\"50%\" y=\"1em\">(</text></svg></svg><line stroke=\"black\" x1=\"50%\" x2=\"50%\" y1=\"1.2em\" y2=\"3em\" /></svg><line stroke=\"black\" x1=\"50%\" x2=\"15%\" y1=\"1.2em\" y2=\"3em\" /><svg width=\"3.33333%\" x=\"16.6667%\" y=\"3em\"><defs /><svg width=\"100%\" x=\"0\" y=\"0em\"><defs /><text text-anchor=\"middle\" x=\"50%\" y=\"1em\">C</text></svg><svg width=\"100%\" x=\"0%\" y=\"3em\"><defs /><svg width=\"100%\" x=\"0\" y=\"0em\"><defs /><text text-anchor=\"middle\" x=\"50%\" y=\"1em\">(</text></svg></svg><line stroke=\"black\" x1=\"50%\" x2=\"50%\" y1=\"1.2em\" y2=\"3em\" /></svg><line stroke=\"black\" x1=\"50%\" x2=\"18.3333%\" y1=\"1.2em\" y2=\"3em\" /><svg width=\"3.33333%\" x=\"20%\" y=\"3em\"><defs /><svg width=\"100%\" x=\"0\" y=\"0em\"><defs /><text text-anchor=\"middle\" x=\"50%\" y=\"1em\">A</text></svg><svg width=\"100%\" x=\"0%\" y=\"3em\"><defs /><svg width=\"100%\" x=\"0\" y=\"0em\"><defs /><text text-anchor=\"middle\" x=\"50%\" y=\"1em\">.</text></svg></svg><line stroke=\"black\" x1=\"50%\" x2=\"50%\" y1=\"1.2em\" y2=\"3em\" /></svg><line stroke=\"black\" x1=\"50%\" x2=\"21.6667%\" y1=\"1.2em\" y2=\"3em\" /><svg width=\"3.33333%\" x=\"23.3333%\" y=\"3em\"><defs /><svg width=\"100%\" x=\"0\" y=\"0em\"><defs /><text text-anchor=\"middle\" x=\"50%\" y=\"1em\">U</text></svg><svg width=\"100%\" x=\"0%\" y=\"3em\"><defs /><svg width=\"100%\" x=\"0\" y=\"0em\"><defs /><text text-anchor=\"middle\" x=\"50%\" y=\"1em\">.</text></svg></svg><line stroke=\"black\" x1=\"50%\" x2=\"50%\" y1=\"1.2em\" y2=\"3em\" /></svg><line stroke=\"black\" x1=\"50%\" x2=\"25%\" y1=\"1.2em\" y2=\"3em\" /><svg width=\"3.33333%\" x=\"26.6667%\" y=\"3em\"><defs /><svg width=\"100%\" x=\"0\" y=\"0em\"><defs /><text text-anchor=\"middle\" x=\"50%\" y=\"1em\">C</text></svg><svg width=\"100%\" x=\"0%\" y=\"3em\"><defs /><svg width=\"100%\" x=\"0\" y=\"0em\"><defs /><text text-anchor=\"middle\" x=\"50%\" y=\"1em\">.</text></svg></svg><line stroke=\"black\" x1=\"50%\" x2=\"50%\" y1=\"1.2em\" y2=\"3em\" /></svg><line stroke=\"black\" x1=\"50%\" x2=\"28.3333%\" y1=\"1.2em\" y2=\"3em\" /><svg width=\"3.33333%\" x=\"30%\" y=\"3em\"><defs /><svg width=\"100%\" x=\"0\" y=\"0em\"><defs /><text text-anchor=\"middle\" x=\"50%\" y=\"1em\">G</text></svg><svg width=\"100%\" x=\"0%\" y=\"3em\"><defs /><svg width=\"100%\" x=\"0\" y=\"0em\"><defs /><text text-anchor=\"middle\" x=\"50%\" y=\"1em\">)</text></svg></svg><line stroke=\"black\" x1=\"50%\" x2=\"50%\" y1=\"1.2em\" y2=\"3em\" /></svg><line stroke=\"black\" x1=\"50%\" x2=\"31.6667%\" y1=\"1.2em\" y2=\"3em\" /><svg width=\"3.33333%\" x=\"33.3333%\" y=\"3em\"><defs /><svg width=\"100%\" x=\"0\" y=\"0em\"><defs /><text text-anchor=\"middle\" x=\"50%\" y=\"1em\">C</text></svg><svg width=\"100%\" x=\"0%\" y=\"3em\"><defs /><svg width=\"100%\" x=\"0\" y=\"0em\"><defs /><text text-anchor=\"middle\" x=\"50%\" y=\"1em\">)</text></svg></svg><line stroke=\"black\" x1=\"50%\" x2=\"50%\" y1=\"1.2em\" y2=\"3em\" /></svg><line stroke=\"black\" x1=\"50%\" x2=\"35%\" y1=\"1.2em\" y2=\"3em\" /><svg width=\"3.33333%\" x=\"36.6667%\" y=\"3em\"><defs /><svg width=\"100%\" x=\"0\" y=\"0em\"><defs /><text text-anchor=\"middle\" x=\"50%\" y=\"1em\">G</text></svg><svg width=\"100%\" x=\"0%\" y=\"3em\"><defs /><svg width=\"100%\" x=\"0\" y=\"0em\"><defs /><text text-anchor=\"middle\" x=\"50%\" y=\"1em\">.</text></svg></svg><line stroke=\"black\" x1=\"50%\" x2=\"50%\" y1=\"1.2em\" y2=\"3em\" /></svg><line stroke=\"black\" x1=\"50%\" x2=\"38.3333%\" y1=\"1.2em\" y2=\"3em\" /><svg width=\"3.33333%\" x=\"40%\" y=\"3em\"><defs /><svg width=\"100%\" x=\"0\" y=\"0em\"><defs /><text text-anchor=\"middle\" x=\"50%\" y=\"1em\">G</text></svg><svg width=\"100%\" x=\"0%\" y=\"3em\"><defs /><svg width=\"100%\" x=\"0\" y=\"0em\"><defs /><text text-anchor=\"middle\" x=\"50%\" y=\"1em\">(</text></svg></svg><line stroke=\"black\" x1=\"50%\" x2=\"50%\" y1=\"1.2em\" y2=\"3em\" /></svg><line stroke=\"black\" x1=\"50%\" x2=\"41.6667%\" y1=\"1.2em\" y2=\"3em\" /><svg width=\"3.33333%\" x=\"43.3333%\" y=\"3em\"><defs /><svg width=\"100%\" x=\"0\" y=\"0em\"><defs /><text text-anchor=\"middle\" x=\"50%\" y=\"1em\">G</text></svg><svg width=\"100%\" x=\"0%\" y=\"3em\"><defs /><svg width=\"100%\" x=\"0\" y=\"0em\"><defs /><text text-anchor=\"middle\" x=\"50%\" y=\"1em\">(</text></svg></svg><line stroke=\"black\" x1=\"50%\" x2=\"50%\" y1=\"1.2em\" y2=\"3em\" /></svg><line stroke=\"black\" x1=\"50%\" x2=\"45%\" y1=\"1.2em\" y2=\"3em\" /><svg width=\"3.33333%\" x=\"46.6667%\" y=\"3em\"><defs /><svg width=\"100%\" x=\"0\" y=\"0em\"><defs /><text text-anchor=\"middle\" x=\"50%\" y=\"1em\">A</text></svg><svg width=\"100%\" x=\"0%\" y=\"3em\"><defs /><svg width=\"100%\" x=\"0\" y=\"0em\"><defs /><text text-anchor=\"middle\" x=\"50%\" y=\"1em\">.</text></svg></svg><line stroke=\"black\" x1=\"50%\" x2=\"50%\" y1=\"1.2em\" y2=\"3em\" /></svg><line stroke=\"black\" x1=\"50%\" x2=\"48.3333%\" y1=\"1.2em\" y2=\"3em\" /><svg width=\"3.33333%\" x=\"50%\" y=\"3em\"><defs /><svg width=\"100%\" x=\"0\" y=\"0em\"><defs /><text text-anchor=\"middle\" x=\"50%\" y=\"1em\">A</text></svg><svg width=\"100%\" x=\"0%\" y=\"3em\"><defs /><svg width=\"100%\" x=\"0\" y=\"0em\"><defs /><text text-anchor=\"middle\" x=\"50%\" y=\"1em\">.</text></svg></svg><line stroke=\"black\" x1=\"50%\" x2=\"50%\" y1=\"1.2em\" y2=\"3em\" /></svg><line stroke=\"black\" x1=\"50%\" x2=\"51.6667%\" y1=\"1.2em\" y2=\"3em\" /><svg width=\"3.33333%\" x=\"53.3333%\" y=\"3em\"><defs /><svg width=\"100%\" x=\"0\" y=\"0em\"><defs /><text text-anchor=\"middle\" x=\"50%\" y=\"1em\">C</text></svg><svg width=\"100%\" x=\"0%\" y=\"3em\"><defs /><svg width=\"100%\" x=\"0\" y=\"0em\"><defs /><text text-anchor=\"middle\" x=\"50%\" y=\"1em\">)</text></svg></svg><line stroke=\"black\" x1=\"50%\" x2=\"50%\" y1=\"1.2em\" y2=\"3em\" /></svg><line stroke=\"black\" x1=\"50%\" x2=\"55%\" y1=\"1.2em\" y2=\"3em\" /><svg width=\"3.33333%\" x=\"56.6667%\" y=\"3em\"><defs /><svg width=\"100%\" x=\"0\" y=\"0em\"><defs /><text text-anchor=\"middle\" x=\"50%\" y=\"1em\">C</text></svg><svg width=\"100%\" x=\"0%\" y=\"3em\"><defs /><svg width=\"100%\" x=\"0\" y=\"0em\"><defs /><text text-anchor=\"middle\" x=\"50%\" y=\"1em\">)</text></svg></svg><line stroke=\"black\" x1=\"50%\" x2=\"50%\" y1=\"1.2em\" y2=\"3em\" /></svg><line stroke=\"black\" x1=\"50%\" x2=\"58.3333%\" y1=\"1.2em\" y2=\"3em\" /><svg width=\"3.33333%\" x=\"60%\" y=\"3em\"><defs /><svg width=\"100%\" x=\"0\" y=\"0em\"><defs /><text text-anchor=\"middle\" x=\"50%\" y=\"1em\">U</text></svg><svg width=\"100%\" x=\"0%\" y=\"3em\"><defs /><svg width=\"100%\" x=\"0\" y=\"0em\"><defs /><text text-anchor=\"middle\" x=\"50%\" y=\"1em\">.</text></svg></svg><line stroke=\"black\" x1=\"50%\" x2=\"50%\" y1=\"1.2em\" y2=\"3em\" /></svg><line stroke=\"black\" x1=\"50%\" x2=\"61.6667%\" y1=\"1.2em\" y2=\"3em\" /><svg width=\"3.33333%\" x=\"63.3333%\" y=\"3em\"><defs /><svg width=\"100%\" x=\"0\" y=\"0em\"><defs /><text text-anchor=\"middle\" x=\"50%\" y=\"1em\">U</text></svg><svg width=\"100%\" x=\"0%\" y=\"3em\"><defs /><svg width=\"100%\" x=\"0\" y=\"0em\"><defs /><text text-anchor=\"middle\" x=\"50%\" y=\"1em\">.</text></svg></svg><line stroke=\"black\" x1=\"50%\" x2=\"50%\" y1=\"1.2em\" y2=\"3em\" /></svg><line stroke=\"black\" x1=\"50%\" x2=\"65%\" y1=\"1.2em\" y2=\"3em\" /><svg width=\"3.33333%\" x=\"66.6667%\" y=\"3em\"><defs /><svg width=\"100%\" x=\"0\" y=\"0em\"><defs /><text text-anchor=\"middle\" x=\"50%\" y=\"1em\">U</text></svg><svg width=\"100%\" x=\"0%\" y=\"3em\"><defs /><svg width=\"100%\" x=\"0\" y=\"0em\"><defs /><text text-anchor=\"middle\" x=\"50%\" y=\"1em\">.</text></svg></svg><line stroke=\"black\" x1=\"50%\" x2=\"50%\" y1=\"1.2em\" y2=\"3em\" /></svg><line stroke=\"black\" x1=\"50%\" x2=\"68.3333%\" y1=\"1.2em\" y2=\"3em\" /><svg width=\"3.33333%\" x=\"70%\" y=\"3em\"><defs /><svg width=\"100%\" x=\"0\" y=\"0em\"><defs /><text text-anchor=\"middle\" x=\"50%\" y=\"1em\">G</text></svg><svg width=\"100%\" x=\"0%\" y=\"3em\"><defs /><svg width=\"100%\" x=\"0\" y=\"0em\"><defs /><text text-anchor=\"middle\" x=\"50%\" y=\"1em\">(</text></svg></svg><line stroke=\"black\" x1=\"50%\" x2=\"50%\" y1=\"1.2em\" y2=\"3em\" /></svg><line stroke=\"black\" x1=\"50%\" x2=\"71.6667%\" y1=\"1.2em\" y2=\"3em\" /><svg width=\"3.33333%\" x=\"73.3333%\" y=\"3em\"><defs /><svg width=\"100%\" x=\"0\" y=\"0em\"><defs /><text text-anchor=\"middle\" x=\"50%\" y=\"1em\">G</text></svg><svg width=\"100%\" x=\"0%\" y=\"3em\"><defs /><svg width=\"100%\" x=\"0\" y=\"0em\"><defs /><text text-anchor=\"middle\" x=\"50%\" y=\"1em\">(</text></svg></svg><line stroke=\"black\" x1=\"50%\" x2=\"50%\" y1=\"1.2em\" y2=\"3em\" /></svg><line stroke=\"black\" x1=\"50%\" x2=\"75%\" y1=\"1.2em\" y2=\"3em\" /><svg width=\"3.33333%\" x=\"76.6667%\" y=\"3em\"><defs /><svg width=\"100%\" x=\"0\" y=\"0em\"><defs /><text text-anchor=\"middle\" x=\"50%\" y=\"1em\">A</text></svg><svg width=\"100%\" x=\"0%\" y=\"3em\"><defs /><svg width=\"100%\" x=\"0\" y=\"0em\"><defs /><text text-anchor=\"middle\" x=\"50%\" y=\"1em\">.</text></svg></svg><line stroke=\"black\" x1=\"50%\" x2=\"50%\" y1=\"1.2em\" y2=\"3em\" /></svg><line stroke=\"black\" x1=\"50%\" x2=\"78.3333%\" y1=\"1.2em\" y2=\"3em\" /><svg width=\"3.33333%\" x=\"80%\" y=\"3em\"><defs /><svg width=\"100%\" x=\"0\" y=\"0em\"><defs /><text text-anchor=\"middle\" x=\"50%\" y=\"1em\">A</text></svg><svg width=\"100%\" x=\"0%\" y=\"3em\"><defs /><svg width=\"100%\" x=\"0\" y=\"0em\"><defs /><text text-anchor=\"middle\" x=\"50%\" y=\"1em\">.</text></svg></svg><line stroke=\"black\" x1=\"50%\" x2=\"50%\" y1=\"1.2em\" y2=\"3em\" /></svg><line stroke=\"black\" x1=\"50%\" x2=\"81.6667%\" y1=\"1.2em\" y2=\"3em\" /><svg width=\"3.33333%\" x=\"83.3333%\" y=\"3em\"><defs /><svg width=\"100%\" x=\"0\" y=\"0em\"><defs /><text text-anchor=\"middle\" x=\"50%\" y=\"1em\">C</text></svg><svg width=\"100%\" x=\"0%\" y=\"3em\"><defs /><svg width=\"100%\" x=\"0\" y=\"0em\"><defs /><text text-anchor=\"middle\" x=\"50%\" y=\"1em\">)</text></svg></svg><line stroke=\"black\" x1=\"50%\" x2=\"50%\" y1=\"1.2em\" y2=\"3em\" /></svg><line stroke=\"black\" x1=\"50%\" x2=\"85%\" y1=\"1.2em\" y2=\"3em\" /><svg width=\"3.33333%\" x=\"86.6667%\" y=\"3em\"><defs /><svg width=\"100%\" x=\"0\" y=\"0em\"><defs /><text text-anchor=\"middle\" x=\"50%\" y=\"1em\">C</text></svg><svg width=\"100%\" x=\"0%\" y=\"3em\"><defs /><svg width=\"100%\" x=\"0\" y=\"0em\"><defs /><text text-anchor=\"middle\" x=\"50%\" y=\"1em\">)</text></svg></svg><line stroke=\"black\" x1=\"50%\" x2=\"50%\" y1=\"1.2em\" y2=\"3em\" /></svg><line stroke=\"black\" x1=\"50%\" x2=\"88.3333%\" y1=\"1.2em\" y2=\"3em\" /><svg width=\"3.33333%\" x=\"90%\" y=\"3em\"><defs /><svg width=\"100%\" x=\"0\" y=\"0em\"><defs /><text text-anchor=\"middle\" x=\"50%\" y=\"1em\">A</text></svg><svg width=\"100%\" x=\"0%\" y=\"3em\"><defs /><svg width=\"100%\" x=\"0\" y=\"0em\"><defs /><text text-anchor=\"middle\" x=\"50%\" y=\"1em\">)</text></svg></svg><line stroke=\"black\" x1=\"50%\" x2=\"50%\" y1=\"1.2em\" y2=\"3em\" /></svg><line stroke=\"black\" x1=\"50%\" x2=\"91.6667%\" y1=\"1.2em\" y2=\"3em\" /><svg width=\"3.33333%\" x=\"93.3333%\" y=\"3em\"><defs /><svg width=\"100%\" x=\"0\" y=\"0em\"><defs /><text text-anchor=\"middle\" x=\"50%\" y=\"1em\">U</text></svg><svg width=\"100%\" x=\"0%\" y=\"3em\"><defs /><svg width=\"100%\" x=\"0\" y=\"0em\"><defs /><text text-anchor=\"middle\" x=\"50%\" y=\"1em\">)</text></svg></svg><line stroke=\"black\" x1=\"50%\" x2=\"50%\" y1=\"1.2em\" y2=\"3em\" /></svg><line stroke=\"black\" x1=\"50%\" x2=\"95%\" y1=\"1.2em\" y2=\"3em\" /><svg width=\"3.33333%\" x=\"96.6667%\" y=\"3em\"><defs /><svg width=\"100%\" x=\"0\" y=\"0em\"><defs /><text text-anchor=\"middle\" x=\"50%\" y=\"1em\">G</text></svg><svg width=\"100%\" x=\"0%\" y=\"3em\"><defs /><svg width=\"100%\" x=\"0\" y=\"0em\"><defs /><text text-anchor=\"middle\" x=\"50%\" y=\"1em\">.</text></svg></svg><line stroke=\"black\" x1=\"50%\" x2=\"50%\" y1=\"1.2em\" y2=\"3em\" /></svg><line stroke=\"black\" x1=\"50%\" x2=\"98.3333%\" y1=\"1.2em\" y2=\"3em\" /></svg>"
      ],
      "text/plain": [
       "<__main__.tRNK at 0x17113de3d90>"
      ]
     },
     "execution_count": 33,
     "metadata": {},
     "output_type": "execute_result"
    }
   ],
   "source": [
    "# Enkapsulacija RNK svim modelima\n",
    "tRNK(sekvenca, struktura)"
   ]
  },
  {
   "cell_type": "markdown",
   "id": "01d0e9a5",
   "metadata": {},
   "source": [
    "Neophodno je filtrirati neke u biti nekorektne sekvence koje imaju nepoznate nukleobaze (tačke i podvlake) ili neočekivana uparivanja poput $A-C$."
   ]
  },
  {
   "cell_type": "code",
   "execution_count": 34,
   "id": "e5759ee6",
   "metadata": {},
   "outputs": [],
   "source": [
    "# Provera da li je unos u bazi upotrebljiv\n",
    "def proveri_unos(sekvenca, zaglavlje=None):\n",
    "    return '.' not in sekvenca and '_' not in sekvenca and \\\n",
    "      (zaglavlje is None or ('tdbR00000205' not in zaglavlje\n",
    "                        and 'tdbR00000251' not in zaglavlje))"
   ]
  },
  {
   "cell_type": "code",
   "execution_count": 35,
   "id": "5abf1997",
   "metadata": {},
   "outputs": [
    {
     "data": {
      "text/plain": [
       "True"
      ]
     },
     "execution_count": 35,
     "metadata": {},
     "output_type": "execute_result"
    }
   ],
   "source": [
    "# Upotrebljiv unos u bazi\n",
    "proveri_unos('GC')"
   ]
  },
  {
   "cell_type": "code",
   "execution_count": 36,
   "id": "6f8e73f5",
   "metadata": {},
   "outputs": [
    {
     "data": {
      "text/plain": [
       "False"
      ]
     },
     "execution_count": 36,
     "metadata": {},
     "output_type": "execute_result"
    }
   ],
   "source": [
    "# Nepotrebljiv unos u bazi\n",
    "proveri_unos('G.')"
   ]
  },
  {
   "cell_type": "markdown",
   "id": "d6a3f267",
   "metadata": {},
   "source": [
    "Podaci se čitaju iz preuzete datoteke *tRNAdb.fst*, koja sadrži spisak svih *tRNK* u formatu zaglavlje-sekvenca-struktura, pri čemu su svi podaci razdvojeni novim redom. Kako se o svakoj *tRNK* čuvaju tačno tri informacije, ova datoteka, dakle, ukupno ima $3 \\cdot 474 = 1422$ reda koja treba obraditi."
   ]
  },
  {
   "cell_type": "code",
   "execution_count": 37,
   "id": "173f5dcf",
   "metadata": {
    "scrolled": true
   },
   "outputs": [],
   "source": [
    "# Čitanje podataka o tRNK\n",
    "def podaci(fst):\n",
    "    with open(fst, encoding='utf-8') as f:\n",
    "        fst = f.read().split()\n",
    "    \n",
    "    # Broj tRNK u skupu podataka\n",
    "    n = len(fst) // 3\n",
    "    \n",
    "    # Prolazak kroz sve tRNK\n",
    "    for i in range(n):\n",
    "        zaglavlje = fst[3*i]\n",
    "        sekvenca = fst[3*i + 1]\n",
    "        struktura = fst[3*i + 2]\n",
    "        \n",
    "        # Provera i konstrukcija tRNK\n",
    "        if proveri_unos(sekvenca, zaglavlje):\n",
    "            yield tRNK(sekvenca, struktura, zaglavlje)"
   ]
  },
  {
   "cell_type": "markdown",
   "id": "fe11aff8",
   "metadata": {},
   "source": [
    "Nakon filtriranja podataka, u skupu ostaju $432$ sasvim korektne sekvence, koje će i biti korišćene nadalje u obučavanju i proveri implementiranih gramatika."
   ]
  },
  {
   "cell_type": "code",
   "execution_count": 38,
   "id": "2d67042a",
   "metadata": {},
   "outputs": [
    {
     "data": {
      "text/plain": [
       "432"
      ]
     },
     "execution_count": 38,
     "metadata": {},
     "output_type": "execute_result"
    }
   ],
   "source": [
    "# Učitavanje podataka iz tRNAdb\n",
    "rnk = [*podaci('../podaci/tRNAdb.fst')]\n",
    "\n",
    "# Broj uspešno učitanih sekvenci\n",
    "len(rnk)"
   ]
  },
  {
   "cell_type": "markdown",
   "id": "cb715d53",
   "metadata": {},
   "source": [
    "Nad podacima je moguće uraditi razne eksploratorne analize. Primera radi, može se primetiti da je ubedljivo najčešće uparivanje $G-C$. Na drugom mestu je obrnuti par $C-G$, dok je dva do tri puta manje parova $A-U$ i $U-A$. Postoji i određeni nezanemarljivi broj nekanonskih parova $U-G$ i $G-U$."
   ]
  },
  {
   "cell_type": "code",
   "execution_count": 39,
   "id": "abf7dff1",
   "metadata": {
    "scrolled": true
   },
   "outputs": [
    {
     "data": {
      "text/plain": [
       "{'U': {'U': 0, 'A': 1206, 'G': 190, 'C': 0},\n",
       " 'A': {'U': 1066, 'A': 0, 'G': 0, 'C': 0},\n",
       " 'G': {'U': 370, 'A': 0, 'G': 0, 'C': 3631},\n",
       " 'C': {'U': 0, 'A': 0, 'G': 2497, 'C': 0}}"
      ]
     },
     "execution_count": 39,
     "metadata": {},
     "output_type": "execute_result"
    }
   ],
   "source": [
    "# Globalna uparenost na nivou skupa\n",
    "{rn_i: {rn_j: sum(r.uparenost[rn_i][rn_j] for r in rnk)\n",
    "        for rn_j in azbuka} for rn_i in azbuka}"
   ]
  },
  {
   "cell_type": "markdown",
   "id": "0ea2ec80",
   "metadata": {},
   "source": [
    "## 7. Konstrukcija modela [⮭]<a id=\"par:konstr\"></a>\n",
    "\n",
    "[⮭]: #par:toc"
   ]
  },
  {
   "cell_type": "markdown",
   "id": "acf66943",
   "metadata": {},
   "source": [
    "Modeli se konstruišu tako što se gramatika indukuje na osnovu skupa za obučavanje. U tom skupu se nalazi deo *tRNK* sa pridruženim stablima izvođenja. Iz svakog stabla moguće je izvući niz primenjenih pravila izvođenja, na osnovu kojih je nadalje moguće odrediti verovatnoće izvođenja u gramatici. Nakon obučavanja, gramatika može poslužiti za predviđanje struktura, i to pomoću [Viterbijevog](https://en.wikipedia.org/wiki/Viterbi_algorithm) parsera, koji određuje najverovatnije ([*CYK*](https://en.wikipedia.org/wiki/CYK_algorithm)) stablo izvođenja."
   ]
  },
  {
   "cell_type": "code",
   "execution_count": 40,
   "id": "b71b17b7",
   "metadata": {},
   "outputs": [],
   "source": [
    "# Biblioteka za rad sa PCFG\n",
    "from nltk import induce_pcfg, Nonterminal, ViterbiParser\n",
    "\n",
    "# Stohastička kontekstno slobodna gramatika\n",
    "class Model:\n",
    "    def __init__(self, trening):\n",
    "        # Pravljenje i obučavanje gramatike\n",
    "        self.gramatika = self.obuči(trening)\n",
    "        \n",
    "        # Sortiranje pravila radi lepšeg prikaza\n",
    "        self.gramatika.productions().sort(\n",
    "            key=lambda p: (p.lhs(), len(p.rhs()), p.prob()), reverse=True)\n",
    "        \n",
    "        # Pravljenje parsera nad gramatikom\n",
    "        self.parser = ViterbiParser(self.gramatika)\n",
    "    \n",
    "    # Prikaz gramatike u konzoli\n",
    "    def _ipython_display_(self):\n",
    "        print(self.gramatika)\n",
    "    \n",
    "    # Pravljenje i obučavanje gramatike\n",
    "    def obuči(self, trening):\n",
    "        # Izdvajanje svih stabala izvođenja\n",
    "        trening = map(self.drvo, trening)\n",
    "        \n",
    "        # Izdvajanje svih pravila izvođenja\n",
    "        pravila = [p for t in trening for p in t.productions()]\n",
    "        \n",
    "        # Indukcija gramatike nad pravilima\n",
    "        return induce_pcfg(Nonterminal('S'), pravila)\n",
    "    \n",
    "    # Pravljenje strukture na osnovu drveta\n",
    "    @staticmethod\n",
    "    def od_drveta(*drvo):\n",
    "        # Ukoliko je list, neuparena je baza\n",
    "        if isinstance(drvo[0], str):\n",
    "            if len(drvo) == 1:\n",
    "                return '.'\n",
    "            \n",
    "            # Tročlano izvođenje je uparivanje\n",
    "            if len(drvo) == 3:\n",
    "                return '(' + Model.od_drveta(*drvo[1]) + ')'\n",
    "        \n",
    "        # Sva ostala izvođenja se razlažu\n",
    "        return ''.join(Model.od_drveta(*d) for d in drvo)\n",
    "    \n",
    "    # Predviđanje jedne strukture\n",
    "    def predvidi(self, test):\n",
    "        # Izdvajanje sekvence testne RNK\n",
    "        sekvenca = test.sekvenca\n",
    "        \n",
    "        # Formiranje stabla izvođenja\n",
    "        stablo = self.parser.parse_one(sekvenca)\n",
    "        \n",
    "        # Formiranje strukture prema stablu\n",
    "        return Model.od_drveta(*stablo)"
   ]
  },
  {
   "cell_type": "markdown",
   "id": "56bbc211",
   "metadata": {},
   "source": [
    "Na prvom mestu, gramatika tipa Nusinov može se obučiti pomoću skupa za trening, pri čemu se samostalno izračunavaju verovatnoće primene pravila."
   ]
  },
  {
   "cell_type": "code",
   "execution_count": 41,
   "id": "ed93bd83",
   "metadata": {},
   "outputs": [],
   "source": [
    "# Obučena gramatika Nussinov\n",
    "class Nussinov_M(Model):\n",
    "    def __init__(self, trening):\n",
    "        super().__init__(trening)\n",
    "    \n",
    "    # Dohvatanje odgovarajućeg stabla\n",
    "    @staticmethod\n",
    "    def drvo(instanca):\n",
    "        return instanca.nussinov.drvo"
   ]
  },
  {
   "cell_type": "code",
   "execution_count": 42,
   "id": "40508b5f",
   "metadata": {},
   "outputs": [
    {
     "name": "stdout",
     "output_type": "stream",
     "text": [
      "Grammar with 11 productions (start state = S)\n",
      "    S -> 'G' S 'C' [0.0905911]\n",
      "    S -> 'C' S 'G' [0.0617045]\n",
      "    S -> 'U' S 'A' [0.0303525]\n",
      "    S -> 'A' S 'U' [0.0269874]\n",
      "    S -> 'G' S 'U' [0.00922903]\n",
      "    S -> 'U' S 'G' [0.00496435]\n",
      "    S -> S S [0.382688]\n",
      "    S -> 'A' [0.112048]\n",
      "    S -> 'U' [0.110515]\n",
      "    S -> 'G' [0.0900913]\n",
      "    S -> 'C' [0.0808289]\n"
     ]
    }
   ],
   "source": [
    "# Biblioteka za podelu skupa podataka\n",
    "from sklearn.model_selection import train_test_split\n",
    "\n",
    "# Podela na skupove za test i trening\n",
    "trening, test = train_test_split(rnk, random_state=0)\n",
    "\n",
    "# Obučena gramatika Nussinov\n",
    "nussinov = Nussinov_M(trening)\n",
    "\n",
    "# Prikaz instancirane gramatike\n",
    "nussinov"
   ]
  },
  {
   "cell_type": "markdown",
   "id": "504bd03a",
   "metadata": {},
   "source": [
    "I gramatika tipa *KH-99* može se obučiti pomoću skupa za trening, pri čemu se takođe samostalno izračunavaju pravila izvođenja i verovatnoće primene."
   ]
  },
  {
   "cell_type": "code",
   "execution_count": 43,
   "id": "c5265a19",
   "metadata": {},
   "outputs": [],
   "source": [
    "# Obučena gramatika KH-99\n",
    "class KH99_M(Model):\n",
    "    def __init__(self, trening):\n",
    "        super().__init__(trening)\n",
    "    \n",
    "    # Dohvatanje odgovarajućeg stabla\n",
    "    @staticmethod\n",
    "    def drvo(instanca):\n",
    "        return instanca.kh99.drvo"
   ]
  },
  {
   "cell_type": "code",
   "execution_count": 44,
   "id": "3dc96215",
   "metadata": {},
   "outputs": [
    {
     "name": "stdout",
     "output_type": "stream",
     "text": [
      "Grammar with 19 productions (start state = S)\n",
      "    S -> L S [0.860373]\n",
      "    S -> L [0.139627]\n",
      "    L -> 'G' F 'C' [0.050552]\n",
      "    L -> 'C' F 'G' [0.0192615]\n",
      "    L -> 'G' F 'U' [0.0124096]\n",
      "    L -> 'U' F 'A' [0.00989722]\n",
      "    L -> 'A' F 'U' [0.00738485]\n",
      "    L -> 'U' F 'G' [0.00137038]\n",
      "    L -> 'A' [0.256033]\n",
      "    L -> 'U' [0.252531]\n",
      "    L -> 'G' [0.205862]\n",
      "    L -> 'C' [0.184697]\n",
      "    F -> 'G' F 'C' [0.305895]\n",
      "    F -> 'C' F 'G' [0.238017]\n",
      "    F -> 'U' F 'A' [0.116255]\n",
      "    F -> 'A' F 'U' [0.106133]\n",
      "    F -> 'U' F 'G' [0.0194999]\n",
      "    F -> 'G' F 'U' [0.0169693]\n",
      "    F -> L S [0.197231]\n"
     ]
    }
   ],
   "source": [
    "# Obučena gramatika KH-99\n",
    "kh99 = KH99_M(trening)\n",
    "\n",
    "# Prikaz instancirane gramatike\n",
    "kh99"
   ]
  },
  {
   "cell_type": "markdown",
   "id": "521515bc",
   "metadata": {},
   "source": [
    "Šta je važilo za gramatiku tipa Nusinov i *KH-99*, važi i za kovarijacioni model: i on se obučava na osnovu izvođenja primenjenih u skupu za trening."
   ]
  },
  {
   "cell_type": "code",
   "execution_count": 45,
   "id": "28f70ebb",
   "metadata": {},
   "outputs": [],
   "source": [
    "# Obučeni model kovarijacije\n",
    "class CM_M(Model):\n",
    "    def __init__(self, trening):\n",
    "        super().__init__(trening)\n",
    "    \n",
    "    # Dohvatanje odgovarajućeg stabla\n",
    "    @staticmethod\n",
    "    def drvo(instanca):\n",
    "        return instanca.cm.drvo"
   ]
  },
  {
   "cell_type": "code",
   "execution_count": 46,
   "id": "6993a7fb",
   "metadata": {},
   "outputs": [
    {
     "name": "stdout",
     "output_type": "stream",
     "text": [
      "Grammar with 30 productions (start state = S)\n",
      "    Z^U -> 'G' Z^U 'C' [0.315679]\n",
      "    Z^U -> 'C' Z^U 'G' [0.220624]\n",
      "    Z^U -> 'U' Z^U 'A' [0.108909]\n",
      "    Z^U -> 'A' Z^U 'U' [0.0864609]\n",
      "    Z^U -> G Z^U G [0.0462995]\n",
      "    Z^U -> 'G' Z^U 'U' [0.0349]\n",
      "    Z^U -> 'U' Z^U 'G' [0.0166608]\n",
      "    Z^U -> L [0.170467]\n",
      "    Z^S4 -> L Z^U [1.0]\n",
      "    Z^S3 -> Z^U Z^S4 [1.0]\n",
      "    Z^S2 -> Z^U Z^S3 [1.0]\n",
      "    Z^S1 -> G Z^S2 [1.0]\n",
      "    Z^S -> 'G' Z^S 'C' [0.353146]\n",
      "    Z^S -> 'C' Z^S 'G' [0.229255]\n",
      "    Z^S -> 'A' Z^S 'U' [0.121961]\n",
      "    Z^S -> 'U' Z^S 'A' [0.110768]\n",
      "    Z^S -> 'G' Z^S 'U' [0.0301042]\n",
      "    Z^S -> 'U' Z^S 'G' [0.0208414]\n",
      "    Z^S -> G Z^S G [0.00887688]\n",
      "    Z^S -> G Z^S1 [0.125048]\n",
      "    S -> G Z^S R [0.037037]\n",
      "    S -> Z^S R [0.962963]\n",
      "    R -> G 'C' 'C' 'A' [0.978395]\n",
      "    R -> G [0.0216049]\n",
      "    L -> G L [0.838424]\n",
      "    L -> G G [0.161576]\n",
      "    G -> 'U' [0.305379]\n",
      "    G -> 'A' [0.280368]\n",
      "    G -> 'G' [0.249011]\n",
      "    G -> 'C' [0.165241]\n"
     ]
    }
   ],
   "source": [
    "# Obučeni model kovarijacije\n",
    "cm = CM_M(trening)\n",
    "\n",
    "# Prikaz instancirane gramatike\n",
    "cm"
   ]
  },
  {
   "cell_type": "markdown",
   "id": "132440d0",
   "metadata": {},
   "source": [
    "## 8. Poređenje modela [⮭]<a id=\"par:poredj\"></a>\n",
    "\n",
    "[⮭]: #par:toc"
   ]
  },
  {
   "cell_type": "markdown",
   "id": "6fef3fc7",
   "metadata": {},
   "source": [
    "Nakon što su modeli instacirani i obučeni, red je oceniti njihovu uspešnost. Za početak, napisana je klasa koja enkapsulira sva predviđanja. Ona predviđa strukturu *tRNK* iz skupa za testiranje na osnovu tri obučena modela, skladišti ih na disku, a čuva i njihove grafičke prikaze za potrebe vizuelne evaluacije."
   ]
  },
  {
   "cell_type": "code",
   "execution_count": 47,
   "id": "a8bb6a62",
   "metadata": {},
   "outputs": [],
   "source": [
    "# Biblioteka za JSON format\n",
    "import json\n",
    "\n",
    "# Biblioteka za fajl sistem\n",
    "import os, os.path\n",
    "\n",
    "# Biblioteka za crtanje\n",
    "import matplotlib.pyplot as plt\n",
    "\n",
    "# Sigurno otvaranje fajla\n",
    "def fopen(fajl):\n",
    "    # Pravljenje potrebnih direktorijuma\n",
    "    os.makedirs(os.path.dirname(fajl), exist_ok=True)\n",
    "    \n",
    "    # Otvaranje fajla za pisanje\n",
    "    return open(fajl, 'w')\n",
    "\n",
    "# Enkapsulirana sva predviđanja\n",
    "class tRNK_M:\n",
    "    def __init__(self, rnk):\n",
    "        # Putanja JSON predikcije\n",
    "        putanja = f'../predikcije/{rnk.id}.json'\n",
    "        \n",
    "        try:\n",
    "            # Pokušaj čitanja sa lokala\n",
    "            with open(putanja) as f:\n",
    "                rnk = json.load(f)\n",
    "\n",
    "            # Upisivanje vrednosti\n",
    "            for prop in rnk:\n",
    "                setattr(self, prop, rnk[prop])\n",
    "        except:\n",
    "            # Osnovni podaci o RNK\n",
    "            self.id = rnk.id\n",
    "            self.zaglavlje = rnk.zaglavlje\n",
    "            self.sekvenca = rnk.sekvenca\n",
    "            self.struktura = rnk.struktura\n",
    "            \n",
    "            # Predviđene strukture\n",
    "            self.nussinov = nussinov.predvidi(rnk)\n",
    "            self.kh99 = kh99.predvidi(rnk)\n",
    "            self.cm = cm.predvidi(rnk)\n",
    "            \n",
    "            # Upisivanje na lokal za ubuduće\n",
    "            with fopen(putanja) as f:\n",
    "                json.dump({'id': self.id,\n",
    "                           'zaglavlje': self.zaglavlje,\n",
    "                           'sekvenca': self.sekvenca,\n",
    "                           'struktura': self.struktura,\n",
    "                           'nussinov': self.nussinov,\n",
    "                           'kh99': self.kh99,\n",
    "                           'cm': self.cm}, f)\n",
    "        \n",
    "        # Evaluacija uspeha gramatika\n",
    "        self.mere(self.nussinov, 'nu')\n",
    "        self.mere(self.kh99, 'kh')\n",
    "        self.mere(self.cm, 'cm')\n",
    "        \n",
    "        # Putanja slike poređenja\n",
    "        putanja = f'../poredjenje/{self.id}.png'\n",
    "        \n",
    "        # Čuvanje slike strukture\n",
    "        if not os.path.exists(putanja):\n",
    "            self.sačuvaj_sliku(putanja)\n",
    "    \n",
    "    # Prikaz predviđanja u konzoli\n",
    "    def _ipython_display_(self):\n",
    "        self.uporedi_strukture()\n",
    "    \n",
    "    # Evaluacija uspeha gramatika\n",
    "    def mere(self, struktura, oznaka):\n",
    "        # Udeo jednakih elemenata strukture\n",
    "        jednakost = [i == j for i, j in zip(self.struktura, struktura)]\n",
    "        jednakost = sum(jednakost) / len(jednakost)\n",
    "        \n",
    "        # Mape uparenosti na osnovu strukture\n",
    "        _, stvarni = proveri_strukturu(self.struktura)\n",
    "        _, predvidjeni = proveri_strukturu(struktura)\n",
    "        \n",
    "        # Skupovi parova prema uparenostima\n",
    "        stvarni = set(stvarni.items())\n",
    "        predvidjeni = set(predvidjeni.items())\n",
    "        \n",
    "        # Određivanje odziva i preciznosti\n",
    "        presek = len(stvarni & predvidjeni)\n",
    "        odziv = presek / len(stvarni)\n",
    "        preciznost = presek / len(predvidjeni)\n",
    "        \n",
    "        # Popunjavanje odgovarajućih atributa\n",
    "        setattr(self, f'{oznaka}_jed', jednakost)\n",
    "        setattr(self, f'{oznaka}_odz', odziv)\n",
    "        setattr(self, f'{oznaka}_prec', preciznost)\n",
    "        setattr(self, f'{oznaka}_isti', preciznost == 1)\n",
    "        \n",
    "        # Određivanje niske za prikaz na slici\n",
    "        niska = f'[jednakost: {jednakost:.0%}] [odziv: {odziv:.0%}] [preciznost: {preciznost:.0%}]'\n",
    "        setattr(self, f'{oznaka}_niska', niska)\n",
    "    \n",
    "    # Ucrtavanje odabrane strukture\n",
    "    def ucrtaj_strukturu(self, ax, *args):\n",
    "        # Postavljanje naziva prema argumentima\n",
    "        ax.set_title('\\n'.join(args))\n",
    "        \n",
    "        # Crtanje strukture nad sekvencom\n",
    "        draw_struct(self.sekvenca, args[-1], ax=ax)\n",
    "    \n",
    "    # Poređenje predviđenih struktura\n",
    "    def uporedi_strukture(self):\n",
    "        # Pravljenje grafika za poređenje\n",
    "        fig, axs = plt.subplots(2, 2, figsize=(17, 14))\n",
    "\n",
    "        # Naslovljavanje grafika sekvencom\n",
    "        fig.suptitle('\\n'.join((self.zaglavlje, self.sekvenca, '')), fontsize=14)\n",
    "\n",
    "        # Ucrtavanje svih struktura\n",
    "        self.ucrtaj_strukturu(axs[0, 0], 'Stvarna struktura', self.struktura)\n",
    "        self.ucrtaj_strukturu(axs[0, 1], 'Nussinov struktura', self.nu_niska, self.nussinov)\n",
    "        self.ucrtaj_strukturu(axs[1, 0], 'KH-99 struktura', self.kh_niska, self.kh99)\n",
    "        self.ucrtaj_strukturu(axs[1, 1], 'CM struktura', self.cm_niska, self.cm)\n",
    "        \n",
    "        # Sređivanje grafikona\n",
    "        fig.tight_layout()\n",
    "        \n",
    "        # Vraćanje sređenog grafikona\n",
    "        return fig\n",
    "    \n",
    "    # Čuvanje slike strukture\n",
    "    def sačuvaj_sliku(self, putanja):\n",
    "        # Dohvatanje pripremljene slike\n",
    "        fig = self.uporedi_strukture()\n",
    "        \n",
    "        # Osiguravanje da postoji direktorijum\n",
    "        os.makedirs(os.path.dirname(putanja), exist_ok=True)\n",
    "        \n",
    "        # Čuvanje pripremljene slike\n",
    "        fig.savefig(putanja)\n",
    "        \n",
    "        # Zatvaranje da ne curi memorija\n",
    "        plt.close(fig)"
   ]
  },
  {
   "cell_type": "code",
   "execution_count": 48,
   "id": "6ed3d29f",
   "metadata": {},
   "outputs": [],
   "source": [
    "# Predviđanje strukture nad test skupom\n",
    "test = [*map(tRNK_M, test)]"
   ]
  },
  {
   "cell_type": "markdown",
   "id": "9f10254c",
   "metadata": {},
   "source": [
    "Intuitivan način provere modela jeste poređenje crteža struktura: vizuelno sličnija predviđanja su i suštinski bliža stvarnoj strukturi. Gramatika tipa Nusinov maksimizuje broj uparivanja, što je konceptualno opravdano, ali ipak ne odgovara stvarnosti. Gramatika *KH-99* je ozbiljnija: uspešno predviđa opštu formu uvijanja, ali ipak nedovoljno tačno. Očekivano, model kovarijacije ponaša se najbolje: čuva najviše podataka o kontekstu, te ima najveći broj parametara."
   ]
  },
  {
   "cell_type": "code",
   "execution_count": 49,
   "id": "b66b2482",
   "metadata": {},
   "outputs": [
    {
     "data": {
      "image/png": "[encoded data removed]",
      "text/plain": [
       "<Figure size 1224x1008 with 4 Axes>"
      ]
     },
     "metadata": {
      "needs_background": "light"
     },
     "output_type": "display_data"
    }
   ],
   "source": [
    "# Grafički prikaz uspešnosti modela\n",
    "test[31]"
   ]
  },
  {
   "cell_type": "markdown",
   "id": "8c648c9f",
   "metadata": {},
   "source": [
    "Ipak, značajno je uvesti i neke numeričke mere uspešnosti. Jednostavna, ali možda previše optimistična mera, jeste udeo tačno predviđenih oznaka, odnosno udeo pogođenih karaktera (tačke ili zagrade). Njega je moguće izračunati na nivou pojedinačnih *RNK*, a zatim uprosečiti nad celim skupom za proveru. Druga, analogna, ali možda previše pesimistična mera, jeste udeo sasvim pogođenih struktura na celom skupu. Ove mere uzimaju u obzir celu sekvencu."
   ]
  },
  {
   "cell_type": "markdown",
   "id": "3f2c2c3e",
   "metadata": {},
   "source": [
    "<img src='../slike/mere.png' width='55%'>"
   ]
  },
  {
   "cell_type": "markdown",
   "id": "1c8c1639",
   "metadata": {},
   "source": [
    "Alternativno, problem predviđanja sekundarne strukture može se shvatiti kao problem [pretraživanja informacija](https://en.wikipedia.org/wiki/Information_retrieval). U tom slučaju, informacijom (dokumentom) smatra se podatak da su dve baze uparene. Drugim rečima, informacija je par $(i, j)$, pri uslovu $i < j$, što označava da su uparene baze na pozicijama $i$ i $j$. Relevantne [mere uspešnosti](https://en.wikipedia.org/wiki/Precision_and_recall) ovde su odziv (osetljivost, senzitivnost, udeo stvarno pozitivnih, *TPR*) i preciznost (pozitivna prediktivna vrednost, *PPV*)."
   ]
  },
  {
   "cell_type": "code",
   "execution_count": 50,
   "id": "292cc390",
   "metadata": {},
   "outputs": [],
   "source": [
    "# Biblioteka za rad sa tabelama\n",
    "import pandas as pd\n",
    "\n",
    "# Biblioteka za Dekartov proizvod\n",
    "from itertools import product\n",
    "\n",
    "# Procentualni prikaz svih realnih brojeva\n",
    "pd.set_option('display.float_format', '{:.0%}'.format)\n",
    "\n",
    "# Spisak svih kolona tabele\n",
    "kolone = [*map(''.join, product(['nu_', 'kh_', 'cm_'], ['jed', 'odz', 'prec', 'isti']))]\n",
    "\n",
    "# Tabeliranje prosleđenog skupa\n",
    "def tabeliraj(rnk):\n",
    "    # Prazna tabela sa odgovarajućim kolonama\n",
    "    tabela = pd.DataFrame(columns=kolone)\n",
    "\n",
    "    # Sortiranje prema identifikatoru\n",
    "    rnk.sort(key=lambda r: r.id)\n",
    "\n",
    "    # Tabeliranje prosleđenih RNK\n",
    "    for r in rnk:\n",
    "        tabela.loc[r.id] = [getattr(r, k) for k in kolone]\n",
    "    \n",
    "    # Pretvaranje svega u objekte\n",
    "    tabela = tabela.astype('object')\n",
    "    \n",
    "    # Izračuvanje proseka svih mera\n",
    "    tabela.loc[''] = tabela.mean()\n",
    "\n",
    "    # Upisivanje na lokal za ubuduće\n",
    "    with fopen(f'../podaci/rezultati.csv') as f:\n",
    "        tabela.to_csv(f)\n",
    "    \n",
    "    # Prikaz izračunate tabele\n",
    "    display(tabela)"
   ]
  },
  {
   "cell_type": "markdown",
   "id": "f4aefb68",
   "metadata": {},
   "source": [
    "Na skupu za proveru, kako je i očekivano, najbolje se ponaša model kovarijacije. Više od pola struktura je sasvim tačno predviđeno, dok su ostale mere blizu maksimuma. Gramatika *KH-99* pogađa skoro dve petine tačnih struktura, a dobre su joj i ostale mere. Gramatika tipa Nusinov nema potpunih pogodaka. Svi rezultati tabelirani su tako da redovi predstavljaju pojedinačne *RNK*, dok su kolone mere nad instancom. Poslednji red skladišti proseke na celom skupu."
   ]
  },
  {
   "cell_type": "code",
   "execution_count": 51,
   "id": "21fde1a6",
   "metadata": {},
   "outputs": [
    {
     "data": {
      "text/html": [
       "<div>\n",
       "<style scoped>\n",
       "    .dataframe tbody tr th:only-of-type {\n",
       "        vertical-align: middle;\n",
       "    }\n",
       "\n",
       "    .dataframe tbody tr th {\n",
       "        vertical-align: top;\n",
       "    }\n",
       "\n",
       "    .dataframe thead th {\n",
       "        text-align: right;\n",
       "    }\n",
       "</style>\n",
       "<table border=\"1\" class=\"dataframe\">\n",
       "  <thead>\n",
       "    <tr style=\"text-align: right;\">\n",
       "      <th></th>\n",
       "      <th>nu_jed</th>\n",
       "      <th>nu_odz</th>\n",
       "      <th>nu_prec</th>\n",
       "      <th>nu_isti</th>\n",
       "      <th>kh_jed</th>\n",
       "      <th>kh_odz</th>\n",
       "      <th>kh_prec</th>\n",
       "      <th>kh_isti</th>\n",
       "      <th>cm_jed</th>\n",
       "      <th>cm_odz</th>\n",
       "      <th>cm_prec</th>\n",
       "      <th>cm_isti</th>\n",
       "    </tr>\n",
       "  </thead>\n",
       "  <tbody>\n",
       "    <tr>\n",
       "      <th>tdbR00000002</th>\n",
       "      <td>52%</td>\n",
       "      <td>19%</td>\n",
       "      <td>13%</td>\n",
       "      <td>False</td>\n",
       "      <td>76%</td>\n",
       "      <td>81%</td>\n",
       "      <td>77%</td>\n",
       "      <td>False</td>\n",
       "      <td>95%</td>\n",
       "      <td>100%</td>\n",
       "      <td>91%</td>\n",
       "      <td>False</td>\n",
       "    </tr>\n",
       "    <tr>\n",
       "      <th>tdbR00000003</th>\n",
       "      <td>35%</td>\n",
       "      <td>0%</td>\n",
       "      <td>0%</td>\n",
       "      <td>False</td>\n",
       "      <td>100%</td>\n",
       "      <td>100%</td>\n",
       "      <td>100%</td>\n",
       "      <td>True</td>\n",
       "      <td>100%</td>\n",
       "      <td>100%</td>\n",
       "      <td>100%</td>\n",
       "      <td>True</td>\n",
       "    </tr>\n",
       "    <tr>\n",
       "      <th>tdbR00000004</th>\n",
       "      <td>39%</td>\n",
       "      <td>14%</td>\n",
       "      <td>10%</td>\n",
       "      <td>False</td>\n",
       "      <td>95%</td>\n",
       "      <td>100%</td>\n",
       "      <td>91%</td>\n",
       "      <td>False</td>\n",
       "      <td>83%</td>\n",
       "      <td>76%</td>\n",
       "      <td>80%</td>\n",
       "      <td>False</td>\n",
       "    </tr>\n",
       "    <tr>\n",
       "      <th>tdbR00000005</th>\n",
       "      <td>47%</td>\n",
       "      <td>0%</td>\n",
       "      <td>0%</td>\n",
       "      <td>False</td>\n",
       "      <td>75%</td>\n",
       "      <td>71%</td>\n",
       "      <td>65%</td>\n",
       "      <td>False</td>\n",
       "      <td>100%</td>\n",
       "      <td>100%</td>\n",
       "      <td>100%</td>\n",
       "      <td>True</td>\n",
       "    </tr>\n",
       "    <tr>\n",
       "      <th>tdbR00000012</th>\n",
       "      <td>63%</td>\n",
       "      <td>50%</td>\n",
       "      <td>32%</td>\n",
       "      <td>False</td>\n",
       "      <td>95%</td>\n",
       "      <td>90%</td>\n",
       "      <td>100%</td>\n",
       "      <td>True</td>\n",
       "      <td>91%</td>\n",
       "      <td>75%</td>\n",
       "      <td>83%</td>\n",
       "      <td>False</td>\n",
       "    </tr>\n",
       "    <tr>\n",
       "      <th>...</th>\n",
       "      <td>...</td>\n",
       "      <td>...</td>\n",
       "      <td>...</td>\n",
       "      <td>...</td>\n",
       "      <td>...</td>\n",
       "      <td>...</td>\n",
       "      <td>...</td>\n",
       "      <td>...</td>\n",
       "      <td>...</td>\n",
       "      <td>...</td>\n",
       "      <td>...</td>\n",
       "      <td>...</td>\n",
       "    </tr>\n",
       "    <tr>\n",
       "      <th>tdbR00000613</th>\n",
       "      <td>47%</td>\n",
       "      <td>24%</td>\n",
       "      <td>16%</td>\n",
       "      <td>False</td>\n",
       "      <td>76%</td>\n",
       "      <td>76%</td>\n",
       "      <td>76%</td>\n",
       "      <td>False</td>\n",
       "      <td>95%</td>\n",
       "      <td>95%</td>\n",
       "      <td>95%</td>\n",
       "      <td>False</td>\n",
       "    </tr>\n",
       "    <tr>\n",
       "      <th>tdbR00000617</th>\n",
       "      <td>47%</td>\n",
       "      <td>29%</td>\n",
       "      <td>19%</td>\n",
       "      <td>False</td>\n",
       "      <td>84%</td>\n",
       "      <td>76%</td>\n",
       "      <td>94%</td>\n",
       "      <td>False</td>\n",
       "      <td>95%</td>\n",
       "      <td>95%</td>\n",
       "      <td>95%</td>\n",
       "      <td>False</td>\n",
       "    </tr>\n",
       "    <tr>\n",
       "      <th>tdbR00000620</th>\n",
       "      <td>65%</td>\n",
       "      <td>43%</td>\n",
       "      <td>31%</td>\n",
       "      <td>False</td>\n",
       "      <td>97%</td>\n",
       "      <td>95%</td>\n",
       "      <td>100%</td>\n",
       "      <td>True</td>\n",
       "      <td>97%</td>\n",
       "      <td>76%</td>\n",
       "      <td>76%</td>\n",
       "      <td>False</td>\n",
       "    </tr>\n",
       "    <tr>\n",
       "      <th>tdbR00000623</th>\n",
       "      <td>51%</td>\n",
       "      <td>33%</td>\n",
       "      <td>22%</td>\n",
       "      <td>False</td>\n",
       "      <td>97%</td>\n",
       "      <td>100%</td>\n",
       "      <td>95%</td>\n",
       "      <td>False</td>\n",
       "      <td>97%</td>\n",
       "      <td>100%</td>\n",
       "      <td>95%</td>\n",
       "      <td>False</td>\n",
       "    </tr>\n",
       "    <tr>\n",
       "      <th></th>\n",
       "      <td>48%</td>\n",
       "      <td>27%</td>\n",
       "      <td>18%</td>\n",
       "      <td>0%</td>\n",
       "      <td>89%</td>\n",
       "      <td>86%</td>\n",
       "      <td>86%</td>\n",
       "      <td>38%</td>\n",
       "      <td>96%</td>\n",
       "      <td>93%</td>\n",
       "      <td>93%</td>\n",
       "      <td>54%</td>\n",
       "    </tr>\n",
       "  </tbody>\n",
       "</table>\n",
       "<p>109 rows × 12 columns</p>\n",
       "</div>"
      ],
      "text/plain": [
       "             nu_jed nu_odz nu_prec nu_isti kh_jed kh_odz kh_prec kh_isti  \\\n",
       "tdbR00000002    52%    19%     13%   False    76%    81%     77%   False   \n",
       "tdbR00000003    35%     0%      0%   False   100%   100%    100%    True   \n",
       "tdbR00000004    39%    14%     10%   False    95%   100%     91%   False   \n",
       "tdbR00000005    47%     0%      0%   False    75%    71%     65%   False   \n",
       "tdbR00000012    63%    50%     32%   False    95%    90%    100%    True   \n",
       "...             ...    ...     ...     ...    ...    ...     ...     ...   \n",
       "tdbR00000613    47%    24%     16%   False    76%    76%     76%   False   \n",
       "tdbR00000617    47%    29%     19%   False    84%    76%     94%   False   \n",
       "tdbR00000620    65%    43%     31%   False    97%    95%    100%    True   \n",
       "tdbR00000623    51%    33%     22%   False    97%   100%     95%   False   \n",
       "                48%    27%     18%      0%    89%    86%     86%     38%   \n",
       "\n",
       "             cm_jed cm_odz cm_prec cm_isti  \n",
       "tdbR00000002    95%   100%     91%   False  \n",
       "tdbR00000003   100%   100%    100%    True  \n",
       "tdbR00000004    83%    76%     80%   False  \n",
       "tdbR00000005   100%   100%    100%    True  \n",
       "tdbR00000012    91%    75%     83%   False  \n",
       "...             ...    ...     ...     ...  \n",
       "tdbR00000613    95%    95%     95%   False  \n",
       "tdbR00000617    95%    95%     95%   False  \n",
       "tdbR00000620    97%    76%     76%   False  \n",
       "tdbR00000623    97%   100%     95%   False  \n",
       "                96%    93%     93%     54%  \n",
       "\n",
       "[109 rows x 12 columns]"
      ]
     },
     "metadata": {},
     "output_type": "display_data"
    }
   ],
   "source": [
    "# Tabeliranje rezultata na test skupu\n",
    "tabeliraj(test)"
   ]
  },
  {
   "cell_type": "markdown",
   "id": "237feb82",
   "metadata": {},
   "source": [
    "Korisno je ilustrovati zavisnost udela pogodaka od složenosti modela. Nije neobično što se bolje ponašaju modeli sa većim brojem verovatnosnih parametara, ali pitanje je koliko ima smisla nadalje usložnjavati model. Najprostija gramatika tipa Nusinov ima $11$ parametara, *KH-99* ima $19$, a kovarijacioni model $26$."
   ]
  },
  {
   "cell_type": "code",
   "execution_count": 52,
   "id": "680a21d8",
   "metadata": {},
   "outputs": [],
   "source": [
    "# Veličina grafikona\n",
    "plt.rcParams['figure.figsize'] = 13, 5\n",
    "\n",
    "# Zavisnost pogodaka od parametara\n",
    "def zavisnost(parametri, isti, preciznost, odziv, jednakost):\n",
    "    # Ucrtavanje mera uspešnosti\n",
    "    plt.plot(isti, parametri, label='Tačne strukture')\n",
    "    plt.plot(preciznost, parametri, label='Preciznost (PPV)')\n",
    "    plt.plot(odziv, parametri, label='Odziv (TPR)')\n",
    "    plt.plot(jednakost, parametri, label='Tačni karakteri')\n",
    "    \n",
    "    # Crtanje prazne linije zbog dimenzija\n",
    "    plt.plot([0, 100], [min(parametri), max(parametri)], linestyle='None')\n",
    "    \n",
    "    # Naslovi grafikona i osa\n",
    "    plt.title('Zavisnost udela pogodaka od broja parametara modela')\n",
    "    plt.xlabel('Udeo pogodaka na skupu za proveru')\n",
    "    plt.ylabel('Broj parametara modela')\n",
    "    \n",
    "    # Crtanje legende grafika\n",
    "    plt.legend()"
   ]
  },
  {
   "cell_type": "markdown",
   "id": "ffbeb1af",
   "metadata": {},
   "source": [
    "Primetno je da odnos nije linearan. Znatno brže raste broj parametara od udela pogodaka, pa verovatno ne bi bilo efikasno dalje usložnjavati model."
   ]
  },
  {
   "cell_type": "code",
   "execution_count": 53,
   "id": "31b22502",
   "metadata": {},
   "outputs": [
    {
     "data": {
      "image/png": "[encoded data removed]",
      "text/plain": [
       "<Figure size 936x360 with 1 Axes>"
      ]
     },
     "metadata": {
      "needs_background": "light"
     },
     "output_type": "display_data"
    }
   ],
   "source": [
    "# Broj parametara modela\n",
    "parametri = [11, 19, 26]\n",
    "\n",
    "# Mere uspešnosti modela\n",
    "isti = [0, 38, 54]\n",
    "preciznost = [18, 86, 93]\n",
    "odziv = [27, 86, 93]\n",
    "jednakost = [48, 89, 96]\n",
    "\n",
    "# Zavisnost pogodaka od parametara\n",
    "zavisnost(parametri, isti, preciznost, odziv, jednakost)"
   ]
  },
  {
   "cell_type": "markdown",
   "id": "9b42f3aa",
   "metadata": {},
   "source": [
    "## 9. Zaključne odredbe [⮭]<a id=\"par:zaklj\"></a>\n",
    "\n",
    "[⮭]: #par:toc"
   ]
  },
  {
   "cell_type": "markdown",
   "id": "32fe7b5e",
   "metadata": {},
   "source": [
    "Ribonukleinska kiselina se najčešće predstavlja kao niska nad azbukom ribonukleotida, koja ponekad sadrži i modifikovane baze. To je njena primarna struktura. Transportna *RNK* pritom ima karakterističnu sekundarnu strukturu u obliku deteline sa tri lista. Ona je predstavljena niskom koja se sastoji od tačke (neuparene baze) i zagrada (uparivanja). Razmotrena je primena probabilističkih kontekstno slobodnih gramatika (*PCFG*) u predviđanju uvijanja *tRNK*."
   ]
  },
  {
   "cell_type": "markdown",
   "id": "c8c17cad",
   "metadata": {},
   "source": [
    "Opisane su i implementirane tri *PCFG* koje se mogu upotrebiti u svrhe predviđanja: Nusinov, *KH-99* i svojevrsni model kovarijacije (*CM*). Prokomentarisane su karakteristike, prednosti i mane svake. Zatim je preuzet skup *tRNK* iz baze *tRNAdb* sa pridruženim strukturama, nakon čega su na delu podataka obučene predstavljene gramatike. Gotovi modeli iskorišćeni su za predviđanje sekundarne strukture drugog dela podataka, što je poslužilo za evaluaciju modela."
   ]
  },
  {
   "cell_type": "markdown",
   "id": "b4065d01",
   "metadata": {},
   "source": [
    "Rezultati su upoređeni kako vizuelno, tako i upotrebom numeričkih mera uspešnosti karakterističnih za istraživanje podataka: udeo sasvim tačno predviđenih (elemenata) struktura, odziv, preciznost. Najbolje se pokazao ujedno i najsloženiji *CM*, sa preko pola tačnih struktura, a ostalim merama bliskih maksimumu. Dobro se pokazala i gramatika *KH-99*, dok ona tipa Nusinov ima samo teorijski značaj. Svi zaključci su u saglasnosti sa rezultatima iz srodne [literature](https://bmcbioinformatics.biomedcentral.com/articles/10.1186/1471-2105-5-71)."
   ]
  }
 ],
 "metadata": {
  "kernelspec": {
   "display_name": "Python 3 (ipykernel)",
   "language": "python",
   "name": "python3"
  },
  "language_info": {
   "codemirror_mode": {
    "name": "ipython",
    "version": 3
   },
   "file_extension": ".py",
   "mimetype": "text/x-python",
   "name": "python",
   "nbconvert_exporter": "python",
   "pygments_lexer": "ipython3",
   "version": "3.9.7"
  }
 },
 "nbformat": 4,
 "nbformat_minor": 5
}
